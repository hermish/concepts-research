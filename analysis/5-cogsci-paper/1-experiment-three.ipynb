{
 "cells": [
  {
   "cell_type": "markdown",
   "metadata": {},
   "source": [
    "# Experiment One\n",
    "\n",
    "The first study, called `experiment-one`, looked at the effect of social influence on curiousity, using upvotes as proxy for social interest. Below we analyze the responses to test the hypothesis that the same questions, when given higher upvotes, receive higher scores from participants with regards to curiousity. And, further, whether this translates into participants being more likely to choose to view the answers to the questions with higher upvotes.\n",
    "\n",
    "## Analysis"
   ]
  },
  {
   "cell_type": "code",
   "execution_count": 110,
   "metadata": {},
   "outputs": [
    {
     "name": "stdout",
     "output_type": "stream",
     "text": [
      "The pycodestyle_magic extension is already loaded. To reload it, use:\n",
      "  %reload_ext pycodestyle_magic\n"
     ]
    }
   ],
   "source": [
    "%load_ext pycodestyle_magic"
   ]
  },
  {
   "cell_type": "code",
   "execution_count": 146,
   "metadata": {},
   "outputs": [
    {
     "name": "stderr",
     "output_type": "stream",
     "text": [
      "/Users/hermish/anaconda/lib/python3.6/site-packages/statsmodels/compat/pandas.py:56: FutureWarning: The pandas.core.datetools module is deprecated and will be removed in a future version. Please use the pandas.tseries module instead.\n",
      "  from pandas.core import datetools\n"
     ]
    }
   ],
   "source": [
    "# Analytical Tools\n",
    "import numpy as np\n",
    "import pandas as pd\n",
    "import scipy\n",
    "import matplotlib.pyplot as plt\n",
    "import seaborn as sns\n",
    "from scipy import stats\n",
    "import statsmodels.api as sm\n",
    "\n",
    "# General Utilities\n",
    "import math\n",
    "import json\n",
    "import pprint\n",
    "import itertools\n",
    "import importlib\n",
    "\n",
    "# Custom Utilities\n",
    "import utilities.processing as processing\n",
    "import utilities.plotting as plotting\n",
    "import utilities.describe as describe\n",
    "\n",
    "# Some settings\n",
    "from IPython.display import Markdown, display\n",
    "log = pprint.pprint\n",
    "printmd = lambda text: display(Markdown(text))\n",
    "%matplotlib inline\n",
    "%config InlineBackend.figure_format = 'retina'"
   ]
  },
  {
   "cell_type": "markdown",
   "metadata": {},
   "source": [
    "### Reading Data and Defining Constants"
   ]
  },
  {
   "cell_type": "code",
   "execution_count": 112,
   "metadata": {
    "collapsed": true
   },
   "outputs": [],
   "source": [
    "FILE_NAMES = [\n",
    "    'raw-data/questions-and-answers-clean.json',\n",
    "    'raw-data/judgments.json',\n",
    "    'raw-data/responses.json'\n",
    "]\n",
    "\n",
    "NUM_QUESTIONS, NUM_JUDGEMENTS = 10, 7\n",
    "GROUP_SIZE = NUM_QUESTIONS // 2\n",
    "\n",
    "ALL_LABELS = processing.get_all_labels(NUM_QUESTIONS)\n",
    "LOW_LABELS, HIGH_LABELS = ALL_LABELS[:GROUP_SIZE], ALL_LABELS[GROUP_SIZE:]\n",
    "JUDGMENT_LABELS = processing.get_judgment_labels(NUM_JUDGEMENTS)\n",
    "\n",
    "LITERALS = []\n",
    "for name in FILE_NAMES[:2]:\n",
    "    with open(name) as file:\n",
    "         LITERALS.append(json.load(file))\n",
    "with open(FILE_NAMES[2]) as file:\n",
    "    master_responses = [json.loads(line) for line in file if line]"
   ]
  },
  {
   "cell_type": "markdown",
   "metadata": {},
   "source": [
    "### Reading Responses into Data\n",
    "Creates a `DataFrame` based on the survey data."
   ]
  },
  {
   "cell_type": "code",
   "execution_count": 113,
   "metadata": {
    "collapsed": true
   },
   "outputs": [],
   "source": [
    "col_labels = processing.get_col_labels(NUM_QUESTIONS,\n",
    "                                       NUM_JUDGEMENTS)\n",
    "data = {label: [] for label in col_labels}"
   ]
  },
  {
   "cell_type": "code",
   "execution_count": 114,
   "metadata": {
    "collapsed": true
   },
   "outputs": [],
   "source": [
    "processing.fill_experiment_three_data(data, master_responses)"
   ]
  },
  {
   "cell_type": "code",
   "execution_count": 115,
   "metadata": {},
   "outputs": [
    {
     "name": "stdout",
     "output_type": "stream",
     "text": [
      "30401 301\n"
     ]
    },
    {
     "data": {
      "text/html": [
       "<div>\n",
       "<style>\n",
       "    .dataframe thead tr:only-child th {\n",
       "        text-align: right;\n",
       "    }\n",
       "\n",
       "    .dataframe thead th {\n",
       "        text-align: left;\n",
       "    }\n",
       "\n",
       "    .dataframe tbody tr th {\n",
       "        vertical-align: top;\n",
       "    }\n",
       "</style>\n",
       "<table border=\"1\" class=\"dataframe\">\n",
       "  <thead>\n",
       "    <tr style=\"text-align: right;\">\n",
       "      <th></th>\n",
       "      <th>consent</th>\n",
       "      <th>high_q0_choice</th>\n",
       "      <th>high_q0_index</th>\n",
       "      <th>high_q0_j0</th>\n",
       "      <th>high_q0_j1</th>\n",
       "      <th>high_q0_j2</th>\n",
       "      <th>high_q0_j3</th>\n",
       "      <th>high_q0_j4</th>\n",
       "      <th>high_q0_j5</th>\n",
       "      <th>high_q0_j6</th>\n",
       "      <th>...</th>\n",
       "      <th>low_q4_choice</th>\n",
       "      <th>low_q4_index</th>\n",
       "      <th>low_q4_j0</th>\n",
       "      <th>low_q4_j1</th>\n",
       "      <th>low_q4_j2</th>\n",
       "      <th>low_q4_j3</th>\n",
       "      <th>low_q4_j4</th>\n",
       "      <th>low_q4_j5</th>\n",
       "      <th>low_q4_j6</th>\n",
       "      <th>low_q4_score</th>\n",
       "    </tr>\n",
       "  </thead>\n",
       "  <tbody>\n",
       "    <tr>\n",
       "      <th>0</th>\n",
       "      <td>1</td>\n",
       "      <td>1</td>\n",
       "      <td>38</td>\n",
       "      <td>3</td>\n",
       "      <td>3</td>\n",
       "      <td>2</td>\n",
       "      <td>1</td>\n",
       "      <td>3</td>\n",
       "      <td>4</td>\n",
       "      <td>2</td>\n",
       "      <td>...</td>\n",
       "      <td>0</td>\n",
       "      <td>12</td>\n",
       "      <td>4</td>\n",
       "      <td>3</td>\n",
       "      <td>4</td>\n",
       "      <td>2</td>\n",
       "      <td>3</td>\n",
       "      <td>3</td>\n",
       "      <td>1</td>\n",
       "      <td>31</td>\n",
       "    </tr>\n",
       "    <tr>\n",
       "      <th>1</th>\n",
       "      <td>1</td>\n",
       "      <td>0</td>\n",
       "      <td>21</td>\n",
       "      <td>3</td>\n",
       "      <td>3</td>\n",
       "      <td>3</td>\n",
       "      <td>3</td>\n",
       "      <td>3</td>\n",
       "      <td>3</td>\n",
       "      <td>4</td>\n",
       "      <td>...</td>\n",
       "      <td>1</td>\n",
       "      <td>10</td>\n",
       "      <td>3</td>\n",
       "      <td>3</td>\n",
       "      <td>3</td>\n",
       "      <td>3</td>\n",
       "      <td>3</td>\n",
       "      <td>4</td>\n",
       "      <td>3</td>\n",
       "      <td>33</td>\n",
       "    </tr>\n",
       "    <tr>\n",
       "      <th>2</th>\n",
       "      <td>1</td>\n",
       "      <td>1</td>\n",
       "      <td>31</td>\n",
       "      <td>4</td>\n",
       "      <td>1</td>\n",
       "      <td>3</td>\n",
       "      <td>3</td>\n",
       "      <td>5</td>\n",
       "      <td>2</td>\n",
       "      <td>2</td>\n",
       "      <td>...</td>\n",
       "      <td>1</td>\n",
       "      <td>0</td>\n",
       "      <td>2</td>\n",
       "      <td>2</td>\n",
       "      <td>3</td>\n",
       "      <td>3</td>\n",
       "      <td>3</td>\n",
       "      <td>1</td>\n",
       "      <td>2</td>\n",
       "      <td>22</td>\n",
       "    </tr>\n",
       "    <tr>\n",
       "      <th>3</th>\n",
       "      <td>1</td>\n",
       "      <td>0</td>\n",
       "      <td>41</td>\n",
       "      <td>4</td>\n",
       "      <td>4</td>\n",
       "      <td>1</td>\n",
       "      <td>4</td>\n",
       "      <td>4</td>\n",
       "      <td>3</td>\n",
       "      <td>2</td>\n",
       "      <td>...</td>\n",
       "      <td>1</td>\n",
       "      <td>15</td>\n",
       "      <td>2</td>\n",
       "      <td>1</td>\n",
       "      <td>4</td>\n",
       "      <td>4</td>\n",
       "      <td>1</td>\n",
       "      <td>3</td>\n",
       "      <td>3</td>\n",
       "      <td>18</td>\n",
       "    </tr>\n",
       "    <tr>\n",
       "      <th>4</th>\n",
       "      <td>1</td>\n",
       "      <td>1</td>\n",
       "      <td>37</td>\n",
       "      <td>3</td>\n",
       "      <td>3</td>\n",
       "      <td>4</td>\n",
       "      <td>4</td>\n",
       "      <td>3</td>\n",
       "      <td>1</td>\n",
       "      <td>2</td>\n",
       "      <td>...</td>\n",
       "      <td>0</td>\n",
       "      <td>18</td>\n",
       "      <td>3</td>\n",
       "      <td>4</td>\n",
       "      <td>4</td>\n",
       "      <td>3</td>\n",
       "      <td>3</td>\n",
       "      <td>2</td>\n",
       "      <td>3</td>\n",
       "      <td>30</td>\n",
       "    </tr>\n",
       "  </tbody>\n",
       "</table>\n",
       "<p>5 rows × 101 columns</p>\n",
       "</div>"
      ],
      "text/plain": [
       "   consent  high_q0_choice  high_q0_index  high_q0_j0  high_q0_j1  high_q0_j2  \\\n",
       "0        1               1             38           3           3           2   \n",
       "1        1               0             21           3           3           3   \n",
       "2        1               1             31           4           1           3   \n",
       "3        1               0             41           4           4           1   \n",
       "4        1               1             37           3           3           4   \n",
       "\n",
       "   high_q0_j3  high_q0_j4  high_q0_j5  high_q0_j6      ...       \\\n",
       "0           1           3           4           2      ...        \n",
       "1           3           3           3           4      ...        \n",
       "2           3           5           2           2      ...        \n",
       "3           4           4           3           2      ...        \n",
       "4           4           3           1           2      ...        \n",
       "\n",
       "   low_q4_choice  low_q4_index  low_q4_j0  low_q4_j1  low_q4_j2  low_q4_j3  \\\n",
       "0              0            12          4          3          4          2   \n",
       "1              1            10          3          3          3          3   \n",
       "2              1             0          2          2          3          3   \n",
       "3              1            15          2          1          4          4   \n",
       "4              0            18          3          4          4          3   \n",
       "\n",
       "   low_q4_j4  low_q4_j5  low_q4_j6  low_q4_score  \n",
       "0          3          3          1            31  \n",
       "1          3          4          3            33  \n",
       "2          3          1          2            22  \n",
       "3          1          3          3            18  \n",
       "4          3          2          3            30  \n",
       "\n",
       "[5 rows x 101 columns]"
      ]
     },
     "execution_count": 115,
     "metadata": {},
     "output_type": "execute_result"
    }
   ],
   "source": [
    "data = pd.DataFrame(data)\n",
    "data = data[data.consent == 1]\n",
    "print(data.size, len(data))\n",
    "data.head()"
   ]
  },
  {
   "cell_type": "markdown",
   "metadata": {},
   "source": [
    "### Simple T-Tests\n",
    "We first attempt to replicate the results of the first experiment by once again conducting a paired samples t-test."
   ]
  },
  {
   "cell_type": "code",
   "execution_count": 122,
   "metadata": {},
   "outputs": [],
   "source": [
    "# Update the table with intermediate values\n",
    "low_means, low_err = [], []\n",
    "high_means, high_err = [], []\n",
    "sample_size = len(data)\n",
    "\n",
    "for j_label in JUDGMENT_LABELS:\n",
    "    low_headers = ['{}_{}'.format(q_label, j_label) for q_label in LOW_LABELS]\n",
    "    high_headers = ['{}_{}'.format(q_label, j_label) for q_label in HIGH_LABELS]\n",
    "    low_data = data[low_headers].mean(axis=1)\n",
    "    high_data = data[high_headers].mean(axis=1)\n",
    "    \n",
    "    data['{}_low'.format(j_label)] = low_data\n",
    "    data['{}_high'.format(j_label)] = high_data\n",
    "    data['{}_diff'.format(j_label)] = high_data - low_data\n",
    "    \n",
    "    low_means.append(low_data.mean())\n",
    "    low_err.append(low_data.std() / math.sqrt(sample_size))\n",
    "    high_means.append(high_data.mean())\n",
    "    high_err.append(high_data.std() / math.sqrt(sample_size))"
   ]
  },
  {
   "cell_type": "code",
   "execution_count": 123,
   "metadata": {},
   "outputs": [
    {
     "name": "stdout",
     "output_type": "stream",
     "text": [
      "Curiosity: t = -6.68, p = 1.22e-10 (1 greater)\n",
      "Confidence: t = 0.112, p = 0.911 (0 greater)\n",
      "Usefulness: t = -4.98, p = 1.08e-06 (1 greater)\n",
      "Popularity: t = -23.1, p = 9.88e-68 (1 greater)\n",
      "Writing: t = -5.56, p = 6.1e-08 (1 greater)\n",
      "Surprise: t = -6.48, p = 3.9e-10 (1 greater)\n",
      "Social Utility: t = -6.46, p = 4.28e-10 (1 greater)\n"
     ]
    },
    {
     "data": {
      "image/png": "[encoded data removed]",
      "text/plain": [
       "<matplotlib.figure.Figure at 0x11246f320>"
      ]
     },
     "metadata": {
      "image/png": {
       "height": 372,
       "width": 718
      }
     },
     "output_type": "display_data"
    }
   ],
   "source": [
    "# Compute averages, run t-test and plot\n",
    "PLOTTING_OPTIONS = {\n",
    "    'y_label': 'Ratings',\n",
    "    'ticks': ['Curiosity', 'Confidence', 'Usefulness',\n",
    "              'Popularity', 'Writing', 'Surprise', 'Social Utility'],\n",
    "    'legend': ['Low Scores', 'High Scores'],\n",
    "    'title': 'All Questions',\n",
    "    'size': (12, 6)\n",
    "}\n",
    "\n",
    "for index, j_label in enumerate(JUDGMENT_LABELS):\n",
    "    low_data = data['{}_low'.format(j_label)]\n",
    "    high_data = data['{}_high'.format(j_label)]\n",
    "    print('{}: {}'.format(PLOTTING_OPTIONS['ticks'][index],\n",
    "                          describe.paired_t_test(low_data, high_data)))\n",
    "\n",
    "plotting.plot_double_bar(low_means, low_err, high_means,\n",
    "                         high_err, **PLOTTING_OPTIONS)"
   ]
  },
  {
   "cell_type": "code",
   "execution_count": 124,
   "metadata": {
    "scrolled": true
   },
   "outputs": [
    {
     "data": {
      "image/png": "[encoded data removed]",
      "text/plain": [
       "<matplotlib.figure.Figure at 0x11269e908>"
      ]
     },
     "metadata": {
      "image/png": {
       "height": 263,
       "width": 384
      }
     },
     "output_type": "display_data"
    },
    {
     "name": "stdout",
     "output_type": "stream",
     "text": [
      "0.5479452054794521\n",
      "t = 4.24, p = 3.06e-05 (greater)\n",
      "Effect size: 0.09589041095890422\n"
     ]
    }
   ],
   "source": [
    "import importlib\n",
    "importlib.reload(plotting)\n",
    "\n",
    "PLOTTING_OPTIONS = {\n",
    "    'y_label': 'Proportion',\n",
    "    'ticks': ['Low Scores', 'High Scores'],\n",
    "    'title': 'Question Selection',\n",
    "    'save': 'choices.pdf'\n",
    "}\n",
    "\n",
    "low_choice_labels = ['{}_choice'.format(q_label) for q_label in LOW_LABELS]\n",
    "high_choice_labels = ['{}_choice'.format(q_label) for q_label in HIGH_LABELS]\n",
    "low_choice_means = data[low_choice_labels].mean(axis=1)\n",
    "high_choice_means = data[high_choice_labels].mean(axis=1)\n",
    "low_mean = low_choice_means.mean()\n",
    "high_mean = high_choice_means.mean()\n",
    "\n",
    "plotting.plot_single_bar(\n",
    "    [low_mean, high_mean],\n",
    "    [low_choice_means.std() / math.sqrt(sample_size),\n",
    "    high_choice_means.std() / math.sqrt(sample_size)],\n",
    "    **PLOTTING_OPTIONS)\n",
    "\n",
    "print(high_choice_means.mean())\n",
    "print(describe.one_sample_t_test(high_choice_means, 0.5))\n",
    "print('Effect size: {}'.format(high_mean - low_mean))"
   ]
  },
  {
   "cell_type": "markdown",
   "metadata": {
    "collapsed": true
   },
   "source": [
    "### Examining Participants Without Variance\n",
    "\n",
    "New we consider elimating participants with little to no variance to determine if this had any noticable effect on our results. For example, particpant number two in our study had a variance of 0.2, meaning nearly ever response he or she gave was 3; we remove all such particpants and test for significance in the same way."
   ]
  },
  {
   "cell_type": "code",
   "execution_count": 125,
   "metadata": {},
   "outputs": [],
   "source": [
    "all_judgment_headers = ['{}_{}'.format(q_label, j_label) for \n",
    "                        q_label, j_label in itertools.product(\n",
    "                            ALL_LABELS, JUDGMENT_LABELS)]\n",
    "data['total_var'] = data[all_judgment_headers].std(axis=1)"
   ]
  },
  {
   "cell_type": "code",
   "execution_count": 126,
   "metadata": {},
   "outputs": [
    {
     "name": "stdout",
     "output_type": "stream",
     "text": [
      "0 eliminated\n"
     ]
    },
    {
     "data": {
      "text/markdown": [
       "**Original Survey**"
      ],
      "text/plain": [
       "<IPython.core.display.Markdown object>"
      ]
     },
     "metadata": {},
     "output_type": "display_data"
    },
    {
     "name": "stdout",
     "output_type": "stream",
     "text": [
      "Curiosity: t = -6.68, p = 1.22e-10 (1 greater)\n",
      "Confidence: t = 0.112, p = 0.911 (0 greater)\n",
      "Usefulness: t = -4.98, p = 1.08e-06 (1 greater)\n",
      "Popularity: t = -23.1, p = 9.88e-68 (1 greater)\n",
      "Writing: t = -5.56, p = 6.1e-08 (1 greater)\n",
      "Surprise: t = -6.48, p = 3.9e-10 (1 greater)\n",
      "Social Utility: t = -6.46, p = 4.28e-10 (1 greater)\n"
     ]
    },
    {
     "data": {
      "text/markdown": [
       "**Choice Analysis**"
      ],
      "text/plain": [
       "<IPython.core.display.Markdown object>"
      ]
     },
     "metadata": {},
     "output_type": "display_data"
    },
    {
     "name": "stdout",
     "output_type": "stream",
     "text": [
      "t = 4.24, p = 3.06e-05 (greater)\n",
      "Effect size: 0.09589041095890427\n"
     ]
    }
   ],
   "source": [
    "data = data[data.total_var > 0.75]\n",
    "print('{} eliminated'.format(sample_size - len(data)))\n",
    "\n",
    "PLOTTING_OPTIONS = {\n",
    "    'ticks': ['Curiosity', 'Confidence', 'Usefulness',\n",
    "              'Popularity', 'Writing', 'Surprise', 'Social Utility']}\n",
    "\n",
    "printmd('**Original Survey**')\n",
    "for index, j_label in enumerate(JUDGMENT_LABELS):\n",
    "    low_data = data['{}_low'.format(j_label)]\n",
    "    high_data = data['{}_high'.format(j_label)]\n",
    "    print('{}: {}'.format(PLOTTING_OPTIONS['ticks'][index],\n",
    "                          describe.paired_t_test(low_data, high_data)))\n",
    "    \n",
    "printmd('**Choice Analysis**')\n",
    "high_choice_labels = ['{}_choice'.format(q_label) for q_label in HIGH_LABELS]\n",
    "high_choice_means = data[high_choice_labels].mean(axis=1)\n",
    "high_mean = high_choice_means.mean()\n",
    "print(describe.one_sample_t_test(high_choice_means, 0.5))\n",
    "print('Effect size: {}'.format(2 * high_mean - 1))"
   ]
  },
  {
   "cell_type": "markdown",
   "metadata": {},
   "source": [
    "### Mediation Analysis"
   ]
  },
  {
   "cell_type": "code",
   "execution_count": 142,
   "metadata": {
    "scrolled": false
   },
   "outputs": [],
   "source": [
    "# Aggreate all questions and choice\n",
    "flattened_data = {'group': [], 'curiosity': [], 'choice': []}\n",
    "for index, row in data.iterrows():\n",
    "    for q_label in ALL_LABELS:\n",
    "        level = 1 if row['{}_score'.format(q_label)] > 240.9 else 0\n",
    "        flattened_data['group'].append(level)\n",
    "        flattened_data['curiosity'].append(row['{}_j0'.format(q_label)])\n",
    "        flattened_data['choice'].append(row['{}_choice'.format(q_label)])"
   ]
  },
  {
   "cell_type": "code",
   "execution_count": 143,
   "metadata": {},
   "outputs": [],
   "source": [
    "new_data = pd.DataFrame(flattened_data)"
   ]
  },
  {
   "cell_type": "code",
   "execution_count": 148,
   "metadata": {},
   "outputs": [
    {
     "data": {
      "text/html": [
       "<table class=\"simpletable\">\n",
       "<caption>OLS Regression Results</caption>\n",
       "<tr>\n",
       "  <th>Dep. Variable:</th>            <td>y</td>        <th>  R-squared:         </th> <td>   0.133</td>\n",
       "</tr>\n",
       "<tr>\n",
       "  <th>Model:</th>                   <td>OLS</td>       <th>  Adj. R-squared:    </th> <td>   0.132</td>\n",
       "</tr>\n",
       "<tr>\n",
       "  <th>Method:</th>             <td>Least Squares</td>  <th>  F-statistic:       </th> <td>   446.3</td>\n",
       "</tr>\n",
       "<tr>\n",
       "  <th>Date:</th>             <td>Tue, 23 Jan 2018</td> <th>  Prob (F-statistic):</th> <td>2.69e-92</td>\n",
       "</tr>\n",
       "<tr>\n",
       "  <th>Time:</th>                 <td>11:19:57</td>     <th>  Log-Likelihood:    </th> <td> -1911.5</td>\n",
       "</tr>\n",
       "<tr>\n",
       "  <th>No. Observations:</th>      <td>  2920</td>      <th>  AIC:               </th> <td>   3827.</td>\n",
       "</tr>\n",
       "<tr>\n",
       "  <th>Df Residuals:</th>          <td>  2918</td>      <th>  BIC:               </th> <td>   3839.</td>\n",
       "</tr>\n",
       "<tr>\n",
       "  <th>Df Model:</th>              <td>     1</td>      <th>                     </th>     <td> </td>   \n",
       "</tr>\n",
       "<tr>\n",
       "  <th>Covariance Type:</th>      <td>nonrobust</td>    <th>                     </th>     <td> </td>   \n",
       "</tr>\n",
       "</table>\n",
       "<table class=\"simpletable\">\n",
       "<tr>\n",
       "    <td></td>       <th>coef</th>     <th>std err</th>      <th>t</th>      <th>P>|t|</th>  <th>[0.025</th>    <th>0.975]</th>  \n",
       "</tr>\n",
       "<tr>\n",
       "  <th>const</th> <td>    0.2063</td> <td>    0.016</td> <td>   12.612</td> <td> 0.000</td> <td>    0.174</td> <td>    0.238</td>\n",
       "</tr>\n",
       "<tr>\n",
       "  <th>x1</th>    <td>    0.0926</td> <td>    0.004</td> <td>   21.125</td> <td> 0.000</td> <td>    0.084</td> <td>    0.101</td>\n",
       "</tr>\n",
       "</table>\n",
       "<table class=\"simpletable\">\n",
       "<tr>\n",
       "  <th>Omnibus:</th>       <td> 0.147</td> <th>  Durbin-Watson:     </th> <td>   1.988</td>\n",
       "</tr>\n",
       "<tr>\n",
       "  <th>Prob(Omnibus):</th> <td> 0.929</td> <th>  Jarque-Bera (JB):  </th> <td> 251.475</td>\n",
       "</tr>\n",
       "<tr>\n",
       "  <th>Skew:</th>          <td>-0.017</td> <th>  Prob(JB):          </th> <td>2.47e-55</td>\n",
       "</tr>\n",
       "<tr>\n",
       "  <th>Kurtosis:</th>      <td> 1.563</td> <th>  Cond. No.          </th> <td>    7.45</td>\n",
       "</tr>\n",
       "</table>"
      ],
      "text/plain": [
       "<class 'statsmodels.iolib.summary.Summary'>\n",
       "\"\"\"\n",
       "                            OLS Regression Results                            \n",
       "==============================================================================\n",
       "Dep. Variable:                      y   R-squared:                       0.133\n",
       "Model:                            OLS   Adj. R-squared:                  0.132\n",
       "Method:                 Least Squares   F-statistic:                     446.3\n",
       "Date:                Tue, 23 Jan 2018   Prob (F-statistic):           2.69e-92\n",
       "Time:                        11:19:57   Log-Likelihood:                -1911.5\n",
       "No. Observations:                2920   AIC:                             3827.\n",
       "Df Residuals:                    2918   BIC:                             3839.\n",
       "Df Model:                           1                                         \n",
       "Covariance Type:            nonrobust                                         \n",
       "==============================================================================\n",
       "                 coef    std err          t      P>|t|      [0.025      0.975]\n",
       "------------------------------------------------------------------------------\n",
       "const          0.2063      0.016     12.612      0.000       0.174       0.238\n",
       "x1             0.0926      0.004     21.125      0.000       0.084       0.101\n",
       "==============================================================================\n",
       "Omnibus:                        0.147   Durbin-Watson:                   1.988\n",
       "Prob(Omnibus):                  0.929   Jarque-Bera (JB):              251.475\n",
       "Skew:                          -0.017   Prob(JB):                     2.47e-55\n",
       "Kurtosis:                       1.563   Cond. No.                         7.45\n",
       "==============================================================================\n",
       "\n",
       "Warnings:\n",
       "[1] Standard Errors assume that the covariance matrix of the errors is correctly specified.\n",
       "\"\"\""
      ]
     },
     "execution_count": 148,
     "metadata": {},
     "output_type": "execute_result"
    }
   ],
   "source": [
    "X = flattened_data['curiosity']\n",
    "y = flattened_data['choice']\n",
    "X = sm.add_constant(X)\n",
    "\n",
    "model = sm.OLS(y, X).fit()\n",
    "predictions = model.predict(X)\n",
    "model.summary()"
   ]
  },
  {
   "cell_type": "code",
   "execution_count": null,
   "metadata": {
    "collapsed": true
   },
   "outputs": [],
   "source": []
  }
 ],
 "metadata": {
  "kernel_info": {
   "name": "python3"
  },
  "kernelspec": {
   "display_name": "Python 3",
   "language": "python",
   "name": "python3"
  },
  "language_info": {
   "codemirror_mode": {
    "name": "ipython",
    "version": 3
   },
   "file_extension": ".py",
   "mimetype": "text/x-python",
   "name": "python",
   "nbconvert_exporter": "python",
   "pygments_lexer": "ipython3",
   "version": "3.6.1"
  },
  "nteract": {
   "version": "0.5.5"
  }
 },
 "nbformat": 4,
 "nbformat_minor": 2
}
