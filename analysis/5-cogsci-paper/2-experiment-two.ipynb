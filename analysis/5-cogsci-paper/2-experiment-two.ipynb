{
 "cells": [
  {
   "cell_type": "markdown",
   "metadata": {},
   "source": [
    "# Experiment Two\n",
    "\n",
    "The first study, called `experiment-two`, looked at the effect of social influence on curiousity, using upvotes as proxy for social interest. Below we analyze the responses to test the hypothesis that the same questions, when given higher upvotes, receive higher scores from participants with regards to curiousity. And, further, whether this translates into participants being more likely to choose to view the answers to the questions with higher upvotes.\n",
    "\n",
    "## Analysis"
   ]
  },
  {
   "cell_type": "code",
   "execution_count": 2,
   "metadata": {},
   "outputs": [],
   "source": [
    "%load_ext pycodestyle_magic"
   ]
  },
  {
   "cell_type": "code",
   "execution_count": 3,
   "metadata": {},
   "outputs": [
    {
     "name": "stderr",
     "output_type": "stream",
     "text": [
      "/Users/hermish/anaconda/lib/python3.6/site-packages/statsmodels/compat/pandas.py:56: FutureWarning: The pandas.core.datetools module is deprecated and will be removed in a future version. Please use the pandas.tseries module instead.\n",
      "  from pandas.core import datetools\n"
     ]
    }
   ],
   "source": [
    "# Analytical Tools\n",
    "import numpy as np\n",
    "import pandas as pd\n",
    "import scipy\n",
    "import matplotlib.pyplot as plt\n",
    "import seaborn as sns\n",
    "from scipy import stats\n",
    "import statsmodels.api as sm\n",
    "\n",
    "# General Utilities\n",
    "import math\n",
    "import json\n",
    "import pprint\n",
    "import itertools\n",
    "import importlib\n",
    "\n",
    "# Custom Utilities\n",
    "import utilities.processing_two as processing\n",
    "import utilities.plotting as plotting\n",
    "import utilities.describe as describe\n",
    "\n",
    "# Some settings\n",
    "from IPython.display import Markdown, display\n",
    "log = pprint.pprint\n",
    "space = lambda: print()\n",
    "printmd = lambda text: display(Markdown(text))\n",
    "%matplotlib inline\n",
    "%config InlineBackend.figure_format = 'retina'"
   ]
  },
  {
   "cell_type": "markdown",
   "metadata": {},
   "source": [
    "### Reading Data and Defining Constants"
   ]
  },
  {
   "cell_type": "code",
   "execution_count": 4,
   "metadata": {
    "collapsed": true
   },
   "outputs": [],
   "source": [
    "FILE_NAMES = [\n",
    "    'raw-data/questions-and-answers-clean.json',\n",
    "    'raw-data/judgments.json',\n",
    "    'raw-data/responses-two.json'\n",
    "]\n",
    "\n",
    "NUM_QUESTIONS, NUM_JUDGEMENTS = 10, 7\n",
    "GROUP_SIZE = NUM_QUESTIONS // 2\n",
    "\n",
    "ALL_LABELS = processing.get_all_labels(NUM_QUESTIONS)\n",
    "LOW_LABELS, HIGH_LABELS = ALL_LABELS[:GROUP_SIZE], ALL_LABELS[GROUP_SIZE:]\n",
    "JUDGMENT_LABELS = processing.get_judgment_labels(NUM_JUDGEMENTS)\n",
    "\n",
    "LITERALS = []\n",
    "for name in FILE_NAMES[:2]:\n",
    "    with open(name) as file:\n",
    "         LITERALS.append(json.load(file))\n",
    "with open(FILE_NAMES[2]) as file:\n",
    "    master_responses = [json.loads(line) for line in file if line]"
   ]
  },
  {
   "cell_type": "markdown",
   "metadata": {},
   "source": [
    "### Reading Responses into Data\n",
    "Creates a `DataFrame` based on the survey data."
   ]
  },
  {
   "cell_type": "code",
   "execution_count": 5,
   "metadata": {
    "collapsed": true
   },
   "outputs": [],
   "source": [
    "col_labels = processing.get_col_labels(NUM_QUESTIONS,\n",
    "                                       NUM_JUDGEMENTS)\n",
    "data = {label: [] for label in col_labels}"
   ]
  },
  {
   "cell_type": "code",
   "execution_count": 6,
   "metadata": {
    "collapsed": true
   },
   "outputs": [],
   "source": [
    "processing.fill_experiment_three_data(data, master_responses)"
   ]
  },
  {
   "cell_type": "code",
   "execution_count": 7,
   "metadata": {},
   "outputs": [
    {
     "name": "stdout",
     "output_type": "stream",
     "text": [
      "30401 301\n"
     ]
    },
    {
     "data": {
      "text/html": [
       "<div>\n",
       "<style>\n",
       "    .dataframe thead tr:only-child th {\n",
       "        text-align: right;\n",
       "    }\n",
       "\n",
       "    .dataframe thead th {\n",
       "        text-align: left;\n",
       "    }\n",
       "\n",
       "    .dataframe tbody tr th {\n",
       "        vertical-align: top;\n",
       "    }\n",
       "</style>\n",
       "<table border=\"1\" class=\"dataframe\">\n",
       "  <thead>\n",
       "    <tr style=\"text-align: right;\">\n",
       "      <th></th>\n",
       "      <th>consent</th>\n",
       "      <th>high_q0_choice</th>\n",
       "      <th>high_q0_index</th>\n",
       "      <th>high_q0_j0</th>\n",
       "      <th>high_q0_j1</th>\n",
       "      <th>high_q0_j2</th>\n",
       "      <th>high_q0_j3</th>\n",
       "      <th>high_q0_j4</th>\n",
       "      <th>high_q0_j5</th>\n",
       "      <th>high_q0_j6</th>\n",
       "      <th>...</th>\n",
       "      <th>low_q4_choice</th>\n",
       "      <th>low_q4_index</th>\n",
       "      <th>low_q4_j0</th>\n",
       "      <th>low_q4_j1</th>\n",
       "      <th>low_q4_j2</th>\n",
       "      <th>low_q4_j3</th>\n",
       "      <th>low_q4_j4</th>\n",
       "      <th>low_q4_j5</th>\n",
       "      <th>low_q4_j6</th>\n",
       "      <th>low_q4_score</th>\n",
       "    </tr>\n",
       "  </thead>\n",
       "  <tbody>\n",
       "    <tr>\n",
       "      <th>0</th>\n",
       "      <td>1</td>\n",
       "      <td>1</td>\n",
       "      <td>38</td>\n",
       "      <td>3</td>\n",
       "      <td>3</td>\n",
       "      <td>2</td>\n",
       "      <td>1</td>\n",
       "      <td>3</td>\n",
       "      <td>4</td>\n",
       "      <td>2</td>\n",
       "      <td>...</td>\n",
       "      <td>0</td>\n",
       "      <td>12</td>\n",
       "      <td>4</td>\n",
       "      <td>3</td>\n",
       "      <td>4</td>\n",
       "      <td>2</td>\n",
       "      <td>3</td>\n",
       "      <td>3</td>\n",
       "      <td>1</td>\n",
       "      <td>31</td>\n",
       "    </tr>\n",
       "    <tr>\n",
       "      <th>1</th>\n",
       "      <td>1</td>\n",
       "      <td>0</td>\n",
       "      <td>21</td>\n",
       "      <td>3</td>\n",
       "      <td>3</td>\n",
       "      <td>3</td>\n",
       "      <td>3</td>\n",
       "      <td>3</td>\n",
       "      <td>3</td>\n",
       "      <td>4</td>\n",
       "      <td>...</td>\n",
       "      <td>1</td>\n",
       "      <td>10</td>\n",
       "      <td>3</td>\n",
       "      <td>3</td>\n",
       "      <td>3</td>\n",
       "      <td>3</td>\n",
       "      <td>3</td>\n",
       "      <td>4</td>\n",
       "      <td>3</td>\n",
       "      <td>33</td>\n",
       "    </tr>\n",
       "    <tr>\n",
       "      <th>2</th>\n",
       "      <td>1</td>\n",
       "      <td>1</td>\n",
       "      <td>31</td>\n",
       "      <td>4</td>\n",
       "      <td>1</td>\n",
       "      <td>3</td>\n",
       "      <td>3</td>\n",
       "      <td>5</td>\n",
       "      <td>2</td>\n",
       "      <td>2</td>\n",
       "      <td>...</td>\n",
       "      <td>1</td>\n",
       "      <td>0</td>\n",
       "      <td>2</td>\n",
       "      <td>2</td>\n",
       "      <td>3</td>\n",
       "      <td>3</td>\n",
       "      <td>3</td>\n",
       "      <td>1</td>\n",
       "      <td>2</td>\n",
       "      <td>22</td>\n",
       "    </tr>\n",
       "    <tr>\n",
       "      <th>3</th>\n",
       "      <td>1</td>\n",
       "      <td>0</td>\n",
       "      <td>41</td>\n",
       "      <td>4</td>\n",
       "      <td>4</td>\n",
       "      <td>1</td>\n",
       "      <td>4</td>\n",
       "      <td>4</td>\n",
       "      <td>3</td>\n",
       "      <td>2</td>\n",
       "      <td>...</td>\n",
       "      <td>1</td>\n",
       "      <td>15</td>\n",
       "      <td>2</td>\n",
       "      <td>1</td>\n",
       "      <td>4</td>\n",
       "      <td>4</td>\n",
       "      <td>1</td>\n",
       "      <td>3</td>\n",
       "      <td>3</td>\n",
       "      <td>18</td>\n",
       "    </tr>\n",
       "    <tr>\n",
       "      <th>4</th>\n",
       "      <td>1</td>\n",
       "      <td>1</td>\n",
       "      <td>37</td>\n",
       "      <td>3</td>\n",
       "      <td>3</td>\n",
       "      <td>4</td>\n",
       "      <td>4</td>\n",
       "      <td>3</td>\n",
       "      <td>1</td>\n",
       "      <td>2</td>\n",
       "      <td>...</td>\n",
       "      <td>0</td>\n",
       "      <td>18</td>\n",
       "      <td>3</td>\n",
       "      <td>4</td>\n",
       "      <td>4</td>\n",
       "      <td>3</td>\n",
       "      <td>3</td>\n",
       "      <td>2</td>\n",
       "      <td>3</td>\n",
       "      <td>30</td>\n",
       "    </tr>\n",
       "  </tbody>\n",
       "</table>\n",
       "<p>5 rows × 101 columns</p>\n",
       "</div>"
      ],
      "text/plain": [
       "   consent  high_q0_choice  high_q0_index  high_q0_j0  high_q0_j1  high_q0_j2  \\\n",
       "0        1               1             38           3           3           2   \n",
       "1        1               0             21           3           3           3   \n",
       "2        1               1             31           4           1           3   \n",
       "3        1               0             41           4           4           1   \n",
       "4        1               1             37           3           3           4   \n",
       "\n",
       "   high_q0_j3  high_q0_j4  high_q0_j5  high_q0_j6      ...       \\\n",
       "0           1           3           4           2      ...        \n",
       "1           3           3           3           4      ...        \n",
       "2           3           5           2           2      ...        \n",
       "3           4           4           3           2      ...        \n",
       "4           4           3           1           2      ...        \n",
       "\n",
       "   low_q4_choice  low_q4_index  low_q4_j0  low_q4_j1  low_q4_j2  low_q4_j3  \\\n",
       "0              0            12          4          3          4          2   \n",
       "1              1            10          3          3          3          3   \n",
       "2              1             0          2          2          3          3   \n",
       "3              1            15          2          1          4          4   \n",
       "4              0            18          3          4          4          3   \n",
       "\n",
       "   low_q4_j4  low_q4_j5  low_q4_j6  low_q4_score  \n",
       "0          3          3          1            31  \n",
       "1          3          4          3            33  \n",
       "2          3          1          2            22  \n",
       "3          1          3          3            18  \n",
       "4          3          2          3            30  \n",
       "\n",
       "[5 rows x 101 columns]"
      ]
     },
     "execution_count": 7,
     "metadata": {},
     "output_type": "execute_result"
    }
   ],
   "source": [
    "data = pd.DataFrame(data)\n",
    "data = data[data.consent == 1]\n",
    "print(data.size, len(data))\n",
    "data.head()"
   ]
  },
  {
   "cell_type": "markdown",
   "metadata": {},
   "source": [
    "### Simple T-Tests\n",
    "We first attempt to replicate the results of the first experiment by once again conducting a paired samples t-test."
   ]
  },
  {
   "cell_type": "code",
   "execution_count": 8,
   "metadata": {
    "collapsed": true
   },
   "outputs": [],
   "source": [
    "# Update the table with intermediate values\n",
    "low_means, low_err = [], []\n",
    "high_means, high_err = [], []\n",
    "sample_size = len(data)\n",
    "\n",
    "for j_label in JUDGMENT_LABELS:\n",
    "    low_headers = ['{}_{}'.format(q_label, j_label) for q_label in LOW_LABELS]\n",
    "    high_headers = ['{}_{}'.format(q_label, j_label) for q_label in HIGH_LABELS]\n",
    "    low_data = data[low_headers].mean(axis=1)\n",
    "    high_data = data[high_headers].mean(axis=1)\n",
    "    \n",
    "    data['{}_low'.format(j_label)] = low_data\n",
    "    data['{}_high'.format(j_label)] = high_data\n",
    "    data['{}_diff'.format(j_label)] = high_data - low_data\n",
    "    \n",
    "    low_means.append(low_data.mean())\n",
    "    low_err.append(low_data.std() / math.sqrt(sample_size))\n",
    "    high_means.append(high_data.mean())\n",
    "    high_err.append(high_data.std() / math.sqrt(sample_size))"
   ]
  },
  {
   "cell_type": "code",
   "execution_count": 9,
   "metadata": {},
   "outputs": [
    {
     "name": "stdout",
     "output_type": "stream",
     "text": [
      "Curiosity: t = -6.7, p = 1.03e-10 (1 greater)\n",
      "Confidence: t = 0.0618, p = 0.951 (0 greater)\n",
      "Usefulness: t = -4.85, p = 1.95e-06 (1 greater)\n",
      "Popularity: t = -22.3, p = 1.42e-65 (1 greater)\n",
      "Writing: t = -5.55, p = 6.2e-08 (1 greater)\n",
      "Surprise: t = -6.45, p = 4.37e-10 (1 greater)\n",
      "Social Utility: t = -6.37, p = 7.21e-10 (1 greater)\n"
     ]
    },
    {
     "data": {
      "image/png": "[encoded data removed]",
      "text/plain": [
       "<matplotlib.figure.Figure at 0x11980e780>"
      ]
     },
     "metadata": {
      "image/png": {
       "height": 372,
       "width": 718
      }
     },
     "output_type": "display_data"
    }
   ],
   "source": [
    "# Compute averages, run t-test and plot\n",
    "PLOTTING_OPTIONS = {\n",
    "    'y_label': 'Ratings',\n",
    "    'ticks': ['Curiosity', 'Confidence', 'Usefulness',\n",
    "              'Popularity', 'Writing', 'Surprise', 'Social Utility'],\n",
    "    'legend': ['Low Scores', 'High Scores'],\n",
    "    'title': 'All Questions',\n",
    "    'size': (12, 6)\n",
    "}\n",
    "\n",
    "for index, j_label in enumerate(JUDGMENT_LABELS):\n",
    "    low_data = data['{}_low'.format(j_label)]\n",
    "    high_data = data['{}_high'.format(j_label)]\n",
    "    print('{}: {}'.format(PLOTTING_OPTIONS['ticks'][index],\n",
    "                          describe.paired_t_test(low_data, high_data)))\n",
    "\n",
    "plotting.plot_double_bar(low_means, low_err, high_means,\n",
    "                         high_err, **PLOTTING_OPTIONS)"
   ]
  },
  {
   "cell_type": "code",
   "execution_count": 10,
   "metadata": {
    "scrolled": true
   },
   "outputs": [
    {
     "data": {
      "image/png": "[encoded data removed]",
      "text/plain": [
       "<matplotlib.figure.Figure at 0x10e131128>"
      ]
     },
     "metadata": {
      "image/png": {
       "height": 263,
       "width": 384
      }
     },
     "output_type": "display_data"
    },
    {
     "name": "stdout",
     "output_type": "stream",
     "text": [
      "0.5475083056478407\n",
      "t = 4.25, p = 2.87e-05 (greater)\n",
      "Effect size: 0.09501661129568134\n"
     ]
    }
   ],
   "source": [
    "PLOTTING_OPTIONS = {\n",
    "    'y_label': 'Proportion',\n",
    "    'ticks': ['Low Scores', 'High Scores'],\n",
    "    'title': 'Question Selection'\n",
    "}\n",
    "\n",
    "low_choice_labels = ['{}_choice'.format(q_label) for q_label in LOW_LABELS]\n",
    "high_choice_labels = ['{}_choice'.format(q_label) for q_label in HIGH_LABELS]\n",
    "low_choice_means = data[low_choice_labels].mean(axis=1)\n",
    "high_choice_means = data[high_choice_labels].mean(axis=1)\n",
    "low_mean = low_choice_means.mean()\n",
    "high_mean = high_choice_means.mean()\n",
    "\n",
    "plotting.plot_single_bar(\n",
    "    [low_mean, high_mean],\n",
    "    [low_choice_means.std() / math.sqrt(sample_size),\n",
    "    high_choice_means.std() / math.sqrt(sample_size)],\n",
    "    **PLOTTING_OPTIONS)\n",
    "\n",
    "print(high_choice_means.mean())\n",
    "print(describe.one_sample_t_test(high_choice_means, 0.5))\n",
    "print('Effect size: {}'.format(high_mean - low_mean))"
   ]
  },
  {
   "cell_type": "markdown",
   "metadata": {
    "collapsed": true
   },
   "source": [
    "### Examining Participants Without Variance\n",
    "\n",
    "New we consider elimating participants with little to no variance to determine if this had any noticable effect on our results. For example, particpant number two in our study had a variance of 0.2, meaning nearly ever response he or she gave was 3; we remove all such particpants and test for significance in the same way."
   ]
  },
  {
   "cell_type": "code",
   "execution_count": 11,
   "metadata": {},
   "outputs": [
    {
     "data": {
      "image/png": "[encoded data removed]",
      "text/plain": [
       "<matplotlib.figure.Figure at 0x11980dc18>"
      ]
     },
     "metadata": {
      "image/png": {
       "height": 248,
       "width": 367
      }
     },
     "output_type": "display_data"
    }
   ],
   "source": [
    "all_judgment_headers = ['{}_{}'.format(q_label, j_label) for \n",
    "                        q_label, j_label in itertools.product(\n",
    "                            ALL_LABELS, JUDGMENT_LABELS)]\n",
    "data['total_var'] = data[all_judgment_headers].std(axis=1)\n",
    "plt.hist(data['total_var'])\n",
    "plt.show()"
   ]
  },
  {
   "cell_type": "code",
   "execution_count": 12,
   "metadata": {},
   "outputs": [
    {
     "name": "stdout",
     "output_type": "stream",
     "text": [
      "2 eliminated\n",
      "Curiosity: t = -6.68, p = 1.16e-10 (1 greater)\n",
      "Confidence: t = 0.099, p = 0.921 (0 greater)\n",
      "Usefulness: t = -4.85, p = 1.95e-06 (1 greater)\n",
      "Popularity: t = -22.4, p = 7.16e-66 (1 greater)\n",
      "Writing: t = -5.56, p = 6.13e-08 (1 greater)\n",
      "Surprise: t = -6.46, p = 4.32e-10 (1 greater)\n",
      "Social Utility: t = -6.36, p = 7.73e-10 (1 greater)\n",
      "\n",
      "t = 4.14, p = 4.49e-05 (greater)\n",
      "Effect size: 0.09297658862876279\n"
     ]
    }
   ],
   "source": [
    "data = data[data.total_var > 0.5]\n",
    "print('{} eliminated'.format(sample_size - len(data)))\n",
    "\n",
    "PLOTTING_OPTIONS = {\n",
    "    'ticks': ['Curiosity', 'Confidence', 'Usefulness',\n",
    "              'Popularity', 'Writing', 'Surprise', 'Social Utility']}\n",
    "\n",
    "for index, j_label in enumerate(JUDGMENT_LABELS):\n",
    "    low_data = data['{}_low'.format(j_label)]\n",
    "    high_data = data['{}_high'.format(j_label)]\n",
    "    print('{}: {}'.format(PLOTTING_OPTIONS['ticks'][index],\n",
    "                          describe.paired_t_test(low_data, high_data)))\n",
    "    \n",
    "space()\n",
    "high_choice_labels = ['{}_choice'.format(q_label) for q_label in HIGH_LABELS]\n",
    "high_choice_means = data[high_choice_labels].mean(axis=1)\n",
    "high_mean = high_choice_means.mean()\n",
    "print(describe.one_sample_t_test(high_choice_means, 0.5))\n",
    "print('Effect size: {}'.format(2 * high_mean - 1))"
   ]
  },
  {
   "cell_type": "markdown",
   "metadata": {},
   "source": [
    "### Mediation Analysis"
   ]
  },
  {
   "cell_type": "code",
   "execution_count": 13,
   "metadata": {
    "collapsed": true,
    "scrolled": false
   },
   "outputs": [],
   "source": [
    "# Aggreate all questions and choice\n",
    "columns = [\n",
    "    'votes', 'curiosity', 'confidence', 'usefulness', 'popularity',\n",
    "    'writing', 'surprise', 'social_utility', 'choice']\n",
    "flattened_data = {col: [] for col in columns}\n",
    "\n",
    "for index, row in data.iterrows():\n",
    "    for q_label in ALL_LABELS:\n",
    "        level = 1 if row['{}_score'.format(q_label)] > 240.9 else 0\n",
    "        flattened_data[columns[0]].append(level)\n",
    "        flattened_data[columns[1]].append(row['{}_j0'.format(q_label)])\n",
    "        flattened_data[columns[2]].append(row['{}_j1'.format(q_label)])\n",
    "        flattened_data[columns[3]].append(row['{}_j2'.format(q_label)])\n",
    "        flattened_data[columns[4]].append(row['{}_j3'.format(q_label)])\n",
    "        flattened_data[columns[5]].append(row['{}_j4'.format(q_label)])\n",
    "        flattened_data[columns[6]].append(row['{}_j5'.format(q_label)])\n",
    "        flattened_data[columns[7]].append(row['{}_j6'.format(q_label)])\n",
    "        flattened_data[columns[8]].append(row['{}_choice'.format(q_label)])"
   ]
  },
  {
   "cell_type": "code",
   "execution_count": 14,
   "metadata": {},
   "outputs": [
    {
     "data": {
      "text/html": [
       "<div>\n",
       "<style>\n",
       "    .dataframe thead tr:only-child th {\n",
       "        text-align: right;\n",
       "    }\n",
       "\n",
       "    .dataframe thead th {\n",
       "        text-align: left;\n",
       "    }\n",
       "\n",
       "    .dataframe tbody tr th {\n",
       "        vertical-align: top;\n",
       "    }\n",
       "</style>\n",
       "<table border=\"1\" class=\"dataframe\">\n",
       "  <thead>\n",
       "    <tr style=\"text-align: right;\">\n",
       "      <th></th>\n",
       "      <th>choice</th>\n",
       "      <th>confidence</th>\n",
       "      <th>curiosity</th>\n",
       "      <th>popularity</th>\n",
       "      <th>social_utility</th>\n",
       "      <th>surprise</th>\n",
       "      <th>usefulness</th>\n",
       "      <th>votes</th>\n",
       "      <th>writing</th>\n",
       "    </tr>\n",
       "  </thead>\n",
       "  <tbody>\n",
       "    <tr>\n",
       "      <th>0</th>\n",
       "      <td>1.0</td>\n",
       "      <td>4.0</td>\n",
       "      <td>4.0</td>\n",
       "      <td>5.0</td>\n",
       "      <td>2.0</td>\n",
       "      <td>2.0</td>\n",
       "      <td>3.0</td>\n",
       "      <td>0</td>\n",
       "      <td>2.0</td>\n",
       "    </tr>\n",
       "    <tr>\n",
       "      <th>1</th>\n",
       "      <td>1.0</td>\n",
       "      <td>2.0</td>\n",
       "      <td>4.0</td>\n",
       "      <td>2.0</td>\n",
       "      <td>1.0</td>\n",
       "      <td>5.0</td>\n",
       "      <td>4.0</td>\n",
       "      <td>0</td>\n",
       "      <td>4.0</td>\n",
       "    </tr>\n",
       "    <tr>\n",
       "      <th>2</th>\n",
       "      <td>0.0</td>\n",
       "      <td>2.0</td>\n",
       "      <td>4.0</td>\n",
       "      <td>5.0</td>\n",
       "      <td>1.0</td>\n",
       "      <td>4.0</td>\n",
       "      <td>2.0</td>\n",
       "      <td>0</td>\n",
       "      <td>2.0</td>\n",
       "    </tr>\n",
       "    <tr>\n",
       "      <th>3</th>\n",
       "      <td>0.0</td>\n",
       "      <td>2.0</td>\n",
       "      <td>4.0</td>\n",
       "      <td>5.0</td>\n",
       "      <td>4.0</td>\n",
       "      <td>3.0</td>\n",
       "      <td>4.0</td>\n",
       "      <td>0</td>\n",
       "      <td>2.0</td>\n",
       "    </tr>\n",
       "    <tr>\n",
       "      <th>4</th>\n",
       "      <td>0.0</td>\n",
       "      <td>3.0</td>\n",
       "      <td>4.0</td>\n",
       "      <td>2.0</td>\n",
       "      <td>1.0</td>\n",
       "      <td>3.0</td>\n",
       "      <td>4.0</td>\n",
       "      <td>0</td>\n",
       "      <td>3.0</td>\n",
       "    </tr>\n",
       "  </tbody>\n",
       "</table>\n",
       "</div>"
      ],
      "text/plain": [
       "   choice  confidence  curiosity  popularity  social_utility  surprise  \\\n",
       "0     1.0         4.0        4.0         5.0             2.0       2.0   \n",
       "1     1.0         2.0        4.0         2.0             1.0       5.0   \n",
       "2     0.0         2.0        4.0         5.0             1.0       4.0   \n",
       "3     0.0         2.0        4.0         5.0             4.0       3.0   \n",
       "4     0.0         3.0        4.0         2.0             1.0       3.0   \n",
       "\n",
       "   usefulness  votes  writing  \n",
       "0         3.0      0      2.0  \n",
       "1         4.0      0      4.0  \n",
       "2         2.0      0      2.0  \n",
       "3         4.0      0      2.0  \n",
       "4         4.0      0      3.0  "
      ]
     },
     "execution_count": 14,
     "metadata": {},
     "output_type": "execute_result"
    }
   ],
   "source": [
    "new_data = pd.DataFrame(flattened_data)\n",
    "new_data.head()"
   ]
  },
  {
   "cell_type": "code",
   "execution_count": 15,
   "metadata": {},
   "outputs": [
    {
     "name": "stdout",
     "output_type": "stream",
     "text": [
      "Optimization terminated successfully.\n",
      "         Current function value: 0.621223\n",
      "         Iterations 5\n"
     ]
    },
    {
     "data": {
      "text/html": [
       "<table class=\"simpletable\">\n",
       "<caption>Logit Regression Results</caption>\n",
       "<tr>\n",
       "  <th>Dep. Variable:</th>      <td>choice</td>      <th>  No. Observations:  </th>  <td>  2990</td>  \n",
       "</tr>\n",
       "<tr>\n",
       "  <th>Model:</th>               <td>Logit</td>      <th>  Df Residuals:      </th>  <td>  2982</td>  \n",
       "</tr>\n",
       "<tr>\n",
       "  <th>Method:</th>               <td>MLE</td>       <th>  Df Model:          </th>  <td>     7</td>  \n",
       "</tr>\n",
       "<tr>\n",
       "  <th>Date:</th>          <td>Fri, 26 Jan 2018</td> <th>  Pseudo R-squ.:     </th>  <td>0.1038</td>  \n",
       "</tr>\n",
       "<tr>\n",
       "  <th>Time:</th>              <td>16:43:47</td>     <th>  Log-Likelihood:    </th> <td> -1857.5</td> \n",
       "</tr>\n",
       "<tr>\n",
       "  <th>converged:</th>           <td>True</td>       <th>  LL-Null:           </th> <td> -2072.5</td> \n",
       "</tr>\n",
       "<tr>\n",
       "  <th> </th>                      <td> </td>        <th>  LLR p-value:       </th> <td>8.286e-89</td>\n",
       "</tr>\n",
       "</table>\n",
       "<table class=\"simpletable\">\n",
       "<tr>\n",
       "         <td></td>           <th>coef</th>     <th>std err</th>      <th>z</th>      <th>P>|z|</th>  <th>[0.025</th>    <th>0.975]</th>  \n",
       "</tr>\n",
       "<tr>\n",
       "  <th>const</th>          <td>   -1.2390</td> <td>    0.135</td> <td>   -9.160</td> <td> 0.000</td> <td>   -1.504</td> <td>   -0.974</td>\n",
       "</tr>\n",
       "<tr>\n",
       "  <th>curiosity</th>      <td>    0.3329</td> <td>    0.027</td> <td>   12.193</td> <td> 0.000</td> <td>    0.279</td> <td>    0.386</td>\n",
       "</tr>\n",
       "<tr>\n",
       "  <th>confidence</th>     <td>   -0.0987</td> <td>    0.023</td> <td>   -4.304</td> <td> 0.000</td> <td>   -0.144</td> <td>   -0.054</td>\n",
       "</tr>\n",
       "<tr>\n",
       "  <th>usefulness</th>     <td>    0.0656</td> <td>    0.033</td> <td>    1.999</td> <td> 0.046</td> <td>    0.001</td> <td>    0.130</td>\n",
       "</tr>\n",
       "<tr>\n",
       "  <th>popularity</th>     <td>    0.0275</td> <td>    0.022</td> <td>    1.229</td> <td> 0.219</td> <td>   -0.016</td> <td>    0.071</td>\n",
       "</tr>\n",
       "<tr>\n",
       "  <th>writing</th>        <td>    0.0334</td> <td>    0.029</td> <td>    1.149</td> <td> 0.251</td> <td>   -0.024</td> <td>    0.090</td>\n",
       "</tr>\n",
       "<tr>\n",
       "  <th>surprise</th>       <td>   -0.0428</td> <td>    0.022</td> <td>   -1.982</td> <td> 0.047</td> <td>   -0.085</td> <td>   -0.000</td>\n",
       "</tr>\n",
       "<tr>\n",
       "  <th>social_utility</th> <td>    0.0400</td> <td>    0.032</td> <td>    1.230</td> <td> 0.219</td> <td>   -0.024</td> <td>    0.104</td>\n",
       "</tr>\n",
       "</table>"
      ],
      "text/plain": [
       "<class 'statsmodels.iolib.summary.Summary'>\n",
       "\"\"\"\n",
       "                           Logit Regression Results                           \n",
       "==============================================================================\n",
       "Dep. Variable:                 choice   No. Observations:                 2990\n",
       "Model:                          Logit   Df Residuals:                     2982\n",
       "Method:                           MLE   Df Model:                            7\n",
       "Date:                Fri, 26 Jan 2018   Pseudo R-squ.:                  0.1038\n",
       "Time:                        16:43:47   Log-Likelihood:                -1857.5\n",
       "converged:                       True   LL-Null:                       -2072.5\n",
       "                                        LLR p-value:                 8.286e-89\n",
       "==================================================================================\n",
       "                     coef    std err          z      P>|z|      [0.025      0.975]\n",
       "----------------------------------------------------------------------------------\n",
       "const             -1.2390      0.135     -9.160      0.000      -1.504      -0.974\n",
       "curiosity          0.3329      0.027     12.193      0.000       0.279       0.386\n",
       "confidence        -0.0987      0.023     -4.304      0.000      -0.144      -0.054\n",
       "usefulness         0.0656      0.033      1.999      0.046       0.001       0.130\n",
       "popularity         0.0275      0.022      1.229      0.219      -0.016       0.071\n",
       "writing            0.0334      0.029      1.149      0.251      -0.024       0.090\n",
       "surprise          -0.0428      0.022     -1.982      0.047      -0.085      -0.000\n",
       "social_utility     0.0400      0.032      1.230      0.219      -0.024       0.104\n",
       "==================================================================================\n",
       "\"\"\""
      ]
     },
     "execution_count": 15,
     "metadata": {},
     "output_type": "execute_result"
    }
   ],
   "source": [
    "input_columns = columns[1:8]\n",
    "X = new_data[input_columns]\n",
    "y = new_data['choice']\n",
    "X = sm.add_constant(X)\n",
    "\n",
    "logit_model = sm.Logit(y, X)\n",
    "results = logit_model.fit()\n",
    "results.summary()"
   ]
  },
  {
   "cell_type": "code",
   "execution_count": 16,
   "metadata": {},
   "outputs": [
    {
     "name": "stdout",
     "output_type": "stream",
     "text": [
      "Optimization terminated successfully.\n",
      "         Current function value: 0.683819\n",
      "         Iterations 4\n"
     ]
    },
    {
     "data": {
      "text/html": [
       "<table class=\"simpletable\">\n",
       "<caption>Logit Regression Results</caption>\n",
       "<tr>\n",
       "  <th>Dep. Variable:</th>      <td>choice</td>      <th>  No. Observations:  </th>  <td>  2990</td>  \n",
       "</tr>\n",
       "<tr>\n",
       "  <th>Model:</th>               <td>Logit</td>      <th>  Df Residuals:      </th>  <td>  2988</td>  \n",
       "</tr>\n",
       "<tr>\n",
       "  <th>Method:</th>               <td>MLE</td>       <th>  Df Model:          </th>  <td>     1</td>  \n",
       "</tr>\n",
       "<tr>\n",
       "  <th>Date:</th>          <td>Fri, 26 Jan 2018</td> <th>  Pseudo R-squ.:     </th>  <td>0.01346</td> \n",
       "</tr>\n",
       "<tr>\n",
       "  <th>Time:</th>              <td>16:43:47</td>     <th>  Log-Likelihood:    </th> <td> -2044.6</td> \n",
       "</tr>\n",
       "<tr>\n",
       "  <th>converged:</th>           <td>True</td>       <th>  LL-Null:           </th> <td> -2072.5</td> \n",
       "</tr>\n",
       "<tr>\n",
       "  <th> </th>                      <td> </td>        <th>  LLR p-value:       </th> <td>8.090e-14</td>\n",
       "</tr>\n",
       "</table>\n",
       "<table class=\"simpletable\">\n",
       "<tr>\n",
       "       <td></td>         <th>coef</th>     <th>std err</th>      <th>z</th>      <th>P>|z|</th>  <th>[0.025</th>    <th>0.975]</th>  \n",
       "</tr>\n",
       "<tr>\n",
       "  <th>const</th>      <td>   -0.4155</td> <td>    0.067</td> <td>   -6.187</td> <td> 0.000</td> <td>   -0.547</td> <td>   -0.284</td>\n",
       "</tr>\n",
       "<tr>\n",
       "  <th>popularity</th> <td>    0.1408</td> <td>    0.019</td> <td>    7.407</td> <td> 0.000</td> <td>    0.104</td> <td>    0.178</td>\n",
       "</tr>\n",
       "</table>"
      ],
      "text/plain": [
       "<class 'statsmodels.iolib.summary.Summary'>\n",
       "\"\"\"\n",
       "                           Logit Regression Results                           \n",
       "==============================================================================\n",
       "Dep. Variable:                 choice   No. Observations:                 2990\n",
       "Model:                          Logit   Df Residuals:                     2988\n",
       "Method:                           MLE   Df Model:                            1\n",
       "Date:                Fri, 26 Jan 2018   Pseudo R-squ.:                 0.01346\n",
       "Time:                        16:43:47   Log-Likelihood:                -2044.6\n",
       "converged:                       True   LL-Null:                       -2072.5\n",
       "                                        LLR p-value:                 8.090e-14\n",
       "==============================================================================\n",
       "                 coef    std err          z      P>|z|      [0.025      0.975]\n",
       "------------------------------------------------------------------------------\n",
       "const         -0.4155      0.067     -6.187      0.000      -0.547      -0.284\n",
       "popularity     0.1408      0.019      7.407      0.000       0.104       0.178\n",
       "==============================================================================\n",
       "\"\"\""
      ]
     },
     "execution_count": 16,
     "metadata": {},
     "output_type": "execute_result"
    }
   ],
   "source": [
    "# Popularity\n",
    "X = new_data['popularity']\n",
    "y = new_data['choice']\n",
    "X = sm.add_constant(X)\n",
    "\n",
    "logit_model = sm.Logit(y, X)\n",
    "results = logit_model.fit()\n",
    "results.summary()"
   ]
  },
  {
   "cell_type": "code",
   "execution_count": 17,
   "metadata": {},
   "outputs": [
    {
     "name": "stdout",
     "output_type": "stream",
     "text": [
      "Optimization terminated successfully.\n",
      "         Current function value: 0.626648\n",
      "         Iterations 5\n"
     ]
    },
    {
     "data": {
      "text/html": [
       "<table class=\"simpletable\">\n",
       "<caption>Logit Regression Results</caption>\n",
       "<tr>\n",
       "  <th>Dep. Variable:</th>      <td>choice</td>      <th>  No. Observations:  </th>  <td>  2990</td>  \n",
       "</tr>\n",
       "<tr>\n",
       "  <th>Model:</th>               <td>Logit</td>      <th>  Df Residuals:      </th>  <td>  2988</td>  \n",
       "</tr>\n",
       "<tr>\n",
       "  <th>Method:</th>               <td>MLE</td>       <th>  Df Model:          </th>  <td>     1</td>  \n",
       "</tr>\n",
       "<tr>\n",
       "  <th>Date:</th>          <td>Fri, 26 Jan 2018</td> <th>  Pseudo R-squ.:     </th>  <td>0.09594</td> \n",
       "</tr>\n",
       "<tr>\n",
       "  <th>Time:</th>              <td>16:43:47</td>     <th>  Log-Likelihood:    </th> <td> -1873.7</td> \n",
       "</tr>\n",
       "<tr>\n",
       "  <th>converged:</th>           <td>True</td>       <th>  LL-Null:           </th> <td> -2072.5</td> \n",
       "</tr>\n",
       "<tr>\n",
       "  <th> </th>                      <td> </td>        <th>  LLR p-value:       </th> <td>1.775e-88</td>\n",
       "</tr>\n",
       "</table>\n",
       "<table class=\"simpletable\">\n",
       "<tr>\n",
       "      <td></td>         <th>coef</th>     <th>std err</th>      <th>z</th>      <th>P>|z|</th>  <th>[0.025</th>    <th>0.975]</th>  \n",
       "</tr>\n",
       "<tr>\n",
       "  <th>const</th>     <td>   -1.2763</td> <td>    0.079</td> <td>  -16.058</td> <td> 0.000</td> <td>   -1.432</td> <td>   -1.120</td>\n",
       "</tr>\n",
       "<tr>\n",
       "  <th>curiosity</th> <td>    0.3990</td> <td>    0.021</td> <td>   18.664</td> <td> 0.000</td> <td>    0.357</td> <td>    0.441</td>\n",
       "</tr>\n",
       "</table>"
      ],
      "text/plain": [
       "<class 'statsmodels.iolib.summary.Summary'>\n",
       "\"\"\"\n",
       "                           Logit Regression Results                           \n",
       "==============================================================================\n",
       "Dep. Variable:                 choice   No. Observations:                 2990\n",
       "Model:                          Logit   Df Residuals:                     2988\n",
       "Method:                           MLE   Df Model:                            1\n",
       "Date:                Fri, 26 Jan 2018   Pseudo R-squ.:                 0.09594\n",
       "Time:                        16:43:47   Log-Likelihood:                -1873.7\n",
       "converged:                       True   LL-Null:                       -2072.5\n",
       "                                        LLR p-value:                 1.775e-88\n",
       "==============================================================================\n",
       "                 coef    std err          z      P>|z|      [0.025      0.975]\n",
       "------------------------------------------------------------------------------\n",
       "const         -1.2763      0.079    -16.058      0.000      -1.432      -1.120\n",
       "curiosity      0.3990      0.021     18.664      0.000       0.357       0.441\n",
       "==============================================================================\n",
       "\"\"\""
      ]
     },
     "execution_count": 17,
     "metadata": {},
     "output_type": "execute_result"
    }
   ],
   "source": [
    "# Curiosity\n",
    "X = new_data['curiosity']\n",
    "y = new_data['choice']\n",
    "X = sm.add_constant(X)\n",
    "\n",
    "logit_model = sm.Logit(y, X)\n",
    "results = logit_model.fit()\n",
    "results.summary()"
   ]
  },
  {
   "cell_type": "code",
   "execution_count": 18,
   "metadata": {},
   "outputs": [
    {
     "name": "stdout",
     "output_type": "stream",
     "text": [
      "Optimization terminated successfully.\n",
      "         Current function value: 0.626329\n",
      "         Iterations 5\n"
     ]
    },
    {
     "data": {
      "text/html": [
       "<table class=\"simpletable\">\n",
       "<caption>Logit Regression Results</caption>\n",
       "<tr>\n",
       "  <th>Dep. Variable:</th>      <td>choice</td>      <th>  No. Observations:  </th>  <td>  2990</td>  \n",
       "</tr>\n",
       "<tr>\n",
       "  <th>Model:</th>               <td>Logit</td>      <th>  Df Residuals:      </th>  <td>  2987</td>  \n",
       "</tr>\n",
       "<tr>\n",
       "  <th>Method:</th>               <td>MLE</td>       <th>  Df Model:          </th>  <td>     2</td>  \n",
       "</tr>\n",
       "<tr>\n",
       "  <th>Date:</th>          <td>Fri, 26 Jan 2018</td> <th>  Pseudo R-squ.:     </th>  <td>0.09640</td> \n",
       "</tr>\n",
       "<tr>\n",
       "  <th>Time:</th>              <td>16:43:47</td>     <th>  Log-Likelihood:    </th> <td> -1872.7</td> \n",
       "</tr>\n",
       "<tr>\n",
       "  <th>converged:</th>           <td>True</td>       <th>  LL-Null:           </th> <td> -2072.5</td> \n",
       "</tr>\n",
       "<tr>\n",
       "  <th> </th>                      <td> </td>        <th>  LLR p-value:       </th> <td>1.712e-87</td>\n",
       "</tr>\n",
       "</table>\n",
       "<table class=\"simpletable\">\n",
       "<tr>\n",
       "       <td></td>         <th>coef</th>     <th>std err</th>      <th>z</th>      <th>P>|z|</th>  <th>[0.025</th>    <th>0.975]</th>  \n",
       "</tr>\n",
       "<tr>\n",
       "  <th>const</th>      <td>   -1.3337</td> <td>    0.090</td> <td>  -14.821</td> <td> 0.000</td> <td>   -1.510</td> <td>   -1.157</td>\n",
       "</tr>\n",
       "<tr>\n",
       "  <th>popularity</th> <td>    0.0294</td> <td>    0.021</td> <td>    1.383</td> <td> 0.167</td> <td>   -0.012</td> <td>    0.071</td>\n",
       "</tr>\n",
       "<tr>\n",
       "  <th>curiosity</th>  <td>    0.3899</td> <td>    0.022</td> <td>   17.474</td> <td> 0.000</td> <td>    0.346</td> <td>    0.434</td>\n",
       "</tr>\n",
       "</table>"
      ],
      "text/plain": [
       "<class 'statsmodels.iolib.summary.Summary'>\n",
       "\"\"\"\n",
       "                           Logit Regression Results                           \n",
       "==============================================================================\n",
       "Dep. Variable:                 choice   No. Observations:                 2990\n",
       "Model:                          Logit   Df Residuals:                     2987\n",
       "Method:                           MLE   Df Model:                            2\n",
       "Date:                Fri, 26 Jan 2018   Pseudo R-squ.:                 0.09640\n",
       "Time:                        16:43:47   Log-Likelihood:                -1872.7\n",
       "converged:                       True   LL-Null:                       -2072.5\n",
       "                                        LLR p-value:                 1.712e-87\n",
       "==============================================================================\n",
       "                 coef    std err          z      P>|z|      [0.025      0.975]\n",
       "------------------------------------------------------------------------------\n",
       "const         -1.3337      0.090    -14.821      0.000      -1.510      -1.157\n",
       "popularity     0.0294      0.021      1.383      0.167      -0.012       0.071\n",
       "curiosity      0.3899      0.022     17.474      0.000       0.346       0.434\n",
       "==============================================================================\n",
       "\"\"\""
      ]
     },
     "execution_count": 18,
     "metadata": {},
     "output_type": "execute_result"
    }
   ],
   "source": [
    "# Both\n",
    "X = new_data[['popularity', 'curiosity']]\n",
    "y = new_data['choice']\n",
    "X = sm.add_constant(X)\n",
    "\n",
    "logit_model = sm.Logit(y, X)\n",
    "results = logit_model.fit()\n",
    "results.summary()"
   ]
  },
  {
   "cell_type": "code",
   "execution_count": null,
   "metadata": {
    "collapsed": true
   },
   "outputs": [],
   "source": []
  },
  {
   "cell_type": "code",
   "execution_count": null,
   "metadata": {
    "collapsed": true
   },
   "outputs": [],
   "source": []
  }
 ],
 "metadata": {
  "kernel_info": {
   "name": "python3"
  },
  "kernelspec": {
   "display_name": "Python 3",
   "language": "python",
   "name": "python3"
  },
  "language_info": {
   "codemirror_mode": {
    "name": "ipython",
    "version": 3
   },
   "file_extension": ".py",
   "mimetype": "text/x-python",
   "name": "python",
   "nbconvert_exporter": "python",
   "pygments_lexer": "ipython3",
   "version": "3.6.1"
  },
  "nteract": {
   "version": "0.5.5"
  }
 },
 "nbformat": 4,
 "nbformat_minor": 2
}
