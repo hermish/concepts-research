{
 "cells": [
  {
   "cell_type": "markdown",
   "metadata": {},
   "source": [
    "# Experiment Comparison\n",
    "\n",
    "## Analysis"
   ]
  },
  {
   "cell_type": "code",
   "execution_count": 1,
   "metadata": {
    "collapsed": true
   },
   "outputs": [],
   "source": [
    "%load_ext pycodestyle_magic"
   ]
  },
  {
   "cell_type": "code",
   "execution_count": 2,
   "metadata": {},
   "outputs": [
    {
     "name": "stderr",
     "output_type": "stream",
     "text": [
      "/Users/hermish/anaconda/lib/python3.6/site-packages/statsmodels/compat/pandas.py:56: FutureWarning: The pandas.core.datetools module is deprecated and will be removed in a future version. Please use the pandas.tseries module instead.\n",
      "  from pandas.core import datetools\n"
     ]
    }
   ],
   "source": [
    "# Analytical Tools\n",
    "import numpy as np\n",
    "import pandas as pd\n",
    "import scipy\n",
    "import matplotlib.pyplot as plt\n",
    "import seaborn as sns\n",
    "from scipy import stats\n",
    "import statsmodels.api as sm\n",
    "\n",
    "# General Utilities\n",
    "import math\n",
    "import json\n",
    "import pprint\n",
    "import itertools\n",
    "import importlib\n",
    "\n",
    "# Custom Utilities\n",
    "import utilities.processing_two as processing\n",
    "import utilities.plotting as plotting\n",
    "import utilities.describe as describe\n",
    "\n",
    "# Some settings\n",
    "from IPython.display import Markdown, display\n",
    "log = pprint.pprint\n",
    "space = lambda: print()\n",
    "printmd = lambda text: display(Markdown(text))\n",
    "%matplotlib inline\n",
    "%config InlineBackend.figure_format = 'retina'"
   ]
  },
  {
   "cell_type": "markdown",
   "metadata": {},
   "source": [
    "### Reading Data and Defining Constants"
   ]
  },
  {
   "cell_type": "code",
   "execution_count": 8,
   "metadata": {},
   "outputs": [],
   "source": [
    "exp_one_model = pd.read_pickle('raw-data/exp_one_model.pkl')\n",
    "exp_one_responses = pd.read_pickle('raw-data/exp_one_responses.pkl')\n",
    "exp_two_model = pd.read_pickle('raw-data/exp_two_model.pkl')\n",
    "exp_two_responses = pd.read_pickle('raw-data/exp_two_responses.pkl')"
   ]
  },
  {
   "cell_type": "code",
   "execution_count": 22,
   "metadata": {},
   "outputs": [
    {
     "name": "stdout",
     "output_type": "stream",
     "text": [
      "292 292 1.2349315068493145 0.4554794520547946 0.7794520547945198\n",
      "t = 7.04, p = 5.36e-12 (0 greater)\n",
      "292 292 0.6472602739726027 0.5479452054794521 0.09931506849315053\n",
      "t = 5.71, p = 1.81e-08 (0 greater)\n"
     ]
    }
   ],
   "source": [
    "curiosity_difference_one = exp_one_responses['j0_diff']\n",
    "curiosity_difference_two = exp_two_responses['j0_diff']\n",
    "\n",
    "print(len(curiosity_difference_one),\n",
    "      len(curiosity_difference_two),\n",
    "      curiosity_difference_one.mean(),\n",
    "      curiosity_difference_two.mean(),\n",
    "      curiosity_difference_one.mean() -\n",
    "      curiosity_difference_two.mean())\n",
    "print(describe.independent_t_test(curiosity_difference_one, curiosity_difference_two))\n",
    "\n",
    "high_choice_one = exp_one_responses['high_choice']\n",
    "high_choice_two = exp_two_responses['high_choice']\n",
    "\n",
    "print(len(high_choice_one),\n",
    "      len(high_choice_two),\n",
    "      high_choice_one.mean(),\n",
    "      high_choice_two.mean(),\n",
    "      high_choice_one.mean() -\n",
    "      high_choice_two.mean())\n",
    "print(describe.independent_t_test(high_choice_one, high_choice_two))"
   ]
  },
  {
   "cell_type": "code",
   "execution_count": null,
   "metadata": {
    "collapsed": true
   },
   "outputs": [],
   "source": []
  }
 ],
 "metadata": {
  "kernelspec": {
   "display_name": "Python 3",
   "language": "python",
   "name": "python3"
  },
  "language_info": {
   "codemirror_mode": {
    "name": "ipython",
    "version": 3
   },
   "file_extension": ".py",
   "mimetype": "text/x-python",
   "name": "python",
   "nbconvert_exporter": "python",
   "pygments_lexer": "ipython3",
   "version": "3.6.1"
  }
 },
 "nbformat": 4,
 "nbformat_minor": 2
}
