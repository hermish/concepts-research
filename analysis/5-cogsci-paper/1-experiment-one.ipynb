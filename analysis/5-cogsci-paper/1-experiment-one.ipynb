{
 "cells": [
  {
   "cell_type": "markdown",
   "metadata": {},
   "source": [
    "# Experiment One\n",
    "\n",
    "The second study, called `experiment-one`, looked at the effect of social influence on curiousity, using upvotes as proxy for social interest. Below we analyze the responses to test the hypothesis that the same questions, when given higher upvotes, receive higher scores from participants with regards to curiousity. And, further, whether this translates into participants being more likely to choose to view the answers to the questions with higher upvotes.\n",
    "\n",
    "## Analysis"
   ]
  },
  {
   "cell_type": "code",
   "execution_count": 1,
   "metadata": {},
   "outputs": [],
   "source": [
    "%load_ext pycodestyle_magic"
   ]
  },
  {
   "cell_type": "code",
   "execution_count": 26,
   "metadata": {},
   "outputs": [],
   "source": [
    "# Analytical Tools\n",
    "import numpy as np\n",
    "import pandas as pd\n",
    "import scipy\n",
    "import matplotlib.pyplot as plt\n",
    "import seaborn as sns\n",
    "from scipy import stats\n",
    "import statsmodels.api as sm\n",
    "import statsmodels.stats.api as sms\n",
    "\n",
    "# General Utilities\n",
    "import math\n",
    "import json\n",
    "import pprint\n",
    "import itertools\n",
    "import importlib\n",
    "\n",
    "# Custom Utilities\n",
    "import utilities.processing_one as processing\n",
    "import utilities.plotting as plotting\n",
    "import utilities.describe as describe\n",
    "\n",
    "# Some settings\n",
    "from IPython.display import Markdown, display\n",
    "log = pprint.pprint\n",
    "space = lambda: print()\n",
    "printmd = lambda text: display(Markdown(text))\n",
    "%matplotlib inline\n",
    "%config InlineBackend.figure_format = 'retina'"
   ]
  },
  {
   "cell_type": "markdown",
   "metadata": {},
   "source": [
    "### Reading Data and Defining Constants"
   ]
  },
  {
   "cell_type": "code",
   "execution_count": 3,
   "metadata": {
    "collapsed": true
   },
   "outputs": [],
   "source": [
    "FILE_NAMES = [\n",
    "    'raw-data/responses-one.json'\n",
    "]\n",
    "\n",
    "NUM_QUESTIONS, NUM_JUDGEMENTS = 10, 2\n",
    "GROUP_SIZE = NUM_QUESTIONS // 2\n",
    "\n",
    "ALL_LABELS = processing.get_all_labels(NUM_QUESTIONS)\n",
    "LOW_LABELS, HIGH_LABELS = ALL_LABELS[:GROUP_SIZE], ALL_LABELS[GROUP_SIZE:]\n",
    "JUDGMENT_LABELS = processing.get_judgment_labels(NUM_JUDGEMENTS)\n",
    "\n",
    "with open(FILE_NAMES[0]) as file:\n",
    "    master_responses = [json.loads(line) for line in file if line]"
   ]
  },
  {
   "cell_type": "markdown",
   "metadata": {},
   "source": [
    "### Reading Responses into Data\n",
    "Creates a `DataFrame` based on the survey data."
   ]
  },
  {
   "cell_type": "code",
   "execution_count": 4,
   "metadata": {
    "collapsed": true
   },
   "outputs": [],
   "source": [
    "col_labels = processing.get_col_labels(NUM_QUESTIONS,\n",
    "                                       NUM_JUDGEMENTS)\n",
    "data = {label: [] for label in col_labels}"
   ]
  },
  {
   "cell_type": "code",
   "execution_count": 5,
   "metadata": {},
   "outputs": [
    {
     "data": {
      "text/plain": [
       "{'internal_node_id': '0.0-3.0-0.0',\n",
       " 'judgmentIndicies': [0, 1],\n",
       " 'questionIndicies': [4, 27, 10, 44, 40, 45, 12, 17, 3, 24],\n",
       " 'questionScores': [27, 24, 2402, 34, 22, 2398, 2405, 2407, 2401, 23],\n",
       " 'responses': '{\"Q0\":\"4\",\"Q1\":\"5\"}',\n",
       " 'rt': 5381,\n",
       " 'time_elapsed': 13133,\n",
       " 'trial_index': 3,\n",
       " 'trial_type': 'survey-likert'}"
      ]
     },
     "execution_count": 5,
     "metadata": {},
     "output_type": "execute_result"
    }
   ],
   "source": [
    "processing.fill_experiment_data(data, master_responses)\n",
    "master_responses[0]['data'][3]"
   ]
  },
  {
   "cell_type": "code",
   "execution_count": 6,
   "metadata": {},
   "outputs": [
    {
     "name": "stdout",
     "output_type": "stream",
     "text": [
      "15300 300\n"
     ]
    },
    {
     "data": {
      "text/html": [
       "<div>\n",
       "<style>\n",
       "    .dataframe thead tr:only-child th {\n",
       "        text-align: right;\n",
       "    }\n",
       "\n",
       "    .dataframe thead th {\n",
       "        text-align: left;\n",
       "    }\n",
       "\n",
       "    .dataframe tbody tr th {\n",
       "        vertical-align: top;\n",
       "    }\n",
       "</style>\n",
       "<table border=\"1\" class=\"dataframe\">\n",
       "  <thead>\n",
       "    <tr style=\"text-align: right;\">\n",
       "      <th></th>\n",
       "      <th>consent</th>\n",
       "      <th>high_q0_choice</th>\n",
       "      <th>high_q0_index</th>\n",
       "      <th>high_q0_j0</th>\n",
       "      <th>high_q0_j1</th>\n",
       "      <th>high_q0_score</th>\n",
       "      <th>high_q1_choice</th>\n",
       "      <th>high_q1_index</th>\n",
       "      <th>high_q1_j0</th>\n",
       "      <th>high_q1_j1</th>\n",
       "      <th>...</th>\n",
       "      <th>low_q3_choice</th>\n",
       "      <th>low_q3_index</th>\n",
       "      <th>low_q3_j0</th>\n",
       "      <th>low_q3_j1</th>\n",
       "      <th>low_q3_score</th>\n",
       "      <th>low_q4_choice</th>\n",
       "      <th>low_q4_index</th>\n",
       "      <th>low_q4_j0</th>\n",
       "      <th>low_q4_j1</th>\n",
       "      <th>low_q4_score</th>\n",
       "    </tr>\n",
       "  </thead>\n",
       "  <tbody>\n",
       "    <tr>\n",
       "      <th>0</th>\n",
       "      <td>1</td>\n",
       "      <td>0</td>\n",
       "      <td>10</td>\n",
       "      <td>4</td>\n",
       "      <td>3</td>\n",
       "      <td>2402</td>\n",
       "      <td>0</td>\n",
       "      <td>45</td>\n",
       "      <td>3</td>\n",
       "      <td>2</td>\n",
       "      <td>...</td>\n",
       "      <td>0</td>\n",
       "      <td>40</td>\n",
       "      <td>2</td>\n",
       "      <td>2</td>\n",
       "      <td>22</td>\n",
       "      <td>1</td>\n",
       "      <td>24</td>\n",
       "      <td>3</td>\n",
       "      <td>2</td>\n",
       "      <td>23</td>\n",
       "    </tr>\n",
       "    <tr>\n",
       "      <th>1</th>\n",
       "      <td>1</td>\n",
       "      <td>1</td>\n",
       "      <td>9</td>\n",
       "      <td>0</td>\n",
       "      <td>0</td>\n",
       "      <td>2408</td>\n",
       "      <td>1</td>\n",
       "      <td>46</td>\n",
       "      <td>0</td>\n",
       "      <td>0</td>\n",
       "      <td>...</td>\n",
       "      <td>0</td>\n",
       "      <td>49</td>\n",
       "      <td>0</td>\n",
       "      <td>0</td>\n",
       "      <td>46</td>\n",
       "      <td>0</td>\n",
       "      <td>29</td>\n",
       "      <td>0</td>\n",
       "      <td>0</td>\n",
       "      <td>24</td>\n",
       "    </tr>\n",
       "    <tr>\n",
       "      <th>2</th>\n",
       "      <td>1</td>\n",
       "      <td>0</td>\n",
       "      <td>1</td>\n",
       "      <td>1</td>\n",
       "      <td>1</td>\n",
       "      <td>2393</td>\n",
       "      <td>1</td>\n",
       "      <td>41</td>\n",
       "      <td>5</td>\n",
       "      <td>5</td>\n",
       "      <td>...</td>\n",
       "      <td>0</td>\n",
       "      <td>6</td>\n",
       "      <td>5</td>\n",
       "      <td>5</td>\n",
       "      <td>22</td>\n",
       "      <td>1</td>\n",
       "      <td>40</td>\n",
       "      <td>6</td>\n",
       "      <td>6</td>\n",
       "      <td>27</td>\n",
       "    </tr>\n",
       "    <tr>\n",
       "      <th>3</th>\n",
       "      <td>1</td>\n",
       "      <td>0</td>\n",
       "      <td>33</td>\n",
       "      <td>3</td>\n",
       "      <td>4</td>\n",
       "      <td>2387</td>\n",
       "      <td>0</td>\n",
       "      <td>8</td>\n",
       "      <td>2</td>\n",
       "      <td>2</td>\n",
       "      <td>...</td>\n",
       "      <td>1</td>\n",
       "      <td>43</td>\n",
       "      <td>1</td>\n",
       "      <td>1</td>\n",
       "      <td>25</td>\n",
       "      <td>1</td>\n",
       "      <td>16</td>\n",
       "      <td>1</td>\n",
       "      <td>1</td>\n",
       "      <td>21</td>\n",
       "    </tr>\n",
       "    <tr>\n",
       "      <th>4</th>\n",
       "      <td>1</td>\n",
       "      <td>1</td>\n",
       "      <td>36</td>\n",
       "      <td>4</td>\n",
       "      <td>3</td>\n",
       "      <td>2401</td>\n",
       "      <td>1</td>\n",
       "      <td>4</td>\n",
       "      <td>4</td>\n",
       "      <td>3</td>\n",
       "      <td>...</td>\n",
       "      <td>0</td>\n",
       "      <td>25</td>\n",
       "      <td>5</td>\n",
       "      <td>4</td>\n",
       "      <td>15</td>\n",
       "      <td>0</td>\n",
       "      <td>10</td>\n",
       "      <td>4</td>\n",
       "      <td>3</td>\n",
       "      <td>19</td>\n",
       "    </tr>\n",
       "  </tbody>\n",
       "</table>\n",
       "<p>5 rows × 51 columns</p>\n",
       "</div>"
      ],
      "text/plain": [
       "   consent  high_q0_choice  high_q0_index  high_q0_j0  high_q0_j1  \\\n",
       "0        1               0             10           4           3   \n",
       "1        1               1              9           0           0   \n",
       "2        1               0              1           1           1   \n",
       "3        1               0             33           3           4   \n",
       "4        1               1             36           4           3   \n",
       "\n",
       "   high_q0_score  high_q1_choice  high_q1_index  high_q1_j0  high_q1_j1  \\\n",
       "0           2402               0             45           3           2   \n",
       "1           2408               1             46           0           0   \n",
       "2           2393               1             41           5           5   \n",
       "3           2387               0              8           2           2   \n",
       "4           2401               1              4           4           3   \n",
       "\n",
       "       ...       low_q3_choice  low_q3_index  low_q3_j0  low_q3_j1  \\\n",
       "0      ...                   0            40          2          2   \n",
       "1      ...                   0            49          0          0   \n",
       "2      ...                   0             6          5          5   \n",
       "3      ...                   1            43          1          1   \n",
       "4      ...                   0            25          5          4   \n",
       "\n",
       "   low_q3_score  low_q4_choice  low_q4_index  low_q4_j0  low_q4_j1  \\\n",
       "0            22              1            24          3          2   \n",
       "1            46              0            29          0          0   \n",
       "2            22              1            40          6          6   \n",
       "3            25              1            16          1          1   \n",
       "4            15              0            10          4          3   \n",
       "\n",
       "   low_q4_score  \n",
       "0            23  \n",
       "1            24  \n",
       "2            27  \n",
       "3            21  \n",
       "4            19  \n",
       "\n",
       "[5 rows x 51 columns]"
      ]
     },
     "execution_count": 6,
     "metadata": {},
     "output_type": "execute_result"
    }
   ],
   "source": [
    "data = pd.DataFrame(data)\n",
    "data = data[data.consent == 1]\n",
    "sample_size = len(data)\n",
    "print(data.size, sample_size)\n",
    "data.head()"
   ]
  },
  {
   "cell_type": "markdown",
   "metadata": {
    "collapsed": true
   },
   "source": [
    "### Examining Participants Without Variance\n",
    "\n",
    "New we consider elimating participants with little to no variance to determine if this had any noticable effect on our results. For example, particpant number two in our study had a variance of 0.2, meaning nearly ever response he or she gave was 3; we remove all such particpants and test for significance in the same way."
   ]
  },
  {
   "cell_type": "code",
   "execution_count": 7,
   "metadata": {
    "scrolled": true
   },
   "outputs": [
    {
     "data": {
      "image/png": "[encoded data removed]",
      "text/plain": [
       "<matplotlib.figure.Figure at 0x11cc13ef0>"
      ]
     },
     "metadata": {
      "image/png": {
       "height": 248,
       "width": 367
      }
     },
     "output_type": "display_data"
    }
   ],
   "source": [
    "all_judgment_headers = ['{}_{}'.format(q_label, j_label) for \n",
    "                        q_label, j_label in itertools.product(\n",
    "                            ALL_LABELS, JUDGMENT_LABELS)]\n",
    "data['total_var'] = data[all_judgment_headers].std(axis=1)\n",
    "plt.hist(data['total_var'])\n",
    "plt.show()\n",
    "\n",
    "# problematic = data[data.total_var < 0.75]\n",
    "# problematic_judgments = problematic[all_judgment_headers]\n",
    "# for index, row in problematic_judgments.iterrows():\n",
    "#     print(np.unique(row))"
   ]
  },
  {
   "cell_type": "code",
   "execution_count": 8,
   "metadata": {},
   "outputs": [
    {
     "name": "stdout",
     "output_type": "stream",
     "text": [
      "8 eliminated\n"
     ]
    }
   ],
   "source": [
    "data = data[data.total_var > 0.75]\n",
    "print('{} eliminated'.format(sample_size - len(data)))"
   ]
  },
  {
   "cell_type": "markdown",
   "metadata": {},
   "source": [
    "### Simple T-Tests\n",
    "We first attempt to replicate the results of the first experiment by once again conducting a paired samples t-test."
   ]
  },
  {
   "cell_type": "code",
   "execution_count": 9,
   "metadata": {
    "collapsed": true
   },
   "outputs": [],
   "source": [
    "# Update the table with intermediate values\n",
    "low_means, low_err = [], []\n",
    "high_means, high_err = [], []\n",
    "sample_size = len(data)\n",
    "\n",
    "for j_label in JUDGMENT_LABELS:\n",
    "    low_headers = ['{}_{}'.format(q_label, j_label) for q_label in LOW_LABELS]\n",
    "    high_headers = ['{}_{}'.format(q_label, j_label) for q_label in HIGH_LABELS]\n",
    "    low_data = data[low_headers].mean(axis=1)\n",
    "    high_data = data[high_headers].mean(axis=1)\n",
    "    \n",
    "    data['{}_low'.format(j_label)] = low_data\n",
    "    data['{}_high'.format(j_label)] = high_data\n",
    "    data['{}_diff'.format(j_label)] = high_data - low_data\n",
    "    \n",
    "    low_means.append(low_data.mean())\n",
    "    low_err.append(low_data.std() / math.sqrt(sample_size))\n",
    "    high_means.append(high_data.mean())\n",
    "    high_err.append(high_data.std() / math.sqrt(sample_size))"
   ]
  },
  {
   "cell_type": "code",
   "execution_count": 37,
   "metadata": {},
   "outputs": [
    {
     "name": "stdout",
     "output_type": "stream",
     "text": [
      "(1.0633553286642172, 1.4065076850344131)\n",
      "Curiosity: t = -14.2, p = 5.24e-35 (1 greater)\n",
      "(2.9813291196069769, 3.3762051269683657)\n",
      "Popularity: t = -31.7, p = 2.41e-96 (1 greater)\n"
     ]
    },
    {
     "data": {
      "image/png": "[encoded data removed]",
      "text/plain": [
       "<matplotlib.figure.Figure at 0x12326fe10>"
      ]
     },
     "metadata": {
      "image/png": {
       "height": 372,
       "width": 710
      }
     },
     "output_type": "display_data"
    }
   ],
   "source": [
    "# Compute averages, run t-test and plot\n",
    "PLOTTING_OPTIONS = {\n",
    "    'y_label': 'Ratings',\n",
    "    'ticks': ['Curiosity', 'Popularity'],\n",
    "    'legend': ['Low Scores', 'High Scores'],\n",
    "    'title': 'All Questions',\n",
    "    'size': (12, 6)\n",
    "}\n",
    "\n",
    "for index, j_label in enumerate(JUDGMENT_LABELS):\n",
    "    low_data = data['{}_low'.format(j_label)]\n",
    "    high_data = data['{}_high'.format(j_label)]\n",
    "    # print(sms.DescrStatsW(high_data - low_data).tconfint_mean())\n",
    "    print('{}: {}'.format(PLOTTING_OPTIONS['ticks'][index],\n",
    "              describe.paired_t_test(low_data, high_data)))\n",
    "\n",
    "plotting.plot_double_bar(low_means, low_err, high_means,\n",
    "                         high_err, **PLOTTING_OPTIONS)\n"
   ]
  },
  {
   "cell_type": "code",
   "execution_count": 43,
   "metadata": {
    "scrolled": true
   },
   "outputs": [
    {
     "data": {
      "image/png": "[encoded data removed]",
      "text/plain": [
       "<matplotlib.figure.Figure at 0x122039d68>"
      ]
     },
     "metadata": {
      "image/png": {
       "height": 263,
       "width": 384
      }
     },
     "output_type": "display_data"
    },
    {
     "name": "stdout",
     "output_type": "stream",
     "text": [
      "0.647260273973\n",
      "t = 11.1, p = 2.87e-24 (greater)\n",
      "Effect size: 0.29452054794520505\n"
     ]
    }
   ],
   "source": [
    "PLOTTING_OPTIONS = {\n",
    "    'y_label': 'Proportion',\n",
    "    'ticks': ['Low Scores', 'High Scores'],\n",
    "    'title': 'Question Selection'\n",
    "}\n",
    "\n",
    "low_choice_labels = ['{}_choice'.format(q_label) for q_label in LOW_LABELS]\n",
    "high_choice_labels = ['{}_choice'.format(q_label) for q_label in HIGH_LABELS]\n",
    "low_choice_means = data[low_choice_labels].mean(axis=1)\n",
    "high_choice_means = data[high_choice_labels].mean(axis=1)\n",
    "low_mean = low_choice_means.mean()\n",
    "high_mean = high_choice_means.mean()\n",
    "\n",
    "plotting.plot_single_bar(\n",
    "    [low_mean, high_mean],\n",
    "    [low_choice_means.std() / math.sqrt(sample_size),\n",
    "    high_choice_means.std() / math.sqrt(sample_size)],\n",
    "    **PLOTTING_OPTIONS)\n",
    "\n",
    "print(sms.DescrStatsW(high_choice_means).mean)\n",
    "print(describe.one_sample_t_test(high_choice_means, 0.5))\n",
    "print('Effect size: {}'.format(high_mean - low_mean))"
   ]
  },
  {
   "cell_type": "markdown",
   "metadata": {},
   "source": [
    "### Mediation Analysis"
   ]
  },
  {
   "cell_type": "code",
   "execution_count": 12,
   "metadata": {
    "collapsed": true,
    "scrolled": false
   },
   "outputs": [],
   "source": [
    "# Aggreate all questions and choice\n",
    "columns = ['votes', 'curiosity', 'popularity', 'choice']\n",
    "flattened_data = {col: [] for col in columns}\n",
    "\n",
    "for index, row in data.iterrows():\n",
    "    for q_label in ALL_LABELS:\n",
    "        level = 1 if row['{}_score'.format(q_label)] > 240.9 else 0\n",
    "        flattened_data[columns[0]].append(level)\n",
    "        flattened_data[columns[1]].append(row['{}_j0'.format(q_label)])\n",
    "        flattened_data[columns[2]].append(row['{}_j1'.format(q_label)])\n",
    "        flattened_data[columns[3]].append(row['{}_choice'.format(q_label)])"
   ]
  },
  {
   "cell_type": "code",
   "execution_count": 13,
   "metadata": {},
   "outputs": [
    {
     "name": "stdout",
     "output_type": "stream",
     "text": [
      "11680 2920\n"
     ]
    },
    {
     "data": {
      "text/html": [
       "<div>\n",
       "<style>\n",
       "    .dataframe thead tr:only-child th {\n",
       "        text-align: right;\n",
       "    }\n",
       "\n",
       "    .dataframe thead th {\n",
       "        text-align: left;\n",
       "    }\n",
       "\n",
       "    .dataframe tbody tr th {\n",
       "        vertical-align: top;\n",
       "    }\n",
       "</style>\n",
       "<table border=\"1\" class=\"dataframe\">\n",
       "  <thead>\n",
       "    <tr style=\"text-align: right;\">\n",
       "      <th></th>\n",
       "      <th>choice</th>\n",
       "      <th>curiosity</th>\n",
       "      <th>popularity</th>\n",
       "      <th>votes</th>\n",
       "    </tr>\n",
       "  </thead>\n",
       "  <tbody>\n",
       "    <tr>\n",
       "      <th>0</th>\n",
       "      <td>1.0</td>\n",
       "      <td>4.0</td>\n",
       "      <td>5.0</td>\n",
       "      <td>0</td>\n",
       "    </tr>\n",
       "    <tr>\n",
       "      <th>1</th>\n",
       "      <td>1.0</td>\n",
       "      <td>6.0</td>\n",
       "      <td>4.0</td>\n",
       "      <td>0</td>\n",
       "    </tr>\n",
       "    <tr>\n",
       "      <th>2</th>\n",
       "      <td>1.0</td>\n",
       "      <td>2.0</td>\n",
       "      <td>2.0</td>\n",
       "      <td>0</td>\n",
       "    </tr>\n",
       "    <tr>\n",
       "      <th>3</th>\n",
       "      <td>0.0</td>\n",
       "      <td>2.0</td>\n",
       "      <td>2.0</td>\n",
       "      <td>0</td>\n",
       "    </tr>\n",
       "    <tr>\n",
       "      <th>4</th>\n",
       "      <td>1.0</td>\n",
       "      <td>3.0</td>\n",
       "      <td>2.0</td>\n",
       "      <td>0</td>\n",
       "    </tr>\n",
       "  </tbody>\n",
       "</table>\n",
       "</div>"
      ],
      "text/plain": [
       "   choice  curiosity  popularity  votes\n",
       "0     1.0        4.0         5.0      0\n",
       "1     1.0        6.0         4.0      0\n",
       "2     1.0        2.0         2.0      0\n",
       "3     0.0        2.0         2.0      0\n",
       "4     1.0        3.0         2.0      0"
      ]
     },
     "execution_count": 13,
     "metadata": {},
     "output_type": "execute_result"
    }
   ],
   "source": [
    "new_data = pd.DataFrame(flattened_data)\n",
    "print(new_data.size, len(new_data))\n",
    "new_data.head()"
   ]
  },
  {
   "cell_type": "code",
   "execution_count": 46,
   "metadata": {},
   "outputs": [
    {
     "name": "stdout",
     "output_type": "stream",
     "text": [
      "Optimization terminated successfully.\n",
      "         Current function value: 0.648414\n",
      "         Iterations 4\n"
     ]
    },
    {
     "data": {
      "text/html": [
       "<table class=\"simpletable\">\n",
       "<caption>Logit Regression Results</caption>\n",
       "<tr>\n",
       "  <th>Dep. Variable:</th>      <td>choice</td>      <th>  No. Observations:  </th>  <td>  2920</td>  \n",
       "</tr>\n",
       "<tr>\n",
       "  <th>Model:</th>               <td>Logit</td>      <th>  Df Residuals:      </th>  <td>  2918</td>  \n",
       "</tr>\n",
       "<tr>\n",
       "  <th>Method:</th>               <td>MLE</td>       <th>  Df Model:          </th>  <td>     1</td>  \n",
       "</tr>\n",
       "<tr>\n",
       "  <th>Date:</th>          <td>Tue, 30 Jan 2018</td> <th>  Pseudo R-squ.:     </th>  <td>0.06454</td> \n",
       "</tr>\n",
       "<tr>\n",
       "  <th>Time:</th>              <td>21:58:23</td>     <th>  Log-Likelihood:    </th> <td> -1893.4</td> \n",
       "</tr>\n",
       "<tr>\n",
       "  <th>converged:</th>           <td>True</td>       <th>  LL-Null:           </th> <td> -2024.0</td> \n",
       "</tr>\n",
       "<tr>\n",
       "  <th> </th>                      <td> </td>        <th>  LLR p-value:       </th> <td>9.196e-59</td>\n",
       "</tr>\n",
       "</table>\n",
       "<table class=\"simpletable\">\n",
       "<tr>\n",
       "       <td></td>         <th>coef</th>     <th>std err</th>      <th>z</th>      <th>P>|z|</th>  <th>[0.025</th>    <th>0.975]</th>  \n",
       "</tr>\n",
       "<tr>\n",
       "  <th>const</th>      <td>   -0.8609</td> <td>    0.067</td> <td>  -12.767</td> <td> 0.000</td> <td>   -0.993</td> <td>   -0.729</td>\n",
       "</tr>\n",
       "<tr>\n",
       "  <th>popularity</th> <td>    0.2879</td> <td>    0.018</td> <td>   15.597</td> <td> 0.000</td> <td>    0.252</td> <td>    0.324</td>\n",
       "</tr>\n",
       "</table>"
      ],
      "text/plain": [
       "<class 'statsmodels.iolib.summary.Summary'>\n",
       "\"\"\"\n",
       "                           Logit Regression Results                           \n",
       "==============================================================================\n",
       "Dep. Variable:                 choice   No. Observations:                 2920\n",
       "Model:                          Logit   Df Residuals:                     2918\n",
       "Method:                           MLE   Df Model:                            1\n",
       "Date:                Tue, 30 Jan 2018   Pseudo R-squ.:                 0.06454\n",
       "Time:                        21:58:23   Log-Likelihood:                -1893.4\n",
       "converged:                       True   LL-Null:                       -2024.0\n",
       "                                        LLR p-value:                 9.196e-59\n",
       "==============================================================================\n",
       "                 coef    std err          z      P>|z|      [0.025      0.975]\n",
       "------------------------------------------------------------------------------\n",
       "const         -0.8609      0.067    -12.767      0.000      -0.993      -0.729\n",
       "popularity     0.2879      0.018     15.597      0.000       0.252       0.324\n",
       "==============================================================================\n",
       "\"\"\""
      ]
     },
     "execution_count": 46,
     "metadata": {},
     "output_type": "execute_result"
    }
   ],
   "source": [
    "# Popularity\n",
    "X = new_data['popularity']\n",
    "y = new_data['choice']\n",
    "X = sm.add_constant(X)\n",
    "\n",
    "logit_model = sm.Logit(y, X)\n",
    "results = logit_model.fit()\n",
    "results.summary()"
   ]
  },
  {
   "cell_type": "code",
   "execution_count": 15,
   "metadata": {},
   "outputs": [
    {
     "name": "stdout",
     "output_type": "stream",
     "text": [
      "Optimization terminated successfully.\n",
      "         Current function value: 0.591405\n",
      "         Iterations 5\n"
     ]
    },
    {
     "data": {
      "text/html": [
       "<table class=\"simpletable\">\n",
       "<caption>Logit Regression Results</caption>\n",
       "<tr>\n",
       "  <th>Dep. Variable:</th>      <td>choice</td>      <th>  No. Observations:  </th>   <td>  2920</td>  \n",
       "</tr>\n",
       "<tr>\n",
       "  <th>Model:</th>               <td>Logit</td>      <th>  Df Residuals:      </th>   <td>  2918</td>  \n",
       "</tr>\n",
       "<tr>\n",
       "  <th>Method:</th>               <td>MLE</td>       <th>  Df Model:          </th>   <td>     1</td>  \n",
       "</tr>\n",
       "<tr>\n",
       "  <th>Date:</th>          <td>Tue, 30 Jan 2018</td> <th>  Pseudo R-squ.:     </th>   <td>0.1468</td>  \n",
       "</tr>\n",
       "<tr>\n",
       "  <th>Time:</th>              <td>09:05:05</td>     <th>  Log-Likelihood:    </th>  <td> -1726.9</td> \n",
       "</tr>\n",
       "<tr>\n",
       "  <th>converged:</th>           <td>True</td>       <th>  LL-Null:           </th>  <td> -2024.0</td> \n",
       "</tr>\n",
       "<tr>\n",
       "  <th> </th>                      <td> </td>        <th>  LLR p-value:       </th> <td>3.095e-131</td>\n",
       "</tr>\n",
       "</table>\n",
       "<table class=\"simpletable\">\n",
       "<tr>\n",
       "      <td></td>         <th>coef</th>     <th>std err</th>      <th>z</th>      <th>P>|z|</th>  <th>[0.025</th>    <th>0.975]</th>  \n",
       "</tr>\n",
       "<tr>\n",
       "  <th>const</th>     <td>   -1.3337</td> <td>    0.072</td> <td>  -18.448</td> <td> 0.000</td> <td>   -1.475</td> <td>   -1.192</td>\n",
       "</tr>\n",
       "<tr>\n",
       "  <th>curiosity</th> <td>    0.5174</td> <td>    0.024</td> <td>   22.015</td> <td> 0.000</td> <td>    0.471</td> <td>    0.563</td>\n",
       "</tr>\n",
       "</table>"
      ],
      "text/plain": [
       "<class 'statsmodels.iolib.summary.Summary'>\n",
       "\"\"\"\n",
       "                           Logit Regression Results                           \n",
       "==============================================================================\n",
       "Dep. Variable:                 choice   No. Observations:                 2920\n",
       "Model:                          Logit   Df Residuals:                     2918\n",
       "Method:                           MLE   Df Model:                            1\n",
       "Date:                Tue, 30 Jan 2018   Pseudo R-squ.:                  0.1468\n",
       "Time:                        09:05:05   Log-Likelihood:                -1726.9\n",
       "converged:                       True   LL-Null:                       -2024.0\n",
       "                                        LLR p-value:                3.095e-131\n",
       "==============================================================================\n",
       "                 coef    std err          z      P>|z|      [0.025      0.975]\n",
       "------------------------------------------------------------------------------\n",
       "const         -1.3337      0.072    -18.448      0.000      -1.475      -1.192\n",
       "curiosity      0.5174      0.024     22.015      0.000       0.471       0.563\n",
       "==============================================================================\n",
       "\"\"\""
      ]
     },
     "execution_count": 15,
     "metadata": {},
     "output_type": "execute_result"
    }
   ],
   "source": [
    "# Curiosity\n",
    "X = new_data['curiosity']\n",
    "y = new_data['choice']\n",
    "X = sm.add_constant(X)\n",
    "\n",
    "logit_model = sm.Logit(y, X)\n",
    "results = logit_model.fit()\n",
    "results.summary()"
   ]
  },
  {
   "cell_type": "code",
   "execution_count": 47,
   "metadata": {},
   "outputs": [
    {
     "name": "stdout",
     "output_type": "stream",
     "text": [
      "Optimization terminated successfully.\n",
      "         Current function value: 0.586883\n",
      "         Iterations 5\n"
     ]
    },
    {
     "data": {
      "text/html": [
       "<table class=\"simpletable\">\n",
       "<caption>Logit Regression Results</caption>\n",
       "<tr>\n",
       "  <th>Dep. Variable:</th>      <td>choice</td>      <th>  No. Observations:  </th>   <td>  2920</td>  \n",
       "</tr>\n",
       "<tr>\n",
       "  <th>Model:</th>               <td>Logit</td>      <th>  Df Residuals:      </th>   <td>  2917</td>  \n",
       "</tr>\n",
       "<tr>\n",
       "  <th>Method:</th>               <td>MLE</td>       <th>  Df Model:          </th>   <td>     2</td>  \n",
       "</tr>\n",
       "<tr>\n",
       "  <th>Date:</th>          <td>Tue, 30 Jan 2018</td> <th>  Pseudo R-squ.:     </th>   <td>0.1533</td>  \n",
       "</tr>\n",
       "<tr>\n",
       "  <th>Time:</th>              <td>21:58:35</td>     <th>  Log-Likelihood:    </th>  <td> -1713.7</td> \n",
       "</tr>\n",
       "<tr>\n",
       "  <th>converged:</th>           <td>True</td>       <th>  LL-Null:           </th>  <td> -2024.0</td> \n",
       "</tr>\n",
       "<tr>\n",
       "  <th> </th>                      <td> </td>        <th>  LLR p-value:       </th> <td>1.749e-135</td>\n",
       "</tr>\n",
       "</table>\n",
       "<table class=\"simpletable\">\n",
       "<tr>\n",
       "       <td></td>         <th>coef</th>     <th>std err</th>      <th>z</th>      <th>P>|z|</th>  <th>[0.025</th>    <th>0.975]</th>  \n",
       "</tr>\n",
       "<tr>\n",
       "  <th>const</th>      <td>   -1.5172</td> <td>    0.082</td> <td>  -18.507</td> <td> 0.000</td> <td>   -1.678</td> <td>   -1.356</td>\n",
       "</tr>\n",
       "<tr>\n",
       "  <th>popularity</th> <td>    0.1120</td> <td>    0.022</td> <td>    5.165</td> <td> 0.000</td> <td>    0.069</td> <td>    0.154</td>\n",
       "</tr>\n",
       "<tr>\n",
       "  <th>curiosity</th>  <td>    0.4590</td> <td>    0.026</td> <td>   17.807</td> <td> 0.000</td> <td>    0.408</td> <td>    0.510</td>\n",
       "</tr>\n",
       "</table>"
      ],
      "text/plain": [
       "<class 'statsmodels.iolib.summary.Summary'>\n",
       "\"\"\"\n",
       "                           Logit Regression Results                           \n",
       "==============================================================================\n",
       "Dep. Variable:                 choice   No. Observations:                 2920\n",
       "Model:                          Logit   Df Residuals:                     2917\n",
       "Method:                           MLE   Df Model:                            2\n",
       "Date:                Tue, 30 Jan 2018   Pseudo R-squ.:                  0.1533\n",
       "Time:                        21:58:35   Log-Likelihood:                -1713.7\n",
       "converged:                       True   LL-Null:                       -2024.0\n",
       "                                        LLR p-value:                1.749e-135\n",
       "==============================================================================\n",
       "                 coef    std err          z      P>|z|      [0.025      0.975]\n",
       "------------------------------------------------------------------------------\n",
       "const         -1.5172      0.082    -18.507      0.000      -1.678      -1.356\n",
       "popularity     0.1120      0.022      5.165      0.000       0.069       0.154\n",
       "curiosity      0.4590      0.026     17.807      0.000       0.408       0.510\n",
       "==============================================================================\n",
       "\"\"\""
      ]
     },
     "execution_count": 47,
     "metadata": {},
     "output_type": "execute_result"
    }
   ],
   "source": [
    "# Both\n",
    "X = new_data[['popularity', 'curiosity']]\n",
    "y = new_data['choice']\n",
    "X = sm.add_constant(X)\n",
    "\n",
    "logit_model = sm.Logit(y, X)\n",
    "results = logit_model.fit()\n",
    "results.summary()"
   ]
  },
  {
   "cell_type": "code",
   "execution_count": 17,
   "metadata": {},
   "outputs": [
    {
     "data": {
      "text/plain": [
       "292"
      ]
     },
     "execution_count": 17,
     "metadata": {},
     "output_type": "execute_result"
    }
   ],
   "source": [
    "sample_size"
   ]
  },
  {
   "cell_type": "code",
   "execution_count": null,
   "metadata": {
    "collapsed": true
   },
   "outputs": [],
   "source": []
  }
 ],
 "metadata": {
  "kernel_info": {
   "name": "python3"
  },
  "kernelspec": {
   "display_name": "Python 3",
   "language": "python",
   "name": "python3"
  },
  "language_info": {
   "codemirror_mode": {
    "name": "ipython",
    "version": 3
   },
   "file_extension": ".py",
   "mimetype": "text/x-python",
   "name": "python",
   "nbconvert_exporter": "python",
   "pygments_lexer": "ipython3",
   "version": "3.6.1"
  },
  "nteract": {
   "version": "0.5.5"
  }
 },
 "nbformat": 4,
 "nbformat_minor": 2
}
