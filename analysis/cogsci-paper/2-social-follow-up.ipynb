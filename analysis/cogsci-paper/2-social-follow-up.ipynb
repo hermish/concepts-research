{
 "cells": [
  {
   "cell_type": "markdown",
   "metadata": {},
   "source": [
    "# Social Follow Up\n",
    "## Analysis\n",
    "\n",
    "The first study, called `social-follow-up`, first replicated the results of the first study on a different set of randomly chosen question. We then extend the questions asked in the first study to explore where the social influence on participants curiousity were reflected in their desire to the see the answers of questions."
   ]
  },
  {
   "cell_type": "code",
   "execution_count": 1,
   "metadata": {
    "collapsed": true
   },
   "outputs": [],
   "source": [
    "%load_ext pycodestyle_magic"
   ]
  },
  {
   "cell_type": "code",
   "execution_count": 2,
   "metadata": {
    "collapsed": true,
    "scrolled": true
   },
   "outputs": [],
   "source": [
    "# Analytical Tools\n",
    "import numpy as np\n",
    "import pandas as pd\n",
    "import scipy\n",
    "import matplotlib.pyplot as plt\n",
    "import seaborn as sns\n",
    "from scipy import stats\n",
    "\n",
    "# Utilities\n",
    "import math\n",
    "import json\n",
    "import pprint\n",
    "import importlib\n",
    "import utilities.processing as processing\n",
    "import utilities.plotting as plotting\n",
    "import utilities.describe as describe\n",
    "\n",
    "# Make printing much more convenient\n",
    "log = pprint.pprint\n",
    "\n",
    "%matplotlib inline\n",
    "%config InlineBackend.figure_format = 'retina'"
   ]
  },
  {
   "cell_type": "markdown",
   "metadata": {},
   "source": [
    "### Loading Data"
   ]
  },
  {
   "cell_type": "code",
   "execution_count": 3,
   "metadata": {
    "collapsed": true
   },
   "outputs": [],
   "source": [
    "FILE_NAMES = [\n",
    "    'raw-data/question-setup-social-follow-up.json',\n",
    "    'raw-data/social-follow-up-entries.json'\n",
    "]\n",
    "\n",
    "with open(FILE_NAMES[0]) as file:\n",
    "    literals = json.load(file)\n",
    "\n",
    "q_text = literals['questions_and_answers']['questions']\n",
    "j_text = literals['judgements']\n",
    "QUESTIONS = {ques: 'q' + str(num) for num, ques in enumerate(q_text)}\n",
    "JUDGEMENTS = {judge: 'j' + str(num) for num, judge in enumerate(j_text)}"
   ]
  },
  {
   "cell_type": "code",
   "execution_count": 4,
   "metadata": {},
   "outputs": [
    {
     "data": {
      "text/plain": [
       "110"
      ]
     },
     "execution_count": 4,
     "metadata": {},
     "output_type": "execute_result"
    }
   ],
   "source": [
    "with open(FILE_NAMES[1]) as file:\n",
    "    master_responses = [json.loads(line) for line in file if line]\n",
    "# Legacy, changing variable name\n",
    "real_responses = master_responses\n",
    "len(real_responses)"
   ]
  },
  {
   "cell_type": "markdown",
   "metadata": {},
   "source": [
    "### Reading Responses into Data\n",
    "Creates a `DataFrame` based on the survey data."
   ]
  },
  {
   "cell_type": "code",
   "execution_count": 5,
   "metadata": {
    "collapsed": true
   },
   "outputs": [],
   "source": [
    "# Create dictionary to represent future DataFrame\n",
    "num_questions = len(QUESTIONS)\n",
    "num_judgements = len(JUDGEMENTS)\n",
    "col_labels = processing.get_col_labels(num_questions,\n",
    "                                       num_judgements,\n",
    "                                       choice=True)\n",
    "data = {label: [] for label in col_labels}"
   ]
  },
  {
   "cell_type": "code",
   "execution_count": 6,
   "metadata": {
    "collapsed": true
   },
   "outputs": [],
   "source": [
    "processing.fill_social_follow_up_data(data,\n",
    "                                      real_responses,\n",
    "                                      QUESTIONS,\n",
    "                                      JUDGEMENTS)"
   ]
  },
  {
   "cell_type": "code",
   "execution_count": 7,
   "metadata": {},
   "outputs": [
    {
     "name": "stdout",
     "output_type": "stream",
     "text": [
      "7920\n"
     ]
    },
    {
     "data": {
      "text/html": [
       "<div>\n",
       "<style>\n",
       "    .dataframe thead tr:only-child th {\n",
       "        text-align: right;\n",
       "    }\n",
       "\n",
       "    .dataframe thead th {\n",
       "        text-align: left;\n",
       "    }\n",
       "\n",
       "    .dataframe tbody tr th {\n",
       "        vertical-align: top;\n",
       "    }\n",
       "</style>\n",
       "<table border=\"1\" class=\"dataframe\">\n",
       "  <thead>\n",
       "    <tr style=\"text-align: right;\">\n",
       "      <th></th>\n",
       "      <th>condition</th>\n",
       "      <th>consent</th>\n",
       "      <th>q0choice</th>\n",
       "      <th>q0j0</th>\n",
       "      <th>q0j1</th>\n",
       "      <th>q0j2</th>\n",
       "      <th>q0j3</th>\n",
       "      <th>q0j4</th>\n",
       "      <th>q0score</th>\n",
       "      <th>q1choice</th>\n",
       "      <th>...</th>\n",
       "      <th>q8j3</th>\n",
       "      <th>q8j4</th>\n",
       "      <th>q8score</th>\n",
       "      <th>q9choice</th>\n",
       "      <th>q9j0</th>\n",
       "      <th>q9j1</th>\n",
       "      <th>q9j2</th>\n",
       "      <th>q9j3</th>\n",
       "      <th>q9j4</th>\n",
       "      <th>q9score</th>\n",
       "    </tr>\n",
       "  </thead>\n",
       "  <tbody>\n",
       "    <tr>\n",
       "      <th>0</th>\n",
       "      <td>B</td>\n",
       "      <td>1</td>\n",
       "      <td>1</td>\n",
       "      <td>5</td>\n",
       "      <td>4</td>\n",
       "      <td>5</td>\n",
       "      <td>2</td>\n",
       "      <td>3</td>\n",
       "      <td>22</td>\n",
       "      <td>1</td>\n",
       "      <td>...</td>\n",
       "      <td>6</td>\n",
       "      <td>6</td>\n",
       "      <td>3375</td>\n",
       "      <td>0</td>\n",
       "      <td>4</td>\n",
       "      <td>4</td>\n",
       "      <td>2</td>\n",
       "      <td>4</td>\n",
       "      <td>4</td>\n",
       "      <td>3370</td>\n",
       "    </tr>\n",
       "    <tr>\n",
       "      <th>1</th>\n",
       "      <td>B</td>\n",
       "      <td>1</td>\n",
       "      <td>0</td>\n",
       "      <td>0</td>\n",
       "      <td>0</td>\n",
       "      <td>0</td>\n",
       "      <td>4</td>\n",
       "      <td>0</td>\n",
       "      <td>5</td>\n",
       "      <td>0</td>\n",
       "      <td>...</td>\n",
       "      <td>3</td>\n",
       "      <td>5</td>\n",
       "      <td>3375</td>\n",
       "      <td>1</td>\n",
       "      <td>0</td>\n",
       "      <td>0</td>\n",
       "      <td>0</td>\n",
       "      <td>3</td>\n",
       "      <td>5</td>\n",
       "      <td>3394</td>\n",
       "    </tr>\n",
       "    <tr>\n",
       "      <th>2</th>\n",
       "      <td>A</td>\n",
       "      <td>1</td>\n",
       "      <td>0</td>\n",
       "      <td>3</td>\n",
       "      <td>3</td>\n",
       "      <td>4</td>\n",
       "      <td>4</td>\n",
       "      <td>4</td>\n",
       "      <td>3365</td>\n",
       "      <td>1</td>\n",
       "      <td>...</td>\n",
       "      <td>3</td>\n",
       "      <td>3</td>\n",
       "      <td>38</td>\n",
       "      <td>1</td>\n",
       "      <td>3</td>\n",
       "      <td>2</td>\n",
       "      <td>5</td>\n",
       "      <td>4</td>\n",
       "      <td>5</td>\n",
       "      <td>36</td>\n",
       "    </tr>\n",
       "    <tr>\n",
       "      <th>3</th>\n",
       "      <td>B</td>\n",
       "      <td>1</td>\n",
       "      <td>1</td>\n",
       "      <td>3</td>\n",
       "      <td>0</td>\n",
       "      <td>0</td>\n",
       "      <td>4</td>\n",
       "      <td>0</td>\n",
       "      <td>36</td>\n",
       "      <td>0</td>\n",
       "      <td>...</td>\n",
       "      <td>5</td>\n",
       "      <td>5</td>\n",
       "      <td>3364</td>\n",
       "      <td>1</td>\n",
       "      <td>1</td>\n",
       "      <td>0</td>\n",
       "      <td>0</td>\n",
       "      <td>3</td>\n",
       "      <td>3</td>\n",
       "      <td>3365</td>\n",
       "    </tr>\n",
       "    <tr>\n",
       "      <th>4</th>\n",
       "      <td>B</td>\n",
       "      <td>1</td>\n",
       "      <td>0</td>\n",
       "      <td>0</td>\n",
       "      <td>0</td>\n",
       "      <td>3</td>\n",
       "      <td>5</td>\n",
       "      <td>1</td>\n",
       "      <td>40</td>\n",
       "      <td>0</td>\n",
       "      <td>...</td>\n",
       "      <td>2</td>\n",
       "      <td>2</td>\n",
       "      <td>3359</td>\n",
       "      <td>0</td>\n",
       "      <td>2</td>\n",
       "      <td>0</td>\n",
       "      <td>4</td>\n",
       "      <td>6</td>\n",
       "      <td>6</td>\n",
       "      <td>3360</td>\n",
       "    </tr>\n",
       "  </tbody>\n",
       "</table>\n",
       "<p>5 rows × 72 columns</p>\n",
       "</div>"
      ],
      "text/plain": [
       "  condition  consent  q0choice  q0j0  q0j1  q0j2  q0j3  q0j4  q0score  \\\n",
       "0         B        1         1     5     4     5     2     3       22   \n",
       "1         B        1         0     0     0     0     4     0        5   \n",
       "2         A        1         0     3     3     4     4     4     3365   \n",
       "3         B        1         1     3     0     0     4     0       36   \n",
       "4         B        1         0     0     0     3     5     1       40   \n",
       "\n",
       "   q1choice   ...     q8j3  q8j4  q8score  q9choice  q9j0  q9j1  q9j2  q9j3  \\\n",
       "0         1   ...        6     6     3375         0     4     4     2     4   \n",
       "1         0   ...        3     5     3375         1     0     0     0     3   \n",
       "2         1   ...        3     3       38         1     3     2     5     4   \n",
       "3         0   ...        5     5     3364         1     1     0     0     3   \n",
       "4         0   ...        2     2     3359         0     2     0     4     6   \n",
       "\n",
       "   q9j4  q9score  \n",
       "0     4     3370  \n",
       "1     5     3394  \n",
       "2     5       36  \n",
       "3     3     3365  \n",
       "4     6     3360  \n",
       "\n",
       "[5 rows x 72 columns]"
      ]
     },
     "execution_count": 7,
     "metadata": {},
     "output_type": "execute_result"
    }
   ],
   "source": [
    "data = pd.DataFrame(data)\n",
    "print(data.size)\n",
    "data.head()"
   ]
  },
  {
   "cell_type": "markdown",
   "metadata": {},
   "source": [
    "### Preparing Data for Analysis\n",
    "\n",
    "We first split the data into two groups, one corresponding to those which received high scores for group A and one for those who received higher scores for group B. The groups themselves are in the constant section for reference, where the first five entries corresponding to group A and the last five to group B."
   ]
  },
  {
   "cell_type": "code",
   "execution_count": 8,
   "metadata": {},
   "outputs": [
    {
     "name": "stdout",
     "output_type": "stream",
     "text": [
      "7920 110\n"
     ]
    }
   ],
   "source": [
    "# Remove participants without consent\n",
    "data = data[data.consent == 1]\n",
    "print(data.size, len(data))\n",
    "# Creates useful lists\n",
    "sorted_question_labels = sorted(QUESTIONS.values())\n",
    "judgements_labels = sorted(JUDGEMENTS.values())\n",
    "group_a_question_labels = sorted_question_labels[:5]\n",
    "group_b_question_labels = sorted_question_labels[5:]"
   ]
  },
  {
   "cell_type": "code",
   "execution_count": 9,
   "metadata": {},
   "outputs": [
    {
     "data": {
      "text/html": [
       "<div>\n",
       "<style>\n",
       "    .dataframe thead tr:only-child th {\n",
       "        text-align: right;\n",
       "    }\n",
       "\n",
       "    .dataframe thead th {\n",
       "        text-align: left;\n",
       "    }\n",
       "\n",
       "    .dataframe tbody tr th {\n",
       "        vertical-align: top;\n",
       "    }\n",
       "</style>\n",
       "<table border=\"1\" class=\"dataframe\">\n",
       "  <thead>\n",
       "    <tr style=\"text-align: right;\">\n",
       "      <th></th>\n",
       "      <th>condition</th>\n",
       "      <th>consent</th>\n",
       "      <th>q0choice</th>\n",
       "      <th>q0j0</th>\n",
       "      <th>q0j1</th>\n",
       "      <th>q0j2</th>\n",
       "      <th>q0j3</th>\n",
       "      <th>q0j4</th>\n",
       "      <th>q0score</th>\n",
       "      <th>q1choice</th>\n",
       "      <th>...</th>\n",
       "      <th>j0_a_avg</th>\n",
       "      <th>j0_b_avg</th>\n",
       "      <th>j1_a_avg</th>\n",
       "      <th>j1_b_avg</th>\n",
       "      <th>j2_a_avg</th>\n",
       "      <th>j2_b_avg</th>\n",
       "      <th>j3_a_avg</th>\n",
       "      <th>j3_b_avg</th>\n",
       "      <th>j4_a_avg</th>\n",
       "      <th>j4_b_avg</th>\n",
       "    </tr>\n",
       "  </thead>\n",
       "  <tbody>\n",
       "    <tr>\n",
       "      <th>0</th>\n",
       "      <td>B</td>\n",
       "      <td>1</td>\n",
       "      <td>1</td>\n",
       "      <td>5</td>\n",
       "      <td>4</td>\n",
       "      <td>5</td>\n",
       "      <td>2</td>\n",
       "      <td>3</td>\n",
       "      <td>22</td>\n",
       "      <td>1</td>\n",
       "      <td>...</td>\n",
       "      <td>4.6</td>\n",
       "      <td>4.6</td>\n",
       "      <td>3.6</td>\n",
       "      <td>3.2</td>\n",
       "      <td>4.2</td>\n",
       "      <td>3.8</td>\n",
       "      <td>4.0</td>\n",
       "      <td>4.2</td>\n",
       "      <td>2.6</td>\n",
       "      <td>4.2</td>\n",
       "    </tr>\n",
       "    <tr>\n",
       "      <th>1</th>\n",
       "      <td>B</td>\n",
       "      <td>1</td>\n",
       "      <td>0</td>\n",
       "      <td>0</td>\n",
       "      <td>0</td>\n",
       "      <td>0</td>\n",
       "      <td>4</td>\n",
       "      <td>0</td>\n",
       "      <td>5</td>\n",
       "      <td>0</td>\n",
       "      <td>...</td>\n",
       "      <td>0.8</td>\n",
       "      <td>0.6</td>\n",
       "      <td>0.0</td>\n",
       "      <td>0.0</td>\n",
       "      <td>0.0</td>\n",
       "      <td>0.2</td>\n",
       "      <td>4.2</td>\n",
       "      <td>4.4</td>\n",
       "      <td>0.0</td>\n",
       "      <td>5.0</td>\n",
       "    </tr>\n",
       "    <tr>\n",
       "      <th>2</th>\n",
       "      <td>A</td>\n",
       "      <td>1</td>\n",
       "      <td>0</td>\n",
       "      <td>3</td>\n",
       "      <td>3</td>\n",
       "      <td>4</td>\n",
       "      <td>4</td>\n",
       "      <td>4</td>\n",
       "      <td>3365</td>\n",
       "      <td>1</td>\n",
       "      <td>...</td>\n",
       "      <td>4.0</td>\n",
       "      <td>4.0</td>\n",
       "      <td>4.2</td>\n",
       "      <td>2.6</td>\n",
       "      <td>4.6</td>\n",
       "      <td>4.4</td>\n",
       "      <td>4.6</td>\n",
       "      <td>4.0</td>\n",
       "      <td>3.8</td>\n",
       "      <td>4.0</td>\n",
       "    </tr>\n",
       "    <tr>\n",
       "      <th>3</th>\n",
       "      <td>B</td>\n",
       "      <td>1</td>\n",
       "      <td>1</td>\n",
       "      <td>3</td>\n",
       "      <td>0</td>\n",
       "      <td>0</td>\n",
       "      <td>4</td>\n",
       "      <td>0</td>\n",
       "      <td>36</td>\n",
       "      <td>0</td>\n",
       "      <td>...</td>\n",
       "      <td>1.6</td>\n",
       "      <td>1.4</td>\n",
       "      <td>0.0</td>\n",
       "      <td>0.0</td>\n",
       "      <td>0.0</td>\n",
       "      <td>0.0</td>\n",
       "      <td>3.6</td>\n",
       "      <td>3.6</td>\n",
       "      <td>0.4</td>\n",
       "      <td>3.0</td>\n",
       "    </tr>\n",
       "    <tr>\n",
       "      <th>4</th>\n",
       "      <td>B</td>\n",
       "      <td>1</td>\n",
       "      <td>0</td>\n",
       "      <td>0</td>\n",
       "      <td>0</td>\n",
       "      <td>3</td>\n",
       "      <td>5</td>\n",
       "      <td>1</td>\n",
       "      <td>40</td>\n",
       "      <td>0</td>\n",
       "      <td>...</td>\n",
       "      <td>2.6</td>\n",
       "      <td>3.0</td>\n",
       "      <td>0.0</td>\n",
       "      <td>0.0</td>\n",
       "      <td>3.0</td>\n",
       "      <td>3.8</td>\n",
       "      <td>4.6</td>\n",
       "      <td>3.6</td>\n",
       "      <td>0.6</td>\n",
       "      <td>5.2</td>\n",
       "    </tr>\n",
       "  </tbody>\n",
       "</table>\n",
       "<p>5 rows × 82 columns</p>\n",
       "</div>"
      ],
      "text/plain": [
       "  condition  consent  q0choice  q0j0  q0j1  q0j2  q0j3  q0j4  q0score  \\\n",
       "0         B        1         1     5     4     5     2     3       22   \n",
       "1         B        1         0     0     0     0     4     0        5   \n",
       "2         A        1         0     3     3     4     4     4     3365   \n",
       "3         B        1         1     3     0     0     4     0       36   \n",
       "4         B        1         0     0     0     3     5     1       40   \n",
       "\n",
       "   q1choice    ...     j0_a_avg  j0_b_avg  j1_a_avg  j1_b_avg  j2_a_avg  \\\n",
       "0         1    ...          4.6       4.6       3.6       3.2       4.2   \n",
       "1         0    ...          0.8       0.6       0.0       0.0       0.0   \n",
       "2         1    ...          4.0       4.0       4.2       2.6       4.6   \n",
       "3         0    ...          1.6       1.4       0.0       0.0       0.0   \n",
       "4         0    ...          2.6       3.0       0.0       0.0       3.0   \n",
       "\n",
       "   j2_b_avg  j3_a_avg  j3_b_avg  j4_a_avg  j4_b_avg  \n",
       "0       3.8       4.0       4.2       2.6       4.2  \n",
       "1       0.2       4.2       4.4       0.0       5.0  \n",
       "2       4.4       4.6       4.0       3.8       4.0  \n",
       "3       0.0       3.6       3.6       0.4       3.0  \n",
       "4       3.8       4.6       3.6       0.6       5.2  \n",
       "\n",
       "[5 rows x 82 columns]"
      ]
     },
     "execution_count": 9,
     "metadata": {},
     "output_type": "execute_result"
    }
   ],
   "source": [
    "# Insert group a and b averages for each person\n",
    "for j_num in judgements_labels:\n",
    "    group_a_columns = [q_num + j_num for q_num in group_a_question_labels]\n",
    "    group_b_columns = [q_num + j_num for q_num in group_b_question_labels]\n",
    "    group_a_averages = data[group_a_columns].mean(axis=1)\n",
    "    group_b_averages = data[group_b_columns].mean(axis=1)\n",
    "    data['{}_a_avg'.format(j_num)] = group_a_averages\n",
    "    data['{}_b_avg'.format(j_num)] = group_b_averages\n",
    "data.head()"
   ]
  },
  {
   "cell_type": "code",
   "execution_count": 10,
   "metadata": {},
   "outputs": [
    {
     "data": {
      "text/plain": [
       "(59, 51)"
      ]
     },
     "execution_count": 10,
     "metadata": {},
     "output_type": "execute_result"
    }
   ],
   "source": [
    "# Seperate into dataframes for each condition!\n",
    "high_a = data[data.condition == 'A']\n",
    "high_b = data[data.condition == 'B']\n",
    "a_size, b_size = len(high_a), len(high_b)\n",
    "a_size, b_size"
   ]
  },
  {
   "cell_type": "markdown",
   "metadata": {
    "collapsed": true
   },
   "source": [
    "### Paired Samples Test\n",
    "\n",
    "We first attempt to replicate the results of the first experiment by once again conducting a paired samples t-test."
   ]
  },
  {
   "cell_type": "code",
   "execution_count": 11,
   "metadata": {},
   "outputs": [
    {
     "name": "stdout",
     "output_type": "stream",
     "text": [
      "Usefulness: t = -1.2, p = 0.231 (1 greater)\n",
      "Confidence: t = -0.791, p = 0.43 (1 greater)\n",
      "Curiosity: t = -4.86, p = 3.99e-06 (1 greater)\n",
      "Writing: t = -4.03, p = 0.000102 (1 greater)\n",
      "Popularity: t = -12.1, p = 6.28e-22 (1 greater)\n"
     ]
    },
    {
     "data": {
      "image/png": "[encoded data removed]",
      "text/plain": [
       "<matplotlib.figure.Figure at 0x116fb09e8>"
      ]
     },
     "metadata": {
      "image/png": {
       "height": 263,
       "width": 375
      }
     },
     "output_type": "display_data"
    }
   ],
   "source": [
    "PLOTTING_OPTIONS = {\n",
    "    'y_label': 'Ratings',\n",
    "    'ticks': ['Usefulness', 'Confidence', 'Curiosity',\n",
    "              'Writing', 'Popularity'],\n",
    "    'legend': ['Low Scores', 'High Scores'],\n",
    "    'title': 'All Questions'\n",
    "}\n",
    "\n",
    "high_avg, high_err = [], []\n",
    "low_avg, low_err = [], []\n",
    "for index, j_num in enumerate(judgements_labels):\n",
    "    all_high_points = np.concatenate((high_a['{}_a_avg'.format(j_num)],\n",
    "                                      high_b['{}_b_avg'.format(j_num)]))\n",
    "    all_low_points = np.concatenate((high_a['{}_b_avg'.format(j_num)],\n",
    "                                     high_b['{}_a_avg'.format(j_num)]))\n",
    "    high_avg.append(all_high_points.mean())\n",
    "    high_err.append(all_high_points.std() / math.sqrt(a_size))\n",
    "    low_avg.append(all_low_points.mean())\n",
    "    low_err.append(all_low_points.std() / math.sqrt(b_size))\n",
    "\n",
    "    print('{}: {}'.format(PLOTTING_OPTIONS['ticks'][index],\n",
    "                          describe.paired_t_test(all_low_points,\n",
    "                                                 all_high_points)))\n",
    "\n",
    "plotting.plot_double_bar(low_avg, low_err, high_avg, high_err,\n",
    "                         **PLOTTING_OPTIONS)"
   ]
  },
  {
   "cell_type": "markdown",
   "metadata": {
    "collapsed": true
   },
   "source": [
    "### Simple Choice Comparison\n",
    "\n",
    "We now do a naive analysis on the effect upvotes have on people by first examining the proportion of question chosen and comparing this to chance with a t-test. Note this treates the variance between questions as noise."
   ]
  },
  {
   "cell_type": "code",
   "execution_count": 14,
   "metadata": {},
   "outputs": [
    {
     "name": "stdout",
     "output_type": "stream",
     "text": [
      "0.576363636364\n",
      "t = 4.52, p = 1.56e-05 (greater)\n"
     ]
    }
   ],
   "source": [
    "a_choice_labels = ['{}choice'.format(ques) for ques in group_a_question_labels]\n",
    "b_choice_labels = ['{}choice'.format(ques) for ques in group_b_question_labels]\n",
    "all_high_chosen_proportion = np.concatenate((\n",
    "    high_a[a_choice_labels].mean(axis=1),\n",
    "    high_b[b_choice_labels].mean(axis=1)\n",
    "))\n",
    "\n",
    "print(all_high_chosen_proportion.mean())\n",
    "print(describe.one_sample_t_test(all_high_chosen_proportion, 0.5))"
   ]
  },
  {
   "cell_type": "code",
   "execution_count": null,
   "metadata": {
    "collapsed": true
   },
   "outputs": [],
   "source": []
  }
 ],
 "metadata": {
  "kernelspec": {
   "display_name": "Python 3",
   "language": "python",
   "name": "python3"
  },
  "language_info": {
   "codemirror_mode": {
    "name": "ipython",
    "version": 3
   },
   "file_extension": ".py",
   "mimetype": "text/x-python",
   "name": "python",
   "nbconvert_exporter": "python",
   "pygments_lexer": "ipython3",
   "version": "3.6.1"
  }
 },
 "nbformat": 4,
 "nbformat_minor": 2
}
