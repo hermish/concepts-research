{
 "cells": [
  {
   "cell_type": "markdown",
   "metadata": {},
   "source": [
    "# Social Follow Up Analysis\n",
    "\n",
    "The first study, called `social-follow-up`, first replicated the results of the first study on a different set of randomly chosen question. We then extend the questions asked in the first study to explore where the social influence on participants curiousity were reflected in their desire to the see the answers of questions."
   ]
  },
  {
   "cell_type": "code",
   "execution_count": 1,
   "metadata": {
    "collapsed": true
   },
   "outputs": [],
   "source": [
    "%load_ext pycodestyle_magic"
   ]
  },
  {
   "cell_type": "code",
   "execution_count": 2,
   "metadata": {
    "collapsed": true,
    "scrolled": true
   },
   "outputs": [],
   "source": [
    "# Analytical Tools\n",
    "import numpy as np\n",
    "import pandas as pd\n",
    "import scipy\n",
    "import matplotlib.pyplot as plt\n",
    "import seaborn as sns\n",
    "from scipy import stats\n",
    "\n",
    "# Utilities\n",
    "import math\n",
    "import json\n",
    "import pprint\n",
    "import utilities.processing as processing\n",
    "\n",
    "# Make printing much more convenient\n",
    "log = pprint.pprint\n",
    "\n",
    "%matplotlib inline\n",
    "%config InlineBackend.figure_format = 'retina'"
   ]
  },
  {
   "cell_type": "markdown",
   "metadata": {},
   "source": [
    "### Loading Data"
   ]
  },
  {
   "cell_type": "code",
   "execution_count": 10,
   "metadata": {},
   "outputs": [],
   "source": [
    "FILE_NAMES = [\n",
    "    'raw-data/question-setup-social-follow-up.json',\n",
    "    'raw-data/social-follow-up-entries.json'\n",
    "]\n",
    "\n",
    "with open(FILE_NAMES[0]) as file:\n",
    "    literals = json.load(file)\n",
    "\n",
    "q_text = literals['questions_and_answers']['questions']\n",
    "j_text = literals['judgements']\n",
    "QUESTIONS = {ques: 'q' + str(num) for num, ques in enumerate(q_text)}\n",
    "JUDGEMENTS = {judge: 'j' + str(num) for num, judge in enumerate(j_text)}"
   ]
  },
  {
   "cell_type": "code",
   "execution_count": 11,
   "metadata": {},
   "outputs": [
    {
     "data": {
      "text/plain": [
       "110"
      ]
     },
     "execution_count": 11,
     "metadata": {},
     "output_type": "execute_result"
    }
   ],
   "source": [
    "with open(FILE_NAMES[1]) as file:\n",
    "    master_responses = [json.loads(line) for line in file if line]\n",
    "# Legacy, changing variable name\n",
    "real_responses = master_responses\n",
    "len(real_responses)"
   ]
  },
  {
   "cell_type": "markdown",
   "metadata": {},
   "source": [
    "### Reading Responses into Data\n",
    "Creates a `DataFrame` based on the survey data."
   ]
  },
  {
   "cell_type": "code",
   "execution_count": 12,
   "metadata": {
    "collapsed": true
   },
   "outputs": [],
   "source": [
    "# Create dictionary to represent future DataFrame\n",
    "num_questions = len(QUESTIONS)\n",
    "num_judgements = len(JUDGEMENTS)\n",
    "col_labels = processing.get_col_labels(num_questions,\n",
    "                                       num_judgements,\n",
    "                                       choice=True)\n",
    "data = {label: [] for label in col_labels}"
   ]
  },
  {
   "cell_type": "code",
   "execution_count": 13,
   "metadata": {
    "collapsed": true
   },
   "outputs": [],
   "source": [
    "processing.fill_social_follow_up_data(data,\n",
    "                                      real_responses,\n",
    "                                      QUESTIONS,\n",
    "                                      JUDGEMENTS)"
   ]
  },
  {
   "cell_type": "code",
   "execution_count": 14,
   "metadata": {},
   "outputs": [
    {
     "name": "stdout",
     "output_type": "stream",
     "text": [
      "7920\n"
     ]
    },
    {
     "data": {
      "text/html": [
       "<div>\n",
       "<style>\n",
       "    .dataframe thead tr:only-child th {\n",
       "        text-align: right;\n",
       "    }\n",
       "\n",
       "    .dataframe thead th {\n",
       "        text-align: left;\n",
       "    }\n",
       "\n",
       "    .dataframe tbody tr th {\n",
       "        vertical-align: top;\n",
       "    }\n",
       "</style>\n",
       "<table border=\"1\" class=\"dataframe\">\n",
       "  <thead>\n",
       "    <tr style=\"text-align: right;\">\n",
       "      <th></th>\n",
       "      <th>condition</th>\n",
       "      <th>consent</th>\n",
       "      <th>q0choice</th>\n",
       "      <th>q0j0</th>\n",
       "      <th>q0j1</th>\n",
       "      <th>q0j2</th>\n",
       "      <th>q0j3</th>\n",
       "      <th>q0j4</th>\n",
       "      <th>q0score</th>\n",
       "      <th>q1choice</th>\n",
       "      <th>...</th>\n",
       "      <th>q8j3</th>\n",
       "      <th>q8j4</th>\n",
       "      <th>q8score</th>\n",
       "      <th>q9choice</th>\n",
       "      <th>q9j0</th>\n",
       "      <th>q9j1</th>\n",
       "      <th>q9j2</th>\n",
       "      <th>q9j3</th>\n",
       "      <th>q9j4</th>\n",
       "      <th>q9score</th>\n",
       "    </tr>\n",
       "  </thead>\n",
       "  <tbody>\n",
       "    <tr>\n",
       "      <th>0</th>\n",
       "      <td>B</td>\n",
       "      <td>1</td>\n",
       "      <td>1</td>\n",
       "      <td>5</td>\n",
       "      <td>4</td>\n",
       "      <td>5</td>\n",
       "      <td>2</td>\n",
       "      <td>3</td>\n",
       "      <td>22</td>\n",
       "      <td>1</td>\n",
       "      <td>...</td>\n",
       "      <td>6</td>\n",
       "      <td>6</td>\n",
       "      <td>3375</td>\n",
       "      <td>0</td>\n",
       "      <td>4</td>\n",
       "      <td>4</td>\n",
       "      <td>2</td>\n",
       "      <td>4</td>\n",
       "      <td>4</td>\n",
       "      <td>3370</td>\n",
       "    </tr>\n",
       "    <tr>\n",
       "      <th>1</th>\n",
       "      <td>B</td>\n",
       "      <td>1</td>\n",
       "      <td>0</td>\n",
       "      <td>0</td>\n",
       "      <td>0</td>\n",
       "      <td>0</td>\n",
       "      <td>4</td>\n",
       "      <td>0</td>\n",
       "      <td>5</td>\n",
       "      <td>0</td>\n",
       "      <td>...</td>\n",
       "      <td>3</td>\n",
       "      <td>5</td>\n",
       "      <td>3375</td>\n",
       "      <td>1</td>\n",
       "      <td>0</td>\n",
       "      <td>0</td>\n",
       "      <td>0</td>\n",
       "      <td>3</td>\n",
       "      <td>5</td>\n",
       "      <td>3394</td>\n",
       "    </tr>\n",
       "    <tr>\n",
       "      <th>2</th>\n",
       "      <td>A</td>\n",
       "      <td>1</td>\n",
       "      <td>0</td>\n",
       "      <td>3</td>\n",
       "      <td>3</td>\n",
       "      <td>4</td>\n",
       "      <td>4</td>\n",
       "      <td>4</td>\n",
       "      <td>3365</td>\n",
       "      <td>1</td>\n",
       "      <td>...</td>\n",
       "      <td>3</td>\n",
       "      <td>3</td>\n",
       "      <td>38</td>\n",
       "      <td>1</td>\n",
       "      <td>3</td>\n",
       "      <td>2</td>\n",
       "      <td>5</td>\n",
       "      <td>4</td>\n",
       "      <td>5</td>\n",
       "      <td>36</td>\n",
       "    </tr>\n",
       "    <tr>\n",
       "      <th>3</th>\n",
       "      <td>B</td>\n",
       "      <td>1</td>\n",
       "      <td>1</td>\n",
       "      <td>3</td>\n",
       "      <td>0</td>\n",
       "      <td>0</td>\n",
       "      <td>4</td>\n",
       "      <td>0</td>\n",
       "      <td>36</td>\n",
       "      <td>0</td>\n",
       "      <td>...</td>\n",
       "      <td>5</td>\n",
       "      <td>5</td>\n",
       "      <td>3364</td>\n",
       "      <td>1</td>\n",
       "      <td>1</td>\n",
       "      <td>0</td>\n",
       "      <td>0</td>\n",
       "      <td>3</td>\n",
       "      <td>3</td>\n",
       "      <td>3365</td>\n",
       "    </tr>\n",
       "    <tr>\n",
       "      <th>4</th>\n",
       "      <td>B</td>\n",
       "      <td>1</td>\n",
       "      <td>0</td>\n",
       "      <td>0</td>\n",
       "      <td>0</td>\n",
       "      <td>3</td>\n",
       "      <td>5</td>\n",
       "      <td>1</td>\n",
       "      <td>40</td>\n",
       "      <td>0</td>\n",
       "      <td>...</td>\n",
       "      <td>2</td>\n",
       "      <td>2</td>\n",
       "      <td>3359</td>\n",
       "      <td>0</td>\n",
       "      <td>2</td>\n",
       "      <td>0</td>\n",
       "      <td>4</td>\n",
       "      <td>6</td>\n",
       "      <td>6</td>\n",
       "      <td>3360</td>\n",
       "    </tr>\n",
       "  </tbody>\n",
       "</table>\n",
       "<p>5 rows × 72 columns</p>\n",
       "</div>"
      ],
      "text/plain": [
       "  condition  consent  q0choice  q0j0  q0j1  q0j2  q0j3  q0j4  q0score  \\\n",
       "0         B        1         1     5     4     5     2     3       22   \n",
       "1         B        1         0     0     0     0     4     0        5   \n",
       "2         A        1         0     3     3     4     4     4     3365   \n",
       "3         B        1         1     3     0     0     4     0       36   \n",
       "4         B        1         0     0     0     3     5     1       40   \n",
       "\n",
       "   q1choice   ...     q8j3  q8j4  q8score  q9choice  q9j0  q9j1  q9j2  q9j3  \\\n",
       "0         1   ...        6     6     3375         0     4     4     2     4   \n",
       "1         0   ...        3     5     3375         1     0     0     0     3   \n",
       "2         1   ...        3     3       38         1     3     2     5     4   \n",
       "3         0   ...        5     5     3364         1     1     0     0     3   \n",
       "4         0   ...        2     2     3359         0     2     0     4     6   \n",
       "\n",
       "   q9j4  q9score  \n",
       "0     4     3370  \n",
       "1     5     3394  \n",
       "2     5       36  \n",
       "3     3     3365  \n",
       "4     6     3360  \n",
       "\n",
       "[5 rows x 72 columns]"
      ]
     },
     "execution_count": 14,
     "metadata": {},
     "output_type": "execute_result"
    }
   ],
   "source": [
    "data = pd.DataFrame(data)\n",
    "log(data.size)\n",
    "data.head()"
   ]
  },
  {
   "cell_type": "markdown",
   "metadata": {},
   "source": [
    "### Analysizing Data\n",
    "\n",
    "We first split the data into two groups, one corresponding to those which received high scores for group A and one for those who received higher scores for group B. The groups themselves are in the constant section for reference, where the first five entries corresponding to group A and the last five to group B."
   ]
  },
  {
   "cell_type": "code",
   "execution_count": 15,
   "metadata": {},
   "outputs": [
    {
     "data": {
      "text/plain": [
       "(59, 51)"
      ]
     },
     "execution_count": 15,
     "metadata": {},
     "output_type": "execute_result"
    }
   ],
   "source": [
    "# Remove participants without consent\n",
    "data = data[data.consent == 1]\n",
    "# Seperate into dataframes for each condition!\n",
    "high_a = data[data.condition == 'A']\n",
    "high_b = data[data.condition == 'B']\n",
    "a_size, b_size = len(high_a), len(high_b)\n",
    "a_size, b_size"
   ]
  },
  {
   "cell_type": "code",
   "execution_count": null,
   "metadata": {
    "collapsed": true
   },
   "outputs": [],
   "source": []
  }
 ],
 "metadata": {
  "kernelspec": {
   "display_name": "Python 3",
   "language": "python",
   "name": "python3"
  },
  "language_info": {
   "codemirror_mode": {
    "name": "ipython",
    "version": 3
   },
   "file_extension": ".py",
   "mimetype": "text/x-python",
   "name": "python",
   "nbconvert_exporter": "python",
   "pygments_lexer": "ipython3",
   "version": "3.6.1"
  }
 },
 "nbformat": 4,
 "nbformat_minor": 2
}
