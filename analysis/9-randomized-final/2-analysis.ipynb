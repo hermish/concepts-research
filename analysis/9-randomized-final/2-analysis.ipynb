{
 "cells": [
  {
   "cell_type": "markdown",
   "metadata": {},
   "source": [
    "# Experiment Nine\n",
    "\n",
    "## Analysis"
   ]
  },
  {
   "cell_type": "code",
   "execution_count": 79,
   "metadata": {},
   "outputs": [
    {
     "name": "stdout",
     "output_type": "stream",
     "text": [
      "The pycodestyle_magic extension is already loaded. To reload it, use:\n",
      "  %reload_ext pycodestyle_magic\n"
     ]
    }
   ],
   "source": [
    "%load_ext pycodestyle_magic"
   ]
  },
  {
   "cell_type": "code",
   "execution_count": 80,
   "metadata": {
    "collapsed": true
   },
   "outputs": [],
   "source": [
    "# Analytical Tools\n",
    "import numpy as np\n",
    "import pandas as pd\n",
    "from scipy import stats\n",
    "import seaborn as sns\n",
    "import statsmodels.api as sm\n",
    "\n",
    "# General Utilities\n",
    "import json\n",
    "import pprint\n",
    "import random\n",
    "\n",
    "# Custom Utilities\n",
    "import utilities.processing as processing\n",
    "import utilities.plotting as plotting\n",
    "import utilities.describe as describe\n",
    "\n",
    "# Some settings\n",
    "log = pprint.pprint\n",
    "%matplotlib inline\n",
    "%config InlineBackend.figure_format = 'retina'"
   ]
  },
  {
   "cell_type": "markdown",
   "metadata": {},
   "source": [
    "### Reading Data and Defining Constants"
   ]
  },
  {
   "cell_type": "code",
   "execution_count": 81,
   "metadata": {
    "collapsed": true
   },
   "outputs": [],
   "source": [
    "FILE_NAMES = [\n",
    "    'raw-data/questions-and-answers-clean.json',\n",
    "    'raw-data/judgments.json',\n",
    "    'raw-data/responses-two.json'\n",
    "]\n",
    "\n",
    "NUM_QUESTIONS, NUM_JUDGEMENTS = 10, 7\n",
    "GROUP_SIZE = NUM_QUESTIONS // 2\n",
    "THRESHOLD = 240.9\n",
    "\n",
    "CONDITIONS = ['Control', 'Post Number', 'Upvotes']\n",
    "QUESTIONS = ['Curiosity', 'Confidence', 'Usefulness',\n",
    "    'Popularity', 'Writing', 'Surprise', 'Social Utility']\n",
    "\n",
    "ALL_LABELS = processing.get_all_labels(NUM_QUESTIONS)\n",
    "LOW_LABELS, HIGH_LABELS = ALL_LABELS[:GROUP_SIZE], ALL_LABELS[GROUP_SIZE:]\n",
    "JUDGMENT_LABELS = processing.get_judgment_labels(NUM_JUDGEMENTS)"
   ]
  },
  {
   "cell_type": "code",
   "execution_count": 82,
   "metadata": {},
   "outputs": [
    {
     "data": {
      "text/html": [
       "<div>\n",
       "<style>\n",
       "    .dataframe thead tr:only-child th {\n",
       "        text-align: right;\n",
       "    }\n",
       "\n",
       "    .dataframe thead th {\n",
       "        text-align: left;\n",
       "    }\n",
       "\n",
       "    .dataframe tbody tr th {\n",
       "        vertical-align: top;\n",
       "    }\n",
       "</style>\n",
       "<table border=\"1\" class=\"dataframe\">\n",
       "  <thead>\n",
       "    <tr style=\"text-align: right;\">\n",
       "      <th></th>\n",
       "      <th>consent</th>\n",
       "      <th>group_number</th>\n",
       "      <th>high_q0_choice</th>\n",
       "      <th>high_q0_index</th>\n",
       "      <th>high_q0_j0</th>\n",
       "      <th>high_q0_j1</th>\n",
       "      <th>high_q0_j2</th>\n",
       "      <th>high_q0_j3</th>\n",
       "      <th>high_q0_j4</th>\n",
       "      <th>high_q0_j5</th>\n",
       "      <th>...</th>\n",
       "      <th>low_q4_j2</th>\n",
       "      <th>low_q4_j3</th>\n",
       "      <th>low_q4_j4</th>\n",
       "      <th>low_q4_j5</th>\n",
       "      <th>low_q4_j6</th>\n",
       "      <th>low_q4_score</th>\n",
       "      <th>participant_id</th>\n",
       "      <th>response_type</th>\n",
       "      <th>test_one</th>\n",
       "      <th>test_two</th>\n",
       "    </tr>\n",
       "  </thead>\n",
       "  <tbody>\n",
       "    <tr>\n",
       "      <th>12</th>\n",
       "      <td>1.0</td>\n",
       "      <td>2</td>\n",
       "      <td>1.0</td>\n",
       "      <td>14.0</td>\n",
       "      <td>3.0</td>\n",
       "      <td>3.0</td>\n",
       "      <td>3.0</td>\n",
       "      <td>3.0</td>\n",
       "      <td>3.0</td>\n",
       "      <td>4.0</td>\n",
       "      <td>...</td>\n",
       "      <td>0.0</td>\n",
       "      <td>0.0</td>\n",
       "      <td>0.0</td>\n",
       "      <td>0.0</td>\n",
       "      <td>0.0</td>\n",
       "      <td>50.0</td>\n",
       "      <td>r7gvngs3mjdqo4lb3nd6hm3b3uobqsrb</td>\n",
       "      <td>0</td>\n",
       "      <td>1.0</td>\n",
       "      <td>1.0</td>\n",
       "    </tr>\n",
       "    <tr>\n",
       "      <th>49</th>\n",
       "      <td>1.0</td>\n",
       "      <td>2</td>\n",
       "      <td>1.0</td>\n",
       "      <td>23.0</td>\n",
       "      <td>4.0</td>\n",
       "      <td>4.0</td>\n",
       "      <td>2.0</td>\n",
       "      <td>4.0</td>\n",
       "      <td>3.0</td>\n",
       "      <td>3.0</td>\n",
       "      <td>...</td>\n",
       "      <td>4.0</td>\n",
       "      <td>3.0</td>\n",
       "      <td>5.0</td>\n",
       "      <td>4.0</td>\n",
       "      <td>4.0</td>\n",
       "      <td>26.0</td>\n",
       "      <td>3burenqmmt71nbk9sznc0t6gadf8wrlk</td>\n",
       "      <td>0</td>\n",
       "      <td>1.0</td>\n",
       "      <td>1.0</td>\n",
       "    </tr>\n",
       "    <tr>\n",
       "      <th>54</th>\n",
       "      <td>1.0</td>\n",
       "      <td>2</td>\n",
       "      <td>1.0</td>\n",
       "      <td>31.0</td>\n",
       "      <td>2.0</td>\n",
       "      <td>1.0</td>\n",
       "      <td>1.0</td>\n",
       "      <td>2.0</td>\n",
       "      <td>3.0</td>\n",
       "      <td>4.0</td>\n",
       "      <td>...</td>\n",
       "      <td>1.0</td>\n",
       "      <td>0.0</td>\n",
       "      <td>3.0</td>\n",
       "      <td>3.0</td>\n",
       "      <td>1.0</td>\n",
       "      <td>18.0</td>\n",
       "      <td>9543ar5qbz3ectkkdqoexf9lurur57za</td>\n",
       "      <td>0</td>\n",
       "      <td>1.0</td>\n",
       "      <td>1.0</td>\n",
       "    </tr>\n",
       "    <tr>\n",
       "      <th>77</th>\n",
       "      <td>1.0</td>\n",
       "      <td>2</td>\n",
       "      <td>0.0</td>\n",
       "      <td>25.0</td>\n",
       "      <td>4.0</td>\n",
       "      <td>3.0</td>\n",
       "      <td>3.0</td>\n",
       "      <td>6.0</td>\n",
       "      <td>3.0</td>\n",
       "      <td>6.0</td>\n",
       "      <td>...</td>\n",
       "      <td>4.0</td>\n",
       "      <td>2.0</td>\n",
       "      <td>6.0</td>\n",
       "      <td>3.0</td>\n",
       "      <td>4.0</td>\n",
       "      <td>17.0</td>\n",
       "      <td>hczxorcd6py0pwrty95zbp2rzqdvv66e</td>\n",
       "      <td>0</td>\n",
       "      <td>1.0</td>\n",
       "      <td>1.0</td>\n",
       "    </tr>\n",
       "    <tr>\n",
       "      <th>79</th>\n",
       "      <td>1.0</td>\n",
       "      <td>2</td>\n",
       "      <td>0.0</td>\n",
       "      <td>28.0</td>\n",
       "      <td>3.0</td>\n",
       "      <td>4.0</td>\n",
       "      <td>0.0</td>\n",
       "      <td>6.0</td>\n",
       "      <td>5.0</td>\n",
       "      <td>4.0</td>\n",
       "      <td>...</td>\n",
       "      <td>1.0</td>\n",
       "      <td>0.0</td>\n",
       "      <td>4.0</td>\n",
       "      <td>0.0</td>\n",
       "      <td>1.0</td>\n",
       "      <td>17.0</td>\n",
       "      <td>wcoz0wruhmnax6mrrhg3proojyrfved6</td>\n",
       "      <td>0</td>\n",
       "      <td>1.0</td>\n",
       "      <td>1.0</td>\n",
       "    </tr>\n",
       "  </tbody>\n",
       "</table>\n",
       "<p>5 rows × 106 columns</p>\n",
       "</div>"
      ],
      "text/plain": [
       "    consent  group_number  high_q0_choice  high_q0_index  high_q0_j0  \\\n",
       "12      1.0             2             1.0           14.0         3.0   \n",
       "49      1.0             2             1.0           23.0         4.0   \n",
       "54      1.0             2             1.0           31.0         2.0   \n",
       "77      1.0             2             0.0           25.0         4.0   \n",
       "79      1.0             2             0.0           28.0         3.0   \n",
       "\n",
       "    high_q0_j1  high_q0_j2  high_q0_j3  high_q0_j4  high_q0_j5    ...     \\\n",
       "12         3.0         3.0         3.0         3.0         4.0    ...      \n",
       "49         4.0         2.0         4.0         3.0         3.0    ...      \n",
       "54         1.0         1.0         2.0         3.0         4.0    ...      \n",
       "77         3.0         3.0         6.0         3.0         6.0    ...      \n",
       "79         4.0         0.0         6.0         5.0         4.0    ...      \n",
       "\n",
       "    low_q4_j2  low_q4_j3  low_q4_j4  low_q4_j5  low_q4_j6  low_q4_score  \\\n",
       "12        0.0        0.0        0.0        0.0        0.0          50.0   \n",
       "49        4.0        3.0        5.0        4.0        4.0          26.0   \n",
       "54        1.0        0.0        3.0        3.0        1.0          18.0   \n",
       "77        4.0        2.0        6.0        3.0        4.0          17.0   \n",
       "79        1.0        0.0        4.0        0.0        1.0          17.0   \n",
       "\n",
       "                      participant_id  response_type  test_one  test_two  \n",
       "12  r7gvngs3mjdqo4lb3nd6hm3b3uobqsrb              0       1.0       1.0  \n",
       "49  3burenqmmt71nbk9sznc0t6gadf8wrlk              0       1.0       1.0  \n",
       "54  9543ar5qbz3ectkkdqoexf9lurur57za              0       1.0       1.0  \n",
       "77  hczxorcd6py0pwrty95zbp2rzqdvv66e              0       1.0       1.0  \n",
       "79  wcoz0wruhmnax6mrrhg3proojyrfved6              0       1.0       1.0  \n",
       "\n",
       "[5 rows x 106 columns]"
      ]
     },
     "execution_count": 82,
     "metadata": {},
     "output_type": "execute_result"
    }
   ],
   "source": [
    "control_responses = pd.read_pickle('raw-data/control-responses.pkl')\n",
    "post_responses = pd.read_pickle('raw-data/post-responses.pkl')\n",
    "upvote_responses = pd.read_pickle('raw-data/upvote-responses.pkl')\n",
    "\n",
    "upvote_responses.head()"
   ]
  },
  {
   "cell_type": "markdown",
   "metadata": {},
   "source": [
    "### Intragroup Low/High Rating T-Tests"
   ]
  },
  {
   "cell_type": "code",
   "execution_count": 83,
   "metadata": {
    "collapsed": true
   },
   "outputs": [],
   "source": [
    "for data in (control_responses, post_responses, upvote_responses):\n",
    "    for j_label in JUDGMENT_LABELS:\n",
    "        low_headers = ['{}_{}'.format(q_label, j_label) for q_label in LOW_LABELS]\n",
    "        high_headers = ['{}_{}'.format(q_label, j_label) for q_label in HIGH_LABELS]\n",
    "        \n",
    "        low_data = data[low_headers].mean(axis=1)\n",
    "        high_data = data[high_headers].mean(axis=1)\n",
    "        \n",
    "        data['{}_low'.format(j_label)] = low_data\n",
    "        data['{}_high'.format(j_label)] = high_data\n",
    "        data['{}_diff'.format(j_label)] = high_data - low_data"
   ]
  },
  {
   "cell_type": "code",
   "execution_count": 101,
   "metadata": {},
   "outputs": [
    {
     "data": {
      "image/png": "[encoded data removed]",
      "text/plain": [
       "<matplotlib.figure.Figure at 0x11fb05e80>"
      ]
     },
     "metadata": {
      "image/png": {
       "height": 372,
       "width": 718
      }
     },
     "output_type": "display_data"
    },
    {
     "data": {
      "image/png": "[encoded data removed]",
      "text/plain": [
       "<matplotlib.figure.Figure at 0x11faf6eb8>"
      ]
     },
     "metadata": {
      "image/png": {
       "height": 372,
       "width": 718
      }
     },
     "output_type": "display_data"
    },
    {
     "data": {
      "image/png": "[encoded data removed]",
      "text/plain": [
       "<matplotlib.figure.Figure at 0x121315128>"
      ]
     },
     "metadata": {
      "image/png": {
       "height": 372,
       "width": 710
      }
     },
     "output_type": "display_data"
    }
   ],
   "source": [
    "PLOTTING_OPTIONS = {\n",
    "    'ylabel': 'Ratings',\n",
    "    'ticks': ['Curiosity', 'Confidence', 'Usefulness',\n",
    "              'Popularity', 'Writing', 'Surprise', 'Social Utility'],\n",
    "    'legend': ['Low Numbers', 'High Humbers'],\n",
    "    'size': (12, 6)\n",
    "}\n",
    "\n",
    "for name, data in zip(CONDITIONS, (control_responses, post_responses, upvote_responses)):\n",
    "    low_means, low_errs = [], []\n",
    "    high_means, high_errs = [], []\n",
    "    # print(name)\n",
    "    for j_label in JUDGMENT_LABELS:\n",
    "        low_data = data['{}_low'.format(j_label)]\n",
    "        high_data = data['{}_high'.format(j_label)]\n",
    "        low_means.append(low_data.mean())\n",
    "        high_means.append(high_data.mean())\n",
    "        low_errs.append(stats.sem(low_data))\n",
    "        high_errs.append(stats.sem(high_data))\n",
    "        # print(low_means); print(high_means)\n",
    "        # print(low_errs); print(high_errs)\n",
    "        \n",
    "    plotting.plot_double_bar(low_means, low_errs, high_means, high_errs,\n",
    "        **PLOTTING_OPTIONS, title='{} All Question Averages'.format(name))"
   ]
  },
  {
   "cell_type": "code",
   "execution_count": 100,
   "metadata": {
    "scrolled": false
   },
   "outputs": [
    {
     "name": "stdout",
     "output_type": "stream",
     "text": [
      "Control\n",
      "Curiosity: t = -0.546, p = 0.586 (1 greater), Δ = 0.050\n",
      "Confidence: t = 0.167, p = 0.868 (0 greater), Δ = -0.013\n",
      "Usefulness: t = -0.209, p = 0.835 (1 greater), Δ = 0.018\n",
      "Popularity: t = -0.854, p = 0.395 (1 greater), Δ = 0.068\n",
      "Writing: t = -0.751, p = 0.454 (1 greater), Δ = 0.053\n",
      "Surprise: t = nan, p = nan (1 greater), Δ = nan\n",
      "Social Utility: t = -0.999, p = 0.32 (1 greater), Δ = 0.067\n",
      "\n",
      "Post Number\n",
      "Curiosity: t = 0.596, p = 0.552 (0 greater), Δ = -0.048\n",
      "Confidence: t = 1.02, p = 0.31 (0 greater), Δ = -0.072\n",
      "Usefulness: t = -0.31, p = 0.757 (1 greater), Δ = 0.027\n",
      "Popularity: t = -0.345, p = 0.73 (1 greater), Δ = 0.028\n",
      "Writing: t = -0.571, p = 0.569 (1 greater), Δ = 0.035\n",
      "Surprise: t = nan, p = nan (1 greater), Δ = nan\n",
      "Social Utility: t = 0.124, p = 0.901 (0 greater), Δ = -0.009\n",
      "\n",
      "Upvotes\n",
      "Curiosity: t = -7.28, p = 3.83e-12 (1 greater), Δ = 0.503\n",
      "Confidence: t = -0.244, p = 0.807 (1 greater), Δ = 0.014\n",
      "Usefulness: t = -5.8, p = 1.86e-08 (1 greater), Δ = 0.365\n",
      "Popularity: t = -21.2, p = 7.25e-59 (1 greater), Δ = 2.511\n",
      "Writing: t = -7.16, p = 8.27e-12 (1 greater), Δ = 0.377\n",
      "Surprise: t = -7.29, p = 3.68e-12 (1 greater), Δ = 0.677\n",
      "Social Utility: t = -8.59, p = 7.78e-16 (1 greater), Δ = 0.495\n",
      "\n"
     ]
    }
   ],
   "source": [
    "for name, data in zip(CONDITIONS, (control_responses, post_responses, upvote_responses)):\n",
    "    print('{}'.format(name))\n",
    "    for question, j_label in zip(QUESTIONS, JUDGMENT_LABELS):\n",
    "        highs = data['{}_high'.format(j_label)]\n",
    "        lows = data['{}_low'.format(j_label)]\n",
    "        print('{}: {}, Δ = {:.3f}'.format(\n",
    "            question,\n",
    "            describe.paired_t_test(lows, highs),\n",
    "            highs.mean() - lows.mean()\n",
    "        ))\n",
    "    print()"
   ]
  },
  {
   "cell_type": "markdown",
   "metadata": {},
   "source": [
    "### Intergroup Difference T-Tests"
   ]
  },
  {
   "cell_type": "code",
   "execution_count": 86,
   "metadata": {},
   "outputs": [
    {
     "name": "stdout",
     "output_type": "stream",
     "text": [
      "Control & Post Number\n",
      "Curiosity: t = 0.805, p = 0.422 (0 greater)\n",
      "Confidence: t = 0.554, p = 0.58 (0 greater)\n",
      "Usefulness: t = -0.0684, p = 0.946 (1 greater)\n",
      "Popularity: t = 0.346, p = 0.729 (0 greater)\n",
      "Writing: t = 0.198, p = 0.843 (0 greater)\n",
      "Surprise: t = nan, p = nan (1 greater)\n",
      "Social Utility: t = 0.737, p = 0.462 (0 greater)\n",
      "\n",
      "Control & Upvotes\n",
      "Curiosity: t = -3.79, p = 0.000178 (1 greater)\n",
      "Confidence: t = -0.27, p = 0.787 (1 greater)\n",
      "Usefulness: t = -3.14, p = 0.00183 (1 greater)\n",
      "Popularity: t = -13.3, p = 2.21e-33 (1 greater)\n",
      "Writing: t = -3.53, p = 0.000461 (1 greater)\n",
      "Surprise: t = nan, p = nan (1 greater)\n",
      "Social Utility: t = -4.44, p = 1.21e-05 (1 greater)\n"
     ]
    }
   ],
   "source": [
    "print('Control & Post Number')\n",
    "for question, j_label in zip(QUESTIONS, JUDGMENT_LABELS):\n",
    "    print('{}: {}'.format(question, describe.independent_t_test(\n",
    "        control_responses['{}_diff'.format(j_label)],\n",
    "        post_responses['{}_diff'.format(j_label)])))\n",
    "print()\n",
    "\n",
    "print('Control & Upvotes')\n",
    "for question, j_label in zip(QUESTIONS, JUDGMENT_LABELS):\n",
    "    print('{}: {}'.format(question, describe.independent_t_test(\n",
    "        control_responses['{}_diff'.format(j_label)],\n",
    "        upvote_responses['{}_diff'.format(j_label)])))"
   ]
  },
  {
   "cell_type": "markdown",
   "metadata": {},
   "source": [
    "### Intragroup Question Selection"
   ]
  },
  {
   "cell_type": "code",
   "execution_count": 87,
   "metadata": {
    "collapsed": true,
    "scrolled": true
   },
   "outputs": [],
   "source": [
    "for data in (control_responses, post_responses, upvote_responses):\n",
    "    low_choice_labels = ['{}_choice'.format(q_label) for q_label in LOW_LABELS]\n",
    "    high_choice_labels = ['{}_choice'.format(q_label) for q_label in HIGH_LABELS]\n",
    "    low_choice_means = data[low_choice_labels].mean(axis=1)\n",
    "    high_choice_means = data[high_choice_labels].mean(axis=1)\n",
    "    data['low_choice'] = low_choice_means\n",
    "    data['high_choice'] = high_choice_means"
   ]
  },
  {
   "cell_type": "code",
   "execution_count": 104,
   "metadata": {},
   "outputs": [
    {
     "name": "stdout",
     "output_type": "stream",
     "text": [
      "[0.5199999999999999, 0.5100671140939594, 0.44090909090909164]\n",
      "[0.48000000000000015, 0.48993288590604045, 0.5590909090909086]\n",
      "[0.014667175952451381, 0.013118257087098972, 0.010866231049344366]\n",
      "[0.014667175952451381, 0.013118257087098972, 0.010866231049344366]\n"
     ]
    },
    {
     "data": {
      "image/png": "[encoded data removed]",
      "text/plain": [
       "<matplotlib.figure.Figure at 0x10f1a4940>"
      ]
     },
     "metadata": {
      "image/png": {
       "height": 372,
       "width": 718
      }
     },
     "output_type": "display_data"
    }
   ],
   "source": [
    "PLOTTING_OPTIONS = {\n",
    "    'ylabel': 'Proportion Chosen',\n",
    "    'ticks': ['Control', 'Post Number', 'Upvotes'],\n",
    "    'legend': ['Low Numbers', 'High Humbers'],\n",
    "    'size': (12, 6),\n",
    "    'title': 'Question Selection Across Groups'\n",
    "}\n",
    "\n",
    "\n",
    "low_means, low_errs = [], []\n",
    "high_means, high_errs = [], []\n",
    "for data in (control_responses, post_responses, upvote_responses):\n",
    "    low_means.append(data.low_choice.mean())\n",
    "    high_means.append(data.high_choice.mean())\n",
    "    low_errs.append(stats.sem(data.low_choice))\n",
    "    high_errs.append(stats.sem(data.high_choice))\n",
    "\n",
    "print(low_means, high_means, low_errs, high_errs, sep='\\n')\n",
    "\n",
    "plotting.plot_double_bar(low_means, low_errs, high_means, high_errs,\n",
    "        **PLOTTING_OPTIONS)"
   ]
  },
  {
   "cell_type": "code",
   "execution_count": 89,
   "metadata": {},
   "outputs": [
    {
     "name": "stdout",
     "output_type": "stream",
     "text": [
      "Control: t = -1.36, p = 0.175 (smaller), Δ = -0.02\n",
      "Post Number: t = -0.767, p = 0.444 (smaller), Δ = -0.0101\n",
      "Upvotes: t = 5.44, p = 1.23e-07 (greater), Δ = 0.0591\n"
     ]
    }
   ],
   "source": [
    "for name, data in zip(CONDITIONS, (control_responses, post_responses, upvote_responses)):\n",
    "    print('{}: {}, Δ = {:.3}'.format(\n",
    "        name,\n",
    "        describe.one_sample_t_test(data.high_choice, 0.5),\n",
    "        data.high_choice.mean() - 0.5\n",
    "    ))"
   ]
  },
  {
   "cell_type": "markdown",
   "metadata": {},
   "source": [
    "### Per Question Analysis"
   ]
  },
  {
   "cell_type": "code",
   "execution_count": 90,
   "metadata": {
    "collapsed": true
   },
   "outputs": [],
   "source": [
    "non_upvote_responses = pd.concat([control_responses, post_responses])"
   ]
  },
  {
   "cell_type": "code",
   "execution_count": 91,
   "metadata": {
    "collapsed": true
   },
   "outputs": [],
   "source": [
    "COLUMN_NAMES = [\n",
    "    'curiosity', 'confidence', 'usefulness',\n",
    "    'popularity', 'writing', 'surprise', 'social_utility',\n",
    "    'group', 'number', 'choice']\n",
    "flattened_data = {col: [] for col in COLUMN_NAMES}\n",
    "\n",
    "for index, row in non_upvote_responses.iterrows():\n",
    "    for q_label in ALL_LABELS:\n",
    "        for number, col_name in enumerate(COLUMN_NAMES[:-3]):\n",
    "            flattened_data[col_name].append(\n",
    "                row['{}_j{}'.format(q_label, number)])\n",
    "    \n",
    "        choice_info = row['{}_choice'.format(q_label)]\n",
    "        index_info = row['{}_index'.format(q_label)]\n",
    "        \n",
    "        flattened_data['choice'].append(choice_info)\n",
    "        flattened_data['number'].append(index_info)\n",
    "        flattened_data['group'].append('none')\n",
    "        \n",
    "for index, row in upvote_responses.iterrows():\n",
    "    for q_num, q_label in enumerate(ALL_LABELS):\n",
    "        for number, col_name in enumerate(COLUMN_NAMES[:-3]):\n",
    "            flattened_data[col_name].append(\n",
    "                row['{}_j{}'.format(q_label, number)])\n",
    "            \n",
    "        choice_info = row['{}_choice'.format(q_label)]\n",
    "        index_info = row['{}_index'.format(q_label)]\n",
    "        group_info = 'high' if q_num > GROUP_SIZE else 'low'\n",
    "        \n",
    "        flattened_data['choice'].append(choice_info)\n",
    "        flattened_data['number'].append(index_info)\n",
    "        flattened_data['group'].append(group_info)"
   ]
  },
  {
   "cell_type": "code",
   "execution_count": 92,
   "metadata": {
    "scrolled": true
   },
   "outputs": [
    {
     "name": "stdout",
     "output_type": "stream",
     "text": [
      "5330 533\n"
     ]
    },
    {
     "data": {
      "text/html": [
       "<div>\n",
       "<style>\n",
       "    .dataframe thead tr:only-child th {\n",
       "        text-align: right;\n",
       "    }\n",
       "\n",
       "    .dataframe thead th {\n",
       "        text-align: left;\n",
       "    }\n",
       "\n",
       "    .dataframe tbody tr th {\n",
       "        vertical-align: top;\n",
       "    }\n",
       "</style>\n",
       "<table border=\"1\" class=\"dataframe\">\n",
       "  <thead>\n",
       "    <tr style=\"text-align: right;\">\n",
       "      <th></th>\n",
       "      <th>choice</th>\n",
       "      <th>confidence</th>\n",
       "      <th>curiosity</th>\n",
       "      <th>group</th>\n",
       "      <th>number</th>\n",
       "      <th>popularity</th>\n",
       "      <th>social_utility</th>\n",
       "      <th>surprise</th>\n",
       "      <th>usefulness</th>\n",
       "      <th>writing</th>\n",
       "    </tr>\n",
       "  </thead>\n",
       "  <tbody>\n",
       "    <tr>\n",
       "      <th>0</th>\n",
       "      <td>1.0</td>\n",
       "      <td>4.0</td>\n",
       "      <td>3.0</td>\n",
       "      <td>none</td>\n",
       "      <td>7.0</td>\n",
       "      <td>4.0</td>\n",
       "      <td>3.0</td>\n",
       "      <td>NaN</td>\n",
       "      <td>4.0</td>\n",
       "      <td>4.0</td>\n",
       "    </tr>\n",
       "    <tr>\n",
       "      <th>1</th>\n",
       "      <td>0.0</td>\n",
       "      <td>2.0</td>\n",
       "      <td>3.0</td>\n",
       "      <td>none</td>\n",
       "      <td>33.0</td>\n",
       "      <td>2.0</td>\n",
       "      <td>3.0</td>\n",
       "      <td>NaN</td>\n",
       "      <td>2.0</td>\n",
       "      <td>3.0</td>\n",
       "    </tr>\n",
       "    <tr>\n",
       "      <th>2</th>\n",
       "      <td>1.0</td>\n",
       "      <td>3.0</td>\n",
       "      <td>3.0</td>\n",
       "      <td>none</td>\n",
       "      <td>43.0</td>\n",
       "      <td>4.0</td>\n",
       "      <td>3.0</td>\n",
       "      <td>NaN</td>\n",
       "      <td>4.0</td>\n",
       "      <td>4.0</td>\n",
       "    </tr>\n",
       "    <tr>\n",
       "      <th>3</th>\n",
       "      <td>1.0</td>\n",
       "      <td>4.0</td>\n",
       "      <td>3.0</td>\n",
       "      <td>none</td>\n",
       "      <td>22.0</td>\n",
       "      <td>3.0</td>\n",
       "      <td>3.0</td>\n",
       "      <td>NaN</td>\n",
       "      <td>3.0</td>\n",
       "      <td>4.0</td>\n",
       "    </tr>\n",
       "    <tr>\n",
       "      <th>4</th>\n",
       "      <td>0.0</td>\n",
       "      <td>2.0</td>\n",
       "      <td>3.0</td>\n",
       "      <td>none</td>\n",
       "      <td>48.0</td>\n",
       "      <td>3.0</td>\n",
       "      <td>2.0</td>\n",
       "      <td>NaN</td>\n",
       "      <td>3.0</td>\n",
       "      <td>2.0</td>\n",
       "    </tr>\n",
       "  </tbody>\n",
       "</table>\n",
       "</div>"
      ],
      "text/plain": [
       "   choice  confidence  curiosity group  number  popularity  social_utility  \\\n",
       "0     1.0         4.0        3.0  none     7.0         4.0             3.0   \n",
       "1     0.0         2.0        3.0  none    33.0         2.0             3.0   \n",
       "2     1.0         3.0        3.0  none    43.0         4.0             3.0   \n",
       "3     1.0         4.0        3.0  none    22.0         3.0             3.0   \n",
       "4     0.0         2.0        3.0  none    48.0         3.0             2.0   \n",
       "\n",
       "   surprise  usefulness  writing  \n",
       "0       NaN         4.0      4.0  \n",
       "1       NaN         2.0      3.0  \n",
       "2       NaN         4.0      4.0  \n",
       "3       NaN         3.0      4.0  \n",
       "4       NaN         3.0      2.0  "
      ]
     },
     "execution_count": 92,
     "metadata": {},
     "output_type": "execute_result"
    }
   ],
   "source": [
    "question_data = pd.DataFrame(flattened_data)\n",
    "print(len(question_data),\n",
    "      len(upvote_responses) + len(non_upvote_responses))\n",
    "question_data.head()"
   ]
  },
  {
   "cell_type": "code",
   "execution_count": 93,
   "metadata": {
    "collapsed": true
   },
   "outputs": [],
   "source": [
    "low_questions = question_data[question_data.group == 'low']\n",
    "high_questions = question_data[question_data.group == 'high']\n",
    "none_questions = question_data[question_data.group == 'none']"
   ]
  },
  {
   "cell_type": "code",
   "execution_count": 94,
   "metadata": {},
   "outputs": [
    {
     "data": {
      "image/png": "[encoded data removed]",
      "text/plain": [
       "<matplotlib.figure.Figure at 0x10f19d2b0>"
      ]
     },
     "metadata": {
      "image/png": {
       "height": 574,
       "width": 878
      }
     },
     "output_type": "display_data"
    }
   ],
   "source": [
    "PLOTTING_OPTIONS = {\n",
    "    'ylabel': 'Ratings',\n",
    "    'ticks': ['Curiosity', 'Confidence', 'Usefulness',\n",
    "              'Popularity', 'Writing', 'Surprise', 'Social Utility'],\n",
    "    'legend': ['Low', 'None', 'High'],\n",
    "    'size': (15, 10)\n",
    "}\n",
    "\n",
    "low_means, low_errs = [], []\n",
    "none_means, none_errs = [], []\n",
    "high_means, high_errs = [], []\n",
    "\n",
    "for judgment in COLUMN_NAMES[:7]:\n",
    "    low_means.append(low_questions[judgment].mean())\n",
    "    none_means.append(none_questions[judgment].mean())\n",
    "    high_means.append(high_questions[judgment].mean())\n",
    "    \n",
    "    low_errs.append(stats.sem(low_questions[judgment]))\n",
    "    none_errs.append(stats.sem(none_questions[judgment]))\n",
    "    high_errs.append(stats.sem(high_questions[judgment]))\n",
    "\n",
    "plotting.plot_triple_bar(low_means, low_errs, none_means, none_errs, \n",
    "                         high_means, high_errs, **PLOTTING_OPTIONS)"
   ]
  },
  {
   "cell_type": "markdown",
   "metadata": {},
   "source": [
    "### Question Choice Prediction"
   ]
  },
  {
   "cell_type": "code",
   "execution_count": 95,
   "metadata": {
    "collapsed": true
   },
   "outputs": [],
   "source": [
    "upvote_question_data = question_data[(question_data.group == 'high') |\n",
    "                                     (question_data.group == 'low')]"
   ]
  },
  {
   "cell_type": "code",
   "execution_count": 96,
   "metadata": {},
   "outputs": [
    {
     "name": "stdout",
     "output_type": "stream",
     "text": [
      "Optimization terminated successfully.\n",
      "         Current function value: 0.611326\n",
      "         Iterations 5\n"
     ]
    },
    {
     "data": {
      "text/html": [
       "<table class=\"simpletable\">\n",
       "<caption>Logit Regression Results</caption>\n",
       "<tr>\n",
       "  <th>Dep. Variable:</th>      <td>choice</td>      <th>  No. Observations:  </th>  <td>  2640</td>  \n",
       "</tr>\n",
       "<tr>\n",
       "  <th>Model:</th>               <td>Logit</td>      <th>  Df Residuals:      </th>  <td>  2632</td>  \n",
       "</tr>\n",
       "<tr>\n",
       "  <th>Method:</th>               <td>MLE</td>       <th>  Df Model:          </th>  <td>     7</td>  \n",
       "</tr>\n",
       "<tr>\n",
       "  <th>Date:</th>          <td>Sun, 03 Jun 2018</td> <th>  Pseudo R-squ.:     </th>  <td>0.1180</td>  \n",
       "</tr>\n",
       "<tr>\n",
       "  <th>Time:</th>              <td>12:13:55</td>     <th>  Log-Likelihood:    </th> <td> -1613.9</td> \n",
       "</tr>\n",
       "<tr>\n",
       "  <th>converged:</th>           <td>True</td>       <th>  LL-Null:           </th> <td> -1829.9</td> \n",
       "</tr>\n",
       "<tr>\n",
       "  <th> </th>                      <td> </td>        <th>  LLR p-value:       </th> <td>3.228e-89</td>\n",
       "</tr>\n",
       "</table>\n",
       "<table class=\"simpletable\">\n",
       "<tr>\n",
       "         <td></td>           <th>coef</th>     <th>std err</th>      <th>z</th>      <th>P>|z|</th>  <th>[0.025</th>    <th>0.975]</th>  \n",
       "</tr>\n",
       "<tr>\n",
       "  <th>const</th>          <td>   -1.1851</td> <td>    0.136</td> <td>   -8.715</td> <td> 0.000</td> <td>   -1.452</td> <td>   -0.919</td>\n",
       "</tr>\n",
       "<tr>\n",
       "  <th>curiosity</th>      <td>    0.3361</td> <td>    0.029</td> <td>   11.489</td> <td> 0.000</td> <td>    0.279</td> <td>    0.393</td>\n",
       "</tr>\n",
       "<tr>\n",
       "  <th>confidence</th>     <td>   -0.0913</td> <td>    0.025</td> <td>   -3.647</td> <td> 0.000</td> <td>   -0.140</td> <td>   -0.042</td>\n",
       "</tr>\n",
       "<tr>\n",
       "  <th>usefulness</th>     <td>    0.1150</td> <td>    0.036</td> <td>    3.156</td> <td> 0.002</td> <td>    0.044</td> <td>    0.186</td>\n",
       "</tr>\n",
       "<tr>\n",
       "  <th>popularity</th>     <td>    0.0763</td> <td>    0.023</td> <td>    3.257</td> <td> 0.001</td> <td>    0.030</td> <td>    0.122</td>\n",
       "</tr>\n",
       "<tr>\n",
       "  <th>writing</th>        <td>   -0.0072</td> <td>    0.031</td> <td>   -0.235</td> <td> 0.814</td> <td>   -0.067</td> <td>    0.053</td>\n",
       "</tr>\n",
       "<tr>\n",
       "  <th>surprise</th>       <td>   -0.0774</td> <td>    0.023</td> <td>   -3.346</td> <td> 0.001</td> <td>   -0.123</td> <td>   -0.032</td>\n",
       "</tr>\n",
       "<tr>\n",
       "  <th>social_utility</th> <td>   -0.0065</td> <td>    0.037</td> <td>   -0.175</td> <td> 0.861</td> <td>   -0.079</td> <td>    0.066</td>\n",
       "</tr>\n",
       "</table>"
      ],
      "text/plain": [
       "<class 'statsmodels.iolib.summary.Summary'>\n",
       "\"\"\"\n",
       "                           Logit Regression Results                           \n",
       "==============================================================================\n",
       "Dep. Variable:                 choice   No. Observations:                 2640\n",
       "Model:                          Logit   Df Residuals:                     2632\n",
       "Method:                           MLE   Df Model:                            7\n",
       "Date:                Sun, 03 Jun 2018   Pseudo R-squ.:                  0.1180\n",
       "Time:                        12:13:55   Log-Likelihood:                -1613.9\n",
       "converged:                       True   LL-Null:                       -1829.9\n",
       "                                        LLR p-value:                 3.228e-89\n",
       "==================================================================================\n",
       "                     coef    std err          z      P>|z|      [0.025      0.975]\n",
       "----------------------------------------------------------------------------------\n",
       "const             -1.1851      0.136     -8.715      0.000      -1.452      -0.919\n",
       "curiosity          0.3361      0.029     11.489      0.000       0.279       0.393\n",
       "confidence        -0.0913      0.025     -3.647      0.000      -0.140      -0.042\n",
       "usefulness         0.1150      0.036      3.156      0.002       0.044       0.186\n",
       "popularity         0.0763      0.023      3.257      0.001       0.030       0.122\n",
       "writing           -0.0072      0.031     -0.235      0.814      -0.067       0.053\n",
       "surprise          -0.0774      0.023     -3.346      0.001      -0.123      -0.032\n",
       "social_utility    -0.0065      0.037     -0.175      0.861      -0.079       0.066\n",
       "==================================================================================\n",
       "\"\"\""
      ]
     },
     "execution_count": 96,
     "metadata": {},
     "output_type": "execute_result"
    }
   ],
   "source": [
    "all_predictors = [\n",
    "    'curiosity', 'confidence', 'usefulness', 'popularity',\n",
    "    'writing', 'surprise', 'social_utility'\n",
    "]\n",
    "X = upvote_question_data[all_predictors]\n",
    "y = upvote_question_data['choice']\n",
    "X = sm.add_constant(X)\n",
    "\n",
    "logit_model = sm.Logit(y, X)\n",
    "results = logit_model.fit()\n",
    "results.summary()"
   ]
  },
  {
   "cell_type": "markdown",
   "metadata": {},
   "source": [
    "### Mediation of Popularity by Curiousity in Question Choice"
   ]
  },
  {
   "cell_type": "code",
   "execution_count": 97,
   "metadata": {
    "scrolled": false
   },
   "outputs": [
    {
     "name": "stdout",
     "output_type": "stream",
     "text": [
      "Optimization terminated successfully.\n",
      "         Current function value: 0.676777\n",
      "         Iterations 4\n"
     ]
    },
    {
     "data": {
      "text/html": [
       "<table class=\"simpletable\">\n",
       "<caption>Logit Regression Results</caption>\n",
       "<tr>\n",
       "  <th>Dep. Variable:</th>      <td>choice</td>      <th>  No. Observations:  </th>  <td>  2640</td>  \n",
       "</tr>\n",
       "<tr>\n",
       "  <th>Model:</th>               <td>Logit</td>      <th>  Df Residuals:      </th>  <td>  2638</td>  \n",
       "</tr>\n",
       "<tr>\n",
       "  <th>Method:</th>               <td>MLE</td>       <th>  Df Model:          </th>  <td>     1</td>  \n",
       "</tr>\n",
       "<tr>\n",
       "  <th>Date:</th>          <td>Sun, 03 Jun 2018</td> <th>  Pseudo R-squ.:     </th>  <td>0.02362</td> \n",
       "</tr>\n",
       "<tr>\n",
       "  <th>Time:</th>              <td>12:13:55</td>     <th>  Log-Likelihood:    </th> <td> -1786.7</td> \n",
       "</tr>\n",
       "<tr>\n",
       "  <th>converged:</th>           <td>True</td>       <th>  LL-Null:           </th> <td> -1829.9</td> \n",
       "</tr>\n",
       "<tr>\n",
       "  <th> </th>                      <td> </td>        <th>  LLR p-value:       </th> <td>1.443e-20</td>\n",
       "</tr>\n",
       "</table>\n",
       "<table class=\"simpletable\">\n",
       "<tr>\n",
       "       <td></td>         <th>coef</th>     <th>std err</th>      <th>z</th>      <th>P>|z|</th>  <th>[0.025</th>    <th>0.975]</th>  \n",
       "</tr>\n",
       "<tr>\n",
       "  <th>const</th>      <td>   -0.5427</td> <td>    0.071</td> <td>   -7.616</td> <td> 0.000</td> <td>   -0.682</td> <td>   -0.403</td>\n",
       "</tr>\n",
       "<tr>\n",
       "  <th>popularity</th> <td>    0.1803</td> <td>    0.020</td> <td>    9.168</td> <td> 0.000</td> <td>    0.142</td> <td>    0.219</td>\n",
       "</tr>\n",
       "</table>"
      ],
      "text/plain": [
       "<class 'statsmodels.iolib.summary.Summary'>\n",
       "\"\"\"\n",
       "                           Logit Regression Results                           \n",
       "==============================================================================\n",
       "Dep. Variable:                 choice   No. Observations:                 2640\n",
       "Model:                          Logit   Df Residuals:                     2638\n",
       "Method:                           MLE   Df Model:                            1\n",
       "Date:                Sun, 03 Jun 2018   Pseudo R-squ.:                 0.02362\n",
       "Time:                        12:13:55   Log-Likelihood:                -1786.7\n",
       "converged:                       True   LL-Null:                       -1829.9\n",
       "                                        LLR p-value:                 1.443e-20\n",
       "==============================================================================\n",
       "                 coef    std err          z      P>|z|      [0.025      0.975]\n",
       "------------------------------------------------------------------------------\n",
       "const         -0.5427      0.071     -7.616      0.000      -0.682      -0.403\n",
       "popularity     0.1803      0.020      9.168      0.000       0.142       0.219\n",
       "==============================================================================\n",
       "\"\"\""
      ]
     },
     "metadata": {},
     "output_type": "display_data"
    },
    {
     "name": "stdout",
     "output_type": "stream",
     "text": [
      "Optimization terminated successfully.\n",
      "         Current function value: 0.619376\n",
      "         Iterations 5\n"
     ]
    },
    {
     "data": {
      "text/html": [
       "<table class=\"simpletable\">\n",
       "<caption>Logit Regression Results</caption>\n",
       "<tr>\n",
       "  <th>Dep. Variable:</th>      <td>choice</td>      <th>  No. Observations:  </th>  <td>  2640</td>  \n",
       "</tr>\n",
       "<tr>\n",
       "  <th>Model:</th>               <td>Logit</td>      <th>  Df Residuals:      </th>  <td>  2638</td>  \n",
       "</tr>\n",
       "<tr>\n",
       "  <th>Method:</th>               <td>MLE</td>       <th>  Df Model:          </th>  <td>     1</td>  \n",
       "</tr>\n",
       "<tr>\n",
       "  <th>Date:</th>          <td>Sun, 03 Jun 2018</td> <th>  Pseudo R-squ.:     </th>  <td>0.1064</td>  \n",
       "</tr>\n",
       "<tr>\n",
       "  <th>Time:</th>              <td>12:13:55</td>     <th>  Log-Likelihood:    </th> <td> -1635.2</td> \n",
       "</tr>\n",
       "<tr>\n",
       "  <th>converged:</th>           <td>True</td>       <th>  LL-Null:           </th> <td> -1829.9</td> \n",
       "</tr>\n",
       "<tr>\n",
       "  <th> </th>                      <td> </td>        <th>  LLR p-value:       </th> <td>1.056e-86</td>\n",
       "</tr>\n",
       "</table>\n",
       "<table class=\"simpletable\">\n",
       "<tr>\n",
       "      <td></td>         <th>coef</th>     <th>std err</th>      <th>z</th>      <th>P>|z|</th>  <th>[0.025</th>    <th>0.975]</th>  \n",
       "</tr>\n",
       "<tr>\n",
       "  <th>const</th>     <td>   -1.2978</td> <td>    0.083</td> <td>  -15.671</td> <td> 0.000</td> <td>   -1.460</td> <td>   -1.135</td>\n",
       "</tr>\n",
       "<tr>\n",
       "  <th>curiosity</th> <td>    0.4080</td> <td>    0.022</td> <td>   18.404</td> <td> 0.000</td> <td>    0.365</td> <td>    0.452</td>\n",
       "</tr>\n",
       "</table>"
      ],
      "text/plain": [
       "<class 'statsmodels.iolib.summary.Summary'>\n",
       "\"\"\"\n",
       "                           Logit Regression Results                           \n",
       "==============================================================================\n",
       "Dep. Variable:                 choice   No. Observations:                 2640\n",
       "Model:                          Logit   Df Residuals:                     2638\n",
       "Method:                           MLE   Df Model:                            1\n",
       "Date:                Sun, 03 Jun 2018   Pseudo R-squ.:                  0.1064\n",
       "Time:                        12:13:55   Log-Likelihood:                -1635.2\n",
       "converged:                       True   LL-Null:                       -1829.9\n",
       "                                        LLR p-value:                 1.056e-86\n",
       "==============================================================================\n",
       "                 coef    std err          z      P>|z|      [0.025      0.975]\n",
       "------------------------------------------------------------------------------\n",
       "const         -1.2978      0.083    -15.671      0.000      -1.460      -1.135\n",
       "curiosity      0.4080      0.022     18.404      0.000       0.365       0.452\n",
       "==============================================================================\n",
       "\"\"\""
      ]
     },
     "metadata": {},
     "output_type": "display_data"
    },
    {
     "name": "stdout",
     "output_type": "stream",
     "text": [
      "Optimization terminated successfully.\n",
      "         Current function value: 0.617812\n",
      "         Iterations 5\n"
     ]
    },
    {
     "data": {
      "text/html": [
       "<table class=\"simpletable\">\n",
       "<caption>Logit Regression Results</caption>\n",
       "<tr>\n",
       "  <th>Dep. Variable:</th>      <td>choice</td>      <th>  No. Observations:  </th>  <td>  2640</td>  \n",
       "</tr>\n",
       "<tr>\n",
       "  <th>Model:</th>               <td>Logit</td>      <th>  Df Residuals:      </th>  <td>  2637</td>  \n",
       "</tr>\n",
       "<tr>\n",
       "  <th>Method:</th>               <td>MLE</td>       <th>  Df Model:          </th>  <td>     2</td>  \n",
       "</tr>\n",
       "<tr>\n",
       "  <th>Date:</th>          <td>Sun, 03 Jun 2018</td> <th>  Pseudo R-squ.:     </th>  <td>0.1087</td>  \n",
       "</tr>\n",
       "<tr>\n",
       "  <th>Time:</th>              <td>12:13:55</td>     <th>  Log-Likelihood:    </th> <td> -1631.0</td> \n",
       "</tr>\n",
       "<tr>\n",
       "  <th>converged:</th>           <td>True</td>       <th>  LL-Null:           </th> <td> -1829.9</td> \n",
       "</tr>\n",
       "<tr>\n",
       "  <th> </th>                      <td> </td>        <th>  LLR p-value:       </th> <td>4.219e-87</td>\n",
       "</tr>\n",
       "</table>\n",
       "<table class=\"simpletable\">\n",
       "<tr>\n",
       "       <td></td>         <th>coef</th>     <th>std err</th>      <th>z</th>      <th>P>|z|</th>  <th>[0.025</th>    <th>0.975]</th>  \n",
       "</tr>\n",
       "<tr>\n",
       "  <th>const</th>      <td>   -1.4220</td> <td>    0.094</td> <td>  -15.094</td> <td> 0.000</td> <td>   -1.607</td> <td>   -1.237</td>\n",
       "</tr>\n",
       "<tr>\n",
       "  <th>popularity</th> <td>    0.0636</td> <td>    0.022</td> <td>    2.880</td> <td> 0.004</td> <td>    0.020</td> <td>    0.107</td>\n",
       "</tr>\n",
       "<tr>\n",
       "  <th>curiosity</th>  <td>    0.3869</td> <td>    0.023</td> <td>   16.667</td> <td> 0.000</td> <td>    0.341</td> <td>    0.432</td>\n",
       "</tr>\n",
       "</table>"
      ],
      "text/plain": [
       "<class 'statsmodels.iolib.summary.Summary'>\n",
       "\"\"\"\n",
       "                           Logit Regression Results                           \n",
       "==============================================================================\n",
       "Dep. Variable:                 choice   No. Observations:                 2640\n",
       "Model:                          Logit   Df Residuals:                     2637\n",
       "Method:                           MLE   Df Model:                            2\n",
       "Date:                Sun, 03 Jun 2018   Pseudo R-squ.:                  0.1087\n",
       "Time:                        12:13:55   Log-Likelihood:                -1631.0\n",
       "converged:                       True   LL-Null:                       -1829.9\n",
       "                                        LLR p-value:                 4.219e-87\n",
       "==============================================================================\n",
       "                 coef    std err          z      P>|z|      [0.025      0.975]\n",
       "------------------------------------------------------------------------------\n",
       "const         -1.4220      0.094    -15.094      0.000      -1.607      -1.237\n",
       "popularity     0.0636      0.022      2.880      0.004       0.020       0.107\n",
       "curiosity      0.3869      0.023     16.667      0.000       0.341       0.432\n",
       "==============================================================================\n",
       "\"\"\""
      ]
     },
     "metadata": {},
     "output_type": "display_data"
    }
   ],
   "source": [
    "# Popularity\n",
    "X = upvote_question_data['popularity']\n",
    "y = upvote_question_data['choice']\n",
    "X = sm.add_constant(X)\n",
    "\n",
    "logit_model = sm.Logit(y, X)\n",
    "results = logit_model.fit()\n",
    "display(results.summary())\n",
    "\n",
    "# Curiosity\n",
    "X = upvote_question_data['curiosity']\n",
    "y = upvote_question_data['choice']\n",
    "X = sm.add_constant(X)\n",
    "\n",
    "logit_model = sm.Logit(y, X)\n",
    "results = logit_model.fit()\n",
    "display(results.summary())\n",
    "\n",
    "# Both\n",
    "X = upvote_question_data[['popularity', 'curiosity']]\n",
    "y = upvote_question_data['choice']\n",
    "X = sm.add_constant(X)\n",
    "\n",
    "logit_model = sm.Logit(y, X)\n",
    "results = logit_model.fit()\n",
    "display(results.summary())"
   ]
  },
  {
   "cell_type": "code",
   "execution_count": 98,
   "metadata": {},
   "outputs": [
    {
     "data": {
      "text/plain": [
       "['j0', 'j1', 'j2', 'j3', 'j4', 'j5', 'j6']"
      ]
     },
     "execution_count": 98,
     "metadata": {},
     "output_type": "execute_result"
    }
   ],
   "source": [
    "JUDGMENT_LABELS"
   ]
  },
  {
   "cell_type": "code",
   "execution_count": null,
   "metadata": {
    "collapsed": true
   },
   "outputs": [],
   "source": []
  }
 ],
 "metadata": {
  "kernel_info": {
   "name": "python3"
  },
  "kernelspec": {
   "display_name": "Python 3",
   "language": "python",
   "name": "python3"
  },
  "language_info": {
   "codemirror_mode": {
    "name": "ipython",
    "version": 3
   },
   "file_extension": ".py",
   "mimetype": "text/x-python",
   "name": "python",
   "nbconvert_exporter": "python",
   "pygments_lexer": "ipython3",
   "version": "3.6.1"
  },
  "nteract": {
   "version": "0.5.5"
  }
 },
 "nbformat": 4,
 "nbformat_minor": 2
}
