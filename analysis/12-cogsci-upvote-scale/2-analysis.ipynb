{
 "cells": [
  {
   "cell_type": "markdown",
   "metadata": {},
   "source": [
    "# 11-experiment-three-cogsci\n",
    "\n",
    "## Analysis"
   ]
  },
  {
   "cell_type": "code",
   "execution_count": 1,
   "metadata": {},
   "outputs": [],
   "source": [
    "# Analytical Tools\n",
    "import random\n",
    "import numpy as np\n",
    "import pandas as pd\n",
    "from scipy import stats\n",
    "import matplotlib.pyplot as plt\n",
    "import seaborn as sns\n",
    "\n",
    "# General Utilities\n",
    "import itertools\n",
    "import json\n",
    "import pprint\n",
    "\n",
    "# Custom Utilities\n",
    "import utilities.plotting as plotting\n",
    "import utilities.describe as describe\n",
    "\n",
    "# Some settings\n",
    "log = pprint.pprint\n",
    "%matplotlib inline\n",
    "pd.options.mode.chained_assignment = None\n"
   ]
  },
  {
   "cell_type": "markdown",
   "metadata": {},
   "source": [
    "### Import Data & Define Constants"
   ]
  },
  {
   "cell_type": "code",
   "execution_count": 2,
   "metadata": {},
   "outputs": [
    {
     "data": {
      "text/html": [
       "<div>\n",
       "<style scoped>\n",
       "    .dataframe tbody tr th:only-of-type {\n",
       "        vertical-align: middle;\n",
       "    }\n",
       "\n",
       "    .dataframe tbody tr th {\n",
       "        vertical-align: top;\n",
       "    }\n",
       "\n",
       "    .dataframe thead th {\n",
       "        text-align: right;\n",
       "    }\n",
       "</style>\n",
       "<table border=\"1\" class=\"dataframe\">\n",
       "  <thead>\n",
       "    <tr style=\"text-align: right;\">\n",
       "      <th></th>\n",
       "      <th>id</th>\n",
       "      <th>consent</th>\n",
       "      <th>attention</th>\n",
       "      <th>g0_q0_score</th>\n",
       "      <th>g0_q0_index</th>\n",
       "      <th>g0_q0_j0</th>\n",
       "      <th>g0_q0_j1</th>\n",
       "      <th>g0_q0_j2</th>\n",
       "      <th>g0_q0_j3</th>\n",
       "      <th>g0_q0_j4</th>\n",
       "      <th>...</th>\n",
       "      <th>g1_q4_score</th>\n",
       "      <th>g1_q4_index</th>\n",
       "      <th>g1_q4_j0</th>\n",
       "      <th>g1_q4_j1</th>\n",
       "      <th>g1_q4_j2</th>\n",
       "      <th>g1_q4_j3</th>\n",
       "      <th>g1_q4_j4</th>\n",
       "      <th>g1_q4_j5</th>\n",
       "      <th>j_mean</th>\n",
       "      <th>j_std</th>\n",
       "    </tr>\n",
       "  </thead>\n",
       "  <tbody>\n",
       "    <tr>\n",
       "      <th>0</th>\n",
       "      <td>sana26r21r9md90gqj3o7fm1rm4rpw2p</td>\n",
       "      <td>1</td>\n",
       "      <td>1</td>\n",
       "      <td>36</td>\n",
       "      <td>2</td>\n",
       "      <td>4</td>\n",
       "      <td>3</td>\n",
       "      <td>5</td>\n",
       "      <td>0</td>\n",
       "      <td>5</td>\n",
       "      <td>...</td>\n",
       "      <td>24039</td>\n",
       "      <td>40</td>\n",
       "      <td>3</td>\n",
       "      <td>2</td>\n",
       "      <td>4</td>\n",
       "      <td>5</td>\n",
       "      <td>1</td>\n",
       "      <td>5</td>\n",
       "      <td>3.083333</td>\n",
       "      <td>1.649773</td>\n",
       "    </tr>\n",
       "    <tr>\n",
       "      <th>1</th>\n",
       "      <td>68d2brqo4tuf7kstwx0evwcuu5hqf9o2</td>\n",
       "      <td>1</td>\n",
       "      <td>1</td>\n",
       "      <td>30</td>\n",
       "      <td>10</td>\n",
       "      <td>2</td>\n",
       "      <td>2</td>\n",
       "      <td>3</td>\n",
       "      <td>2</td>\n",
       "      <td>2</td>\n",
       "      <td>...</td>\n",
       "      <td>24051</td>\n",
       "      <td>0</td>\n",
       "      <td>1</td>\n",
       "      <td>3</td>\n",
       "      <td>1</td>\n",
       "      <td>1</td>\n",
       "      <td>1</td>\n",
       "      <td>1</td>\n",
       "      <td>2.033333</td>\n",
       "      <td>0.973665</td>\n",
       "    </tr>\n",
       "    <tr>\n",
       "      <th>2</th>\n",
       "      <td>rxt9ompoqypdk5v67wmwpseu29te3s08</td>\n",
       "      <td>1</td>\n",
       "      <td>1</td>\n",
       "      <td>14</td>\n",
       "      <td>32</td>\n",
       "      <td>6</td>\n",
       "      <td>2</td>\n",
       "      <td>5</td>\n",
       "      <td>2</td>\n",
       "      <td>3</td>\n",
       "      <td>...</td>\n",
       "      <td>24047</td>\n",
       "      <td>23</td>\n",
       "      <td>2</td>\n",
       "      <td>0</td>\n",
       "      <td>1</td>\n",
       "      <td>6</td>\n",
       "      <td>6</td>\n",
       "      <td>1</td>\n",
       "      <td>3.366667</td>\n",
       "      <td>2.041657</td>\n",
       "    </tr>\n",
       "    <tr>\n",
       "      <th>4</th>\n",
       "      <td>wul66ydj8kvrksvrb3u57s0eap457scs</td>\n",
       "      <td>1</td>\n",
       "      <td>1</td>\n",
       "      <td>24</td>\n",
       "      <td>41</td>\n",
       "      <td>5</td>\n",
       "      <td>0</td>\n",
       "      <td>3</td>\n",
       "      <td>4</td>\n",
       "      <td>6</td>\n",
       "      <td>...</td>\n",
       "      <td>24032</td>\n",
       "      <td>42</td>\n",
       "      <td>2</td>\n",
       "      <td>0</td>\n",
       "      <td>4</td>\n",
       "      <td>6</td>\n",
       "      <td>5</td>\n",
       "      <td>4</td>\n",
       "      <td>2.533333</td>\n",
       "      <td>2.417918</td>\n",
       "    </tr>\n",
       "    <tr>\n",
       "      <th>5</th>\n",
       "      <td>3lmswywcgo03yave2grh38pyqagaxjqo</td>\n",
       "      <td>1</td>\n",
       "      <td>1</td>\n",
       "      <td>26</td>\n",
       "      <td>20</td>\n",
       "      <td>6</td>\n",
       "      <td>1</td>\n",
       "      <td>3</td>\n",
       "      <td>1</td>\n",
       "      <td>5</td>\n",
       "      <td>...</td>\n",
       "      <td>24052</td>\n",
       "      <td>0</td>\n",
       "      <td>3</td>\n",
       "      <td>0</td>\n",
       "      <td>3</td>\n",
       "      <td>2</td>\n",
       "      <td>1</td>\n",
       "      <td>3</td>\n",
       "      <td>3.066667</td>\n",
       "      <td>2.024148</td>\n",
       "    </tr>\n",
       "  </tbody>\n",
       "</table>\n",
       "<p>5 rows × 85 columns</p>\n",
       "</div>"
      ],
      "text/plain": [
       "                                 id  consent  attention  g0_q0_score  \\\n",
       "0  sana26r21r9md90gqj3o7fm1rm4rpw2p        1          1           36   \n",
       "1  68d2brqo4tuf7kstwx0evwcuu5hqf9o2        1          1           30   \n",
       "2  rxt9ompoqypdk5v67wmwpseu29te3s08        1          1           14   \n",
       "4  wul66ydj8kvrksvrb3u57s0eap457scs        1          1           24   \n",
       "5  3lmswywcgo03yave2grh38pyqagaxjqo        1          1           26   \n",
       "\n",
       "   g0_q0_index  g0_q0_j0  g0_q0_j1  g0_q0_j2  g0_q0_j3  g0_q0_j4    ...     \\\n",
       "0            2         4         3         5         0         5    ...      \n",
       "1           10         2         2         3         2         2    ...      \n",
       "2           32         6         2         5         2         3    ...      \n",
       "4           41         5         0         3         4         6    ...      \n",
       "5           20         6         1         3         1         5    ...      \n",
       "\n",
       "   g1_q4_score  g1_q4_index  g1_q4_j0  g1_q4_j1  g1_q4_j2  g1_q4_j3  g1_q4_j4  \\\n",
       "0        24039           40         3         2         4         5         1   \n",
       "1        24051            0         1         3         1         1         1   \n",
       "2        24047           23         2         0         1         6         6   \n",
       "4        24032           42         2         0         4         6         5   \n",
       "5        24052            0         3         0         3         2         1   \n",
       "\n",
       "   g1_q4_j5    j_mean     j_std  \n",
       "0         5  3.083333  1.649773  \n",
       "1         1  2.033333  0.973665  \n",
       "2         1  3.366667  2.041657  \n",
       "4         4  2.533333  2.417918  \n",
       "5         3  3.066667  2.024148  \n",
       "\n",
       "[5 rows x 85 columns]"
      ]
     },
     "execution_count": 2,
     "metadata": {},
     "output_type": "execute_result"
    }
   ],
   "source": [
    "GROUPS = 2\n",
    "QUESTIONS = 5\n",
    "JUDGMENTS = 6\n",
    "SCORE_THRESHOLD = 240.9\n",
    "\n",
    "data = pd.read_pickle('data/responses.pkl')\n",
    "data.head()"
   ]
  },
  {
   "cell_type": "markdown",
   "metadata": {},
   "source": [
    "### Analysis"
   ]
  },
  {
   "cell_type": "code",
   "execution_count": 3,
   "metadata": {},
   "outputs": [],
   "source": [
    "for g_num in range(GROUPS):\n",
    "    for j_num in range(JUDGMENTS):\n",
    "        headings = []\n",
    "        for q_num in range(QUESTIONS):\n",
    "            headings.append('g{}_q{}_j{}'.format(g_num, q_num, j_num))\n",
    "        \n",
    "        rating_mean = data[headings].mean(axis=1)\n",
    "        data['g{}_j{}_mean'.format(g_num, j_num)] = rating_mean"
   ]
  },
  {
   "cell_type": "code",
   "execution_count": 4,
   "metadata": {
    "scrolled": false
   },
   "outputs": [
    {
     "data": {
      "image/png": "[encoded data removed]",
      "text/plain": [
       "<Figure size 864x432 with 1 Axes>"
      ]
     },
     "metadata": {
      "needs_background": "light"
     },
     "output_type": "display_data"
    },
    {
     "name": "stdout",
     "output_type": "stream",
     "text": [
      "[3.0495798319327743, 1.6756302521008408, 2.5521008403361347, 1.758823529411764, 2.3957983193277324, 2.1932773109243713]\n",
      "[3.4823529411764693, 1.7529411764705884, 2.8352941176470594, 4.489075630252099, 3.046218487394956, 2.5193277310924374]\n"
     ]
    }
   ],
   "source": [
    "PLOTTING_OPTIONS = {\n",
    "    'ylabel': 'Ratings',\n",
    "    'ticks': ['Curiosity', 'Confidence', 'Usefulness',\n",
    "              'Popularity', 'Surprise', 'Social Utility'],\n",
    "    'legend': ['Low Scores', 'High Scores'],\n",
    "    'title': 'All Questions',\n",
    "    'size': (12, 6)\n",
    "}\n",
    "\n",
    "# for _ in range(1):\n",
    "#     sample = data.iloc[random.sample(range(len(data)), len(data))]\n",
    "    \n",
    "sample = data\n",
    "\n",
    "g0_means, g0_errs = [], []\n",
    "g1_means, g1_errs = [], []\n",
    "for j_num in range(JUDGMENTS):\n",
    "    g0_values = sample['g0_j{}_mean'.format(j_num)]\n",
    "    g1_values = sample['g1_j{}_mean'.format(j_num)]\n",
    "    g0_means.append(g0_values.mean())\n",
    "    g1_means.append(g1_values.mean())\n",
    "    g0_errs.append(stats.sem(g0_values))\n",
    "    g1_errs.append(stats.sem(g1_values))\n",
    "\n",
    "plotting.plot_double_bar(\n",
    "    g0_means, g0_errs, g1_means, g1_errs, \n",
    "    **PLOTTING_OPTIONS\n",
    ")\n",
    "\n",
    "print(g0_means)\n",
    "print(g1_means)"
   ]
  },
  {
   "cell_type": "code",
   "execution_count": 5,
   "metadata": {},
   "outputs": [
    {
     "name": "stdout",
     "output_type": "stream",
     "text": [
      "Low & High\n",
      "Curiosity: t = -5.87, p = 1.47e-08, Δ = 0.433 (1 greater)\n",
      "Confidence: t = -1.23, p = 0.219, Δ = 0.0773 (1 greater)\n",
      "Usefulness: t = -4.15, p = 4.68e-05, Δ = 0.283 (1 greater)\n",
      "Popularity: t = -20.8, p = 2.34e-55, Δ = 2.73 (1 greater)\n",
      "Surprise: t = -6.32, p = 1.31e-09, Δ = 0.65 (1 greater)\n",
      "Social Utility: t = -5.08, p = 7.81e-07, Δ = 0.326 (1 greater)\n"
     ]
    }
   ],
   "source": [
    "print('Low & High')\n",
    "for j_num in range(JUDGMENTS):\n",
    "    g0_values = data['g0_j{}_mean'.format(j_num)]\n",
    "    g2_values = data['g1_j{}_mean'.format(j_num)]\n",
    "    print('{}: {}'.format(PLOTTING_OPTIONS['ticks'][j_num],\n",
    "                          describe.paired_t_test(g0_values, g2_values)))"
   ]
  },
  {
   "cell_type": "code",
   "execution_count": 24,
   "metadata": {},
   "outputs": [],
   "source": [
    "g0_confidences = {num: [] for num in range(7)}\n",
    "g1_confidences = {num: [] for num in range(7)}\n",
    "for index, row in data.iterrows():\n",
    "    for q_num in range(QUESTIONS):\n",
    "        cur_rating = row['g0_q{}_j0'.format(q_num)] - row['g1_j0_mean']\n",
    "        conf_rating = row['g0_q{}_j1'.format(q_num)]\n",
    "        g0_confidences[conf_rating].append(cur_rating)\n",
    "        \n",
    "        cur_rating = row['g1_q{}_j0'.format(q_num)] - row['g1_j0_mean'] # i do not know what this is for - row['g1_j0_mean'], maybe normalization?\n",
    "        conf_rating = row['g1_q{}_j1'.format(q_num)]\n",
    "        g1_confidences[conf_rating].append(cur_rating)\n",
    "   \n",
    "all_confidences = {}\n",
    "for num in range(7):\n",
    "    all_confidences[num] = g0_confidences[num] + g1_confidences[num]\n",
    "   "
   ]
  },
  {
   "cell_type": "code",
   "execution_count": 25,
   "metadata": {},
   "outputs": [
    {
     "data": {
      "image/png": "[encoded data removed]",
      "text/plain": [
       "<Figure size 432x288 with 1 Axes>"
      ]
     },
     "metadata": {
      "needs_background": "light"
     },
     "output_type": "display_data"
    }
   ],
   "source": [
    "PLOTTING_OPTIONS = {\n",
    "    'ylabel': 'Average Curiosity Rating',\n",
    "    'xlabel': 'Confidence Rating',\n",
    "    'title': 'Curiosity vs Confidence',\n",
    "}\n",
    "\n",
    "\n",
    "means = [np.mean(all_confidences[num]) for num in range(7)]\n",
    "stderr = [stats.sem(all_confidences[num]) for num in range(7)]\n",
    "    \n",
    "plotting.plot_single_bar(\n",
    "    means, stderr,\n",
    "    **PLOTTING_OPTIONS\n",
    ")\n",
    "plt.show()"
   ]
  },
  {
   "cell_type": "code",
   "execution_count": 18,
   "metadata": {},
   "outputs": [],
   "source": [
    "from sklearn import preprocessing\n",
    "\n",
    "x_values = []\n",
    "y_values = []\n",
    "for num in range(7):\n",
    "    x_values += [num / 6 for _ in range(len(all_confidences[num]))]\n",
    "    y_values += all_confidences[num]\n",
    "\n",
    "x_values = np.reshape(np.array(x_values), (-1, 1))\n",
    "y_values = np.reshape(np.array(y_values), (-1, 1))\n",
    "x_values_quadratic = preprocessing.PolynomialFeatures(2).fit_transform(x_values)"
   ]
  },
  {
   "cell_type": "code",
   "execution_count": 19,
   "metadata": {},
   "outputs": [
    {
     "data": {
      "text/html": [
       "<table class=\"simpletable\">\n",
       "<caption>OLS Regression Results</caption>\n",
       "<tr>\n",
       "  <th>Dep. Variable:</th>            <td>y</td>        <th>  R-squared:         </th> <td>   0.028</td> \n",
       "</tr>\n",
       "<tr>\n",
       "  <th>Model:</th>                   <td>OLS</td>       <th>  Adj. R-squared:    </th> <td>   0.027</td> \n",
       "</tr>\n",
       "<tr>\n",
       "  <th>Method:</th>             <td>Least Squares</td>  <th>  F-statistic:       </th> <td>   34.41</td> \n",
       "</tr>\n",
       "<tr>\n",
       "  <th>Date:</th>             <td>Fri, 09 Aug 2019</td> <th>  Prob (F-statistic):</th> <td>1.85e-15</td> \n",
       "</tr>\n",
       "<tr>\n",
       "  <th>Time:</th>                 <td>18:38:16</td>     <th>  Log-Likelihood:    </th> <td> -5067.3</td> \n",
       "</tr>\n",
       "<tr>\n",
       "  <th>No. Observations:</th>      <td>  2380</td>      <th>  AIC:               </th> <td>1.014e+04</td>\n",
       "</tr>\n",
       "<tr>\n",
       "  <th>Df Residuals:</th>          <td>  2377</td>      <th>  BIC:               </th> <td>1.016e+04</td>\n",
       "</tr>\n",
       "<tr>\n",
       "  <th>Df Model:</th>              <td>     2</td>      <th>                     </th>     <td> </td>    \n",
       "</tr>\n",
       "<tr>\n",
       "  <th>Covariance Type:</th>      <td>nonrobust</td>    <th>                     </th>     <td> </td>    \n",
       "</tr>\n",
       "</table>\n",
       "<table class=\"simpletable\">\n",
       "<tr>\n",
       "    <td></td>       <th>coef</th>     <th>std err</th>      <th>t</th>      <th>P>|t|</th>  <th>[0.025</th>    <th>0.975]</th>  \n",
       "</tr>\n",
       "<tr>\n",
       "  <th>const</th> <td>    3.1217</td> <td>    0.062</td> <td>   50.336</td> <td> 0.000</td> <td>    3.000</td> <td>    3.243</td>\n",
       "</tr>\n",
       "<tr>\n",
       "  <th>x1</th>    <td>    2.9819</td> <td>    0.421</td> <td>    7.077</td> <td> 0.000</td> <td>    2.156</td> <td>    3.808</td>\n",
       "</tr>\n",
       "<tr>\n",
       "  <th>x2</th>    <td>   -3.8465</td> <td>    0.477</td> <td>   -8.069</td> <td> 0.000</td> <td>   -4.781</td> <td>   -2.912</td>\n",
       "</tr>\n",
       "</table>\n",
       "<table class=\"simpletable\">\n",
       "<tr>\n",
       "  <th>Omnibus:</th>       <td>1451.686</td> <th>  Durbin-Watson:     </th> <td>   1.648</td>\n",
       "</tr>\n",
       "<tr>\n",
       "  <th>Prob(Omnibus):</th>  <td> 0.000</td>  <th>  Jarque-Bera (JB):  </th> <td> 143.590</td>\n",
       "</tr>\n",
       "<tr>\n",
       "  <th>Skew:</th>           <td>-0.154</td>  <th>  Prob(JB):          </th> <td>6.60e-32</td>\n",
       "</tr>\n",
       "<tr>\n",
       "  <th>Kurtosis:</th>       <td> 1.837</td>  <th>  Cond. No.          </th> <td>    16.1</td>\n",
       "</tr>\n",
       "</table><br/><br/>Warnings:<br/>[1] Standard Errors assume that the covariance matrix of the errors is correctly specified."
      ],
      "text/plain": [
       "<class 'statsmodels.iolib.summary.Summary'>\n",
       "\"\"\"\n",
       "                            OLS Regression Results                            \n",
       "==============================================================================\n",
       "Dep. Variable:                      y   R-squared:                       0.028\n",
       "Model:                            OLS   Adj. R-squared:                  0.027\n",
       "Method:                 Least Squares   F-statistic:                     34.41\n",
       "Date:                Fri, 09 Aug 2019   Prob (F-statistic):           1.85e-15\n",
       "Time:                        18:38:16   Log-Likelihood:                -5067.3\n",
       "No. Observations:                2380   AIC:                         1.014e+04\n",
       "Df Residuals:                    2377   BIC:                         1.016e+04\n",
       "Df Model:                           2                                         \n",
       "Covariance Type:            nonrobust                                         \n",
       "==============================================================================\n",
       "                 coef    std err          t      P>|t|      [0.025      0.975]\n",
       "------------------------------------------------------------------------------\n",
       "const          3.1217      0.062     50.336      0.000       3.000       3.243\n",
       "x1             2.9819      0.421      7.077      0.000       2.156       3.808\n",
       "x2            -3.8465      0.477     -8.069      0.000      -4.781      -2.912\n",
       "==============================================================================\n",
       "Omnibus:                     1451.686   Durbin-Watson:                   1.648\n",
       "Prob(Omnibus):                  0.000   Jarque-Bera (JB):              143.590\n",
       "Skew:                          -0.154   Prob(JB):                     6.60e-32\n",
       "Kurtosis:                       1.837   Cond. No.                         16.1\n",
       "==============================================================================\n",
       "\n",
       "Warnings:\n",
       "[1] Standard Errors assume that the covariance matrix of the errors is correctly specified.\n",
       "\"\"\""
      ]
     },
     "execution_count": 19,
     "metadata": {},
     "output_type": "execute_result"
    }
   ],
   "source": [
    "import statsmodels.api as sm\n",
    "results = sm.OLS(y_values, x_values_quadratic).fit()\n",
    "results.summary()"
   ]
  },
  {
   "cell_type": "code",
   "execution_count": 20,
   "metadata": {},
   "outputs": [
    {
     "name": "stdout",
     "output_type": "stream",
     "text": [
      "Best Polynomial\n",
      "y = -3.847x^2 + 2.982x + 3.122\n",
      "y = 3.847x(1 - x) + -0.8647x \n"
     ]
    }
   ],
   "source": [
    "result = results.params\n",
    "\n",
    "print('Best Polynomial')\n",
    "print('y = {:.4}x^2 + {:.4}x + {:.4}'.format(result[2], result[1], result[0]))\n",
    "print('y = {:.4}x(1 - x) + {:.4}x '.format(-result[2], result[1] + result[2], result[0]))"
   ]
  },
  {
   "cell_type": "code",
   "execution_count": 21,
   "metadata": {},
   "outputs": [
    {
     "data": {
      "image/png": "[encoded data removed]",
      "text/plain": [
       "<Figure size 432x288 with 1 Axes>"
      ]
     },
     "metadata": {
      "needs_background": "light"
     },
     "output_type": "display_data"
    }
   ],
   "source": [
    "poly = np.poly1d(list(reversed(result)))\n",
    "x_ticks = np.linspace(0, 1, 100)\n",
    "plt.errorbar(np.linspace(0, 1, 7), means, stderr)\n",
    "plt.plot(x_ticks, poly(x_ticks), '-')\n",
    "plt.show()"
   ]
  },
  {
   "cell_type": "code",
   "execution_count": null,
   "metadata": {},
   "outputs": [],
   "source": []
  },
  {
   "cell_type": "code",
   "execution_count": null,
   "metadata": {},
   "outputs": [],
   "source": []
  }
 ],
 "metadata": {
  "kernel_info": {
   "name": "python3"
  },
  "kernelspec": {
   "display_name": "Python 3",
   "language": "python",
   "name": "python3"
  },
  "language_info": {
   "codemirror_mode": {
    "name": "ipython",
    "version": 3
   },
   "file_extension": ".py",
   "mimetype": "text/x-python",
   "name": "python",
   "nbconvert_exporter": "python",
   "pygments_lexer": "ipython3",
   "version": "3.5.3"
  },
  "nteract": {
   "version": "0.5.5"
  }
 },
 "nbformat": 4,
 "nbformat_minor": 2
}
