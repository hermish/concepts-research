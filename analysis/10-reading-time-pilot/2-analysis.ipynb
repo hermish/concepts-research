{
 "cells": [
  {
   "cell_type": "markdown",
   "metadata": {},
   "source": [
    "# Experiment Ten\n",
    "\n",
    "## Analysis"
   ]
  },
  {
   "cell_type": "code",
   "execution_count": 1,
   "metadata": {
    "collapsed": true
   },
   "outputs": [],
   "source": [
    "%load_ext pycodestyle_magic"
   ]
  },
  {
   "cell_type": "code",
   "execution_count": 11,
   "metadata": {},
   "outputs": [],
   "source": [
    "# Analytical Tools\n",
    "import numpy as np\n",
    "import pandas as pd\n",
    "from scipy import stats\n",
    "import seaborn as sns\n",
    "import statsmodels.api as sm\n",
    "\n",
    "# General Utilities\n",
    "import json\n",
    "import pprint\n",
    "import random\n",
    "\n",
    "# Custom Utilities\n",
    "import utilities.processing as processing\n",
    "import utilities.plotting as plotting\n",
    "import utilities.describe as describe\n",
    "\n",
    "# Some settings\n",
    "log = pprint.pprint\n",
    "%matplotlib inline\n",
    "%config InlineBackend.figure_format = 'retina'"
   ]
  },
  {
   "cell_type": "markdown",
   "metadata": {},
   "source": [
    "### Reading Data and Defining Constants"
   ]
  },
  {
   "cell_type": "code",
   "execution_count": 12,
   "metadata": {},
   "outputs": [],
   "source": [
    "FILE_NAMES = [\n",
    "    'raw-data/survey-ten-responses.json',\n",
    "]\n",
    "\n",
    "CONDITIONS = ['Quiz', 'Up-votes']\n",
    "QUESTIONS = ['Curiosity']\n",
    "\n",
    "NUM_JUDGEMENTS = 1\n",
    "NUMBER_OF_GROUPS = 2\n",
    "GROUP_SIZE = 2\n",
    "ALL_LABELS = processing.get_article_labels(NUMBER_OF_GROUPS, GROUP_SIZE)\n",
    "JUDGMENT_LABELS = processing.get_judgment_labels(NUM_JUDGEMENTS)\n",
    "\n",
    "OTHER_LABELS = ALL_LABELS[:GROUP_SIZE]\n",
    "SCIENCE_LABELS = ALL_LABELS[GROUP_SIZE:]"
   ]
  },
  {
   "cell_type": "code",
   "execution_count": 8,
   "metadata": {},
   "outputs": [
    {
     "data": {
      "text/html": [
       "<div>\n",
       "<style>\n",
       "    .dataframe thead tr:only-child th {\n",
       "        text-align: right;\n",
       "    }\n",
       "\n",
       "    .dataframe thead th {\n",
       "        text-align: left;\n",
       "    }\n",
       "\n",
       "    .dataframe tbody tr th {\n",
       "        vertical-align: top;\n",
       "    }\n",
       "</style>\n",
       "<table border=\"1\" class=\"dataframe\">\n",
       "  <thead>\n",
       "    <tr style=\"text-align: right;\">\n",
       "      <th></th>\n",
       "      <th>condition_number</th>\n",
       "      <th>consent</th>\n",
       "      <th>g0_i0_j0</th>\n",
       "      <th>g0_i0_number</th>\n",
       "      <th>g0_i0_time</th>\n",
       "      <th>g0_i1_j0</th>\n",
       "      <th>g0_i1_number</th>\n",
       "      <th>g0_i1_time</th>\n",
       "      <th>g1_i0_j0</th>\n",
       "      <th>g1_i0_number</th>\n",
       "      <th>g1_i0_time</th>\n",
       "      <th>g1_i1_j0</th>\n",
       "      <th>g1_i1_number</th>\n",
       "      <th>g1_i1_time</th>\n",
       "      <th>high_group</th>\n",
       "      <th>participant_id</th>\n",
       "      <th>quiz_one</th>\n",
       "      <th>quiz_two</th>\n",
       "      <th>response_type</th>\n",
       "    </tr>\n",
       "  </thead>\n",
       "  <tbody>\n",
       "    <tr>\n",
       "      <th>34</th>\n",
       "      <td>1</td>\n",
       "      <td>1.0</td>\n",
       "      <td>5.0</td>\n",
       "      <td>5.0</td>\n",
       "      <td>24386.0</td>\n",
       "      <td>3.0</td>\n",
       "      <td>6.0</td>\n",
       "      <td>4942.0</td>\n",
       "      <td>1.0</td>\n",
       "      <td>9112.0</td>\n",
       "      <td>25309.0</td>\n",
       "      <td>1.0</td>\n",
       "      <td>9565.0</td>\n",
       "      <td>4691.0</td>\n",
       "      <td>1</td>\n",
       "      <td>bavwt1kyppsqpl0rkuo3lv8hvsemoz11</td>\n",
       "      <td>1.0</td>\n",
       "      <td>1.0</td>\n",
       "      <td>0</td>\n",
       "    </tr>\n",
       "    <tr>\n",
       "      <th>47</th>\n",
       "      <td>1</td>\n",
       "      <td>1.0</td>\n",
       "      <td>0.0</td>\n",
       "      <td>6.0</td>\n",
       "      <td>15338.0</td>\n",
       "      <td>0.0</td>\n",
       "      <td>6.0</td>\n",
       "      <td>25815.0</td>\n",
       "      <td>2.0</td>\n",
       "      <td>8921.0</td>\n",
       "      <td>6153.0</td>\n",
       "      <td>4.0</td>\n",
       "      <td>8716.0</td>\n",
       "      <td>42526.0</td>\n",
       "      <td>1</td>\n",
       "      <td>ugj5bagsh00kpjltkk49g0r1ksagk910</td>\n",
       "      <td>1.0</td>\n",
       "      <td>1.0</td>\n",
       "      <td>0</td>\n",
       "    </tr>\n",
       "    <tr>\n",
       "      <th>50</th>\n",
       "      <td>1</td>\n",
       "      <td>1.0</td>\n",
       "      <td>5.0</td>\n",
       "      <td>6.0</td>\n",
       "      <td>36101.0</td>\n",
       "      <td>2.0</td>\n",
       "      <td>4.0</td>\n",
       "      <td>29804.0</td>\n",
       "      <td>1.0</td>\n",
       "      <td>8803.0</td>\n",
       "      <td>36141.0</td>\n",
       "      <td>3.0</td>\n",
       "      <td>9351.0</td>\n",
       "      <td>19342.0</td>\n",
       "      <td>1</td>\n",
       "      <td>73vbagummagw9qga2jhx4nx9k86o2jaz</td>\n",
       "      <td>1.0</td>\n",
       "      <td>1.0</td>\n",
       "      <td>0</td>\n",
       "    </tr>\n",
       "    <tr>\n",
       "      <th>53</th>\n",
       "      <td>1</td>\n",
       "      <td>1.0</td>\n",
       "      <td>1.0</td>\n",
       "      <td>5.0</td>\n",
       "      <td>2948.0</td>\n",
       "      <td>4.0</td>\n",
       "      <td>4.0</td>\n",
       "      <td>12791.0</td>\n",
       "      <td>4.0</td>\n",
       "      <td>10012.0</td>\n",
       "      <td>19606.0</td>\n",
       "      <td>5.0</td>\n",
       "      <td>8525.0</td>\n",
       "      <td>38386.0</td>\n",
       "      <td>1</td>\n",
       "      <td>ne4b0fgkk9l0pylv46j880p926rzl8f0</td>\n",
       "      <td>1.0</td>\n",
       "      <td>1.0</td>\n",
       "      <td>0</td>\n",
       "    </tr>\n",
       "    <tr>\n",
       "      <th>55</th>\n",
       "      <td>1</td>\n",
       "      <td>1.0</td>\n",
       "      <td>0.0</td>\n",
       "      <td>5.0</td>\n",
       "      <td>24855.0</td>\n",
       "      <td>0.0</td>\n",
       "      <td>4.0</td>\n",
       "      <td>3608.0</td>\n",
       "      <td>5.0</td>\n",
       "      <td>8697.0</td>\n",
       "      <td>108334.0</td>\n",
       "      <td>0.0</td>\n",
       "      <td>9316.0</td>\n",
       "      <td>17039.0</td>\n",
       "      <td>1</td>\n",
       "      <td>vv0tlvo8ygv58g6c2zmeo86toed5rzgk</td>\n",
       "      <td>0.0</td>\n",
       "      <td>1.0</td>\n",
       "      <td>0</td>\n",
       "    </tr>\n",
       "  </tbody>\n",
       "</table>\n",
       "</div>"
      ],
      "text/plain": [
       "    condition_number  consent  g0_i0_j0  g0_i0_number  g0_i0_time  g0_i1_j0  \\\n",
       "34                 1      1.0       5.0           5.0     24386.0       3.0   \n",
       "47                 1      1.0       0.0           6.0     15338.0       0.0   \n",
       "50                 1      1.0       5.0           6.0     36101.0       2.0   \n",
       "53                 1      1.0       1.0           5.0      2948.0       4.0   \n",
       "55                 1      1.0       0.0           5.0     24855.0       0.0   \n",
       "\n",
       "    g0_i1_number  g0_i1_time  g1_i0_j0  g1_i0_number  g1_i0_time  g1_i1_j0  \\\n",
       "34           6.0      4942.0       1.0        9112.0     25309.0       1.0   \n",
       "47           6.0     25815.0       2.0        8921.0      6153.0       4.0   \n",
       "50           4.0     29804.0       1.0        8803.0     36141.0       3.0   \n",
       "53           4.0     12791.0       4.0       10012.0     19606.0       5.0   \n",
       "55           4.0      3608.0       5.0        8697.0    108334.0       0.0   \n",
       "\n",
       "    g1_i1_number  g1_i1_time  high_group                    participant_id  \\\n",
       "34        9565.0      4691.0           1  bavwt1kyppsqpl0rkuo3lv8hvsemoz11   \n",
       "47        8716.0     42526.0           1  ugj5bagsh00kpjltkk49g0r1ksagk910   \n",
       "50        9351.0     19342.0           1  73vbagummagw9qga2jhx4nx9k86o2jaz   \n",
       "53        8525.0     38386.0           1  ne4b0fgkk9l0pylv46j880p926rzl8f0   \n",
       "55        9316.0     17039.0           1  vv0tlvo8ygv58g6c2zmeo86toed5rzgk   \n",
       "\n",
       "    quiz_one  quiz_two  response_type  \n",
       "34       1.0       1.0              0  \n",
       "47       1.0       1.0              0  \n",
       "50       1.0       1.0              0  \n",
       "53       1.0       1.0              0  \n",
       "55       0.0       1.0              0  "
      ]
     },
     "execution_count": 8,
     "metadata": {},
     "output_type": "execute_result"
    }
   ],
   "source": [
    "quiz_responses = pd.read_pickle('raw-data/quiz-responses.pkl')\n",
    "upvote_responses = pd.read_pickle('raw-data/upvote-responses.pkl')\n",
    "\n",
    "upvote_responses.head()"
   ]
  },
  {
   "cell_type": "markdown",
   "metadata": {},
   "source": [
    "### Intragroup Low/High Rating T-Tests"
   ]
  },
  {
   "cell_type": "code",
   "execution_count": 13,
   "metadata": {},
   "outputs": [],
   "source": [
    "for data in (quiz_responses, upvote_responses):\n",
    "    for j_label in JUDGMENT_LABELS:\n",
    "        other_headers = ['{}_{}'.format(q_label, j_label) for q_label in OTHER_LABELS]\n",
    "        science_headers = ['{}_{}'.format(q_label, j_label) for q_label in SCIENCE_LABELS]\n",
    "        \n",
    "        other_data = data[other_headers].mean(axis=1)\n",
    "        science_data = data[science_headers].mean(axis=1)\n",
    "        \n",
    "        data['{}_other'.format(j_label)] = other_data\n",
    "        data['{}_science'.format(j_label)] = science_data\n",
    "        data['{}_diff'.format(j_label)] = science_data - other_data"
   ]
  },
  {
   "cell_type": "code",
   "execution_count": 19,
   "metadata": {},
   "outputs": [
    {
     "data": {
      "image/png": "[encoded data removed]",
      "text/plain": [
       "<matplotlib.figure.Figure at 0x116437208>"
      ]
     },
     "metadata": {
      "image/png": {
       "height": 263,
       "width": 384
      }
     },
     "output_type": "display_data"
    },
    {
     "data": {
      "image/png": "[encoded data removed]",
      "text/plain": [
       "<matplotlib.figure.Figure at 0x11663a0f0>"
      ]
     },
     "metadata": {
      "image/png": {
       "height": 263,
       "width": 384
      }
     },
     "output_type": "display_data"
    },
    {
     "data": {
      "text/html": [
       "<div>\n",
       "<style>\n",
       "    .dataframe thead tr:only-child th {\n",
       "        text-align: right;\n",
       "    }\n",
       "\n",
       "    .dataframe thead th {\n",
       "        text-align: left;\n",
       "    }\n",
       "\n",
       "    .dataframe tbody tr th {\n",
       "        vertical-align: top;\n",
       "    }\n",
       "</style>\n",
       "<table border=\"1\" class=\"dataframe\">\n",
       "  <thead>\n",
       "    <tr style=\"text-align: right;\">\n",
       "      <th></th>\n",
       "      <th>condition_number</th>\n",
       "      <th>consent</th>\n",
       "      <th>g0_i0_j0</th>\n",
       "      <th>g0_i0_number</th>\n",
       "      <th>g0_i0_time</th>\n",
       "      <th>g0_i1_j0</th>\n",
       "      <th>g0_i1_number</th>\n",
       "      <th>g0_i1_time</th>\n",
       "      <th>g1_i0_j0</th>\n",
       "      <th>g1_i0_number</th>\n",
       "      <th>...</th>\n",
       "      <th>g1_i1_number</th>\n",
       "      <th>g1_i1_time</th>\n",
       "      <th>high_group</th>\n",
       "      <th>participant_id</th>\n",
       "      <th>quiz_one</th>\n",
       "      <th>quiz_two</th>\n",
       "      <th>response_type</th>\n",
       "      <th>j0_other</th>\n",
       "      <th>j0_science</th>\n",
       "      <th>j0_diff</th>\n",
       "    </tr>\n",
       "  </thead>\n",
       "  <tbody>\n",
       "    <tr>\n",
       "      <th>34</th>\n",
       "      <td>1</td>\n",
       "      <td>1.0</td>\n",
       "      <td>5.0</td>\n",
       "      <td>5.0</td>\n",
       "      <td>24386.0</td>\n",
       "      <td>3.0</td>\n",
       "      <td>6.0</td>\n",
       "      <td>4942.0</td>\n",
       "      <td>1.0</td>\n",
       "      <td>9112.0</td>\n",
       "      <td>...</td>\n",
       "      <td>9565.0</td>\n",
       "      <td>4691.0</td>\n",
       "      <td>1</td>\n",
       "      <td>bavwt1kyppsqpl0rkuo3lv8hvsemoz11</td>\n",
       "      <td>1.0</td>\n",
       "      <td>1.0</td>\n",
       "      <td>0</td>\n",
       "      <td>4.0</td>\n",
       "      <td>1.0</td>\n",
       "      <td>-3.0</td>\n",
       "    </tr>\n",
       "    <tr>\n",
       "      <th>47</th>\n",
       "      <td>1</td>\n",
       "      <td>1.0</td>\n",
       "      <td>0.0</td>\n",
       "      <td>6.0</td>\n",
       "      <td>15338.0</td>\n",
       "      <td>0.0</td>\n",
       "      <td>6.0</td>\n",
       "      <td>25815.0</td>\n",
       "      <td>2.0</td>\n",
       "      <td>8921.0</td>\n",
       "      <td>...</td>\n",
       "      <td>8716.0</td>\n",
       "      <td>42526.0</td>\n",
       "      <td>1</td>\n",
       "      <td>ugj5bagsh00kpjltkk49g0r1ksagk910</td>\n",
       "      <td>1.0</td>\n",
       "      <td>1.0</td>\n",
       "      <td>0</td>\n",
       "      <td>0.0</td>\n",
       "      <td>3.0</td>\n",
       "      <td>3.0</td>\n",
       "    </tr>\n",
       "    <tr>\n",
       "      <th>50</th>\n",
       "      <td>1</td>\n",
       "      <td>1.0</td>\n",
       "      <td>5.0</td>\n",
       "      <td>6.0</td>\n",
       "      <td>36101.0</td>\n",
       "      <td>2.0</td>\n",
       "      <td>4.0</td>\n",
       "      <td>29804.0</td>\n",
       "      <td>1.0</td>\n",
       "      <td>8803.0</td>\n",
       "      <td>...</td>\n",
       "      <td>9351.0</td>\n",
       "      <td>19342.0</td>\n",
       "      <td>1</td>\n",
       "      <td>73vbagummagw9qga2jhx4nx9k86o2jaz</td>\n",
       "      <td>1.0</td>\n",
       "      <td>1.0</td>\n",
       "      <td>0</td>\n",
       "      <td>3.5</td>\n",
       "      <td>2.0</td>\n",
       "      <td>-1.5</td>\n",
       "    </tr>\n",
       "    <tr>\n",
       "      <th>53</th>\n",
       "      <td>1</td>\n",
       "      <td>1.0</td>\n",
       "      <td>1.0</td>\n",
       "      <td>5.0</td>\n",
       "      <td>2948.0</td>\n",
       "      <td>4.0</td>\n",
       "      <td>4.0</td>\n",
       "      <td>12791.0</td>\n",
       "      <td>4.0</td>\n",
       "      <td>10012.0</td>\n",
       "      <td>...</td>\n",
       "      <td>8525.0</td>\n",
       "      <td>38386.0</td>\n",
       "      <td>1</td>\n",
       "      <td>ne4b0fgkk9l0pylv46j880p926rzl8f0</td>\n",
       "      <td>1.0</td>\n",
       "      <td>1.0</td>\n",
       "      <td>0</td>\n",
       "      <td>2.5</td>\n",
       "      <td>4.5</td>\n",
       "      <td>2.0</td>\n",
       "    </tr>\n",
       "    <tr>\n",
       "      <th>55</th>\n",
       "      <td>1</td>\n",
       "      <td>1.0</td>\n",
       "      <td>0.0</td>\n",
       "      <td>5.0</td>\n",
       "      <td>24855.0</td>\n",
       "      <td>0.0</td>\n",
       "      <td>4.0</td>\n",
       "      <td>3608.0</td>\n",
       "      <td>5.0</td>\n",
       "      <td>8697.0</td>\n",
       "      <td>...</td>\n",
       "      <td>9316.0</td>\n",
       "      <td>17039.0</td>\n",
       "      <td>1</td>\n",
       "      <td>vv0tlvo8ygv58g6c2zmeo86toed5rzgk</td>\n",
       "      <td>0.0</td>\n",
       "      <td>1.0</td>\n",
       "      <td>0</td>\n",
       "      <td>0.0</td>\n",
       "      <td>2.5</td>\n",
       "      <td>2.5</td>\n",
       "    </tr>\n",
       "  </tbody>\n",
       "</table>\n",
       "<p>5 rows × 22 columns</p>\n",
       "</div>"
      ],
      "text/plain": [
       "    condition_number  consent  g0_i0_j0  g0_i0_number  g0_i0_time  g0_i1_j0  \\\n",
       "34                 1      1.0       5.0           5.0     24386.0       3.0   \n",
       "47                 1      1.0       0.0           6.0     15338.0       0.0   \n",
       "50                 1      1.0       5.0           6.0     36101.0       2.0   \n",
       "53                 1      1.0       1.0           5.0      2948.0       4.0   \n",
       "55                 1      1.0       0.0           5.0     24855.0       0.0   \n",
       "\n",
       "    g0_i1_number  g0_i1_time  g1_i0_j0  g1_i0_number   ...     g1_i1_number  \\\n",
       "34           6.0      4942.0       1.0        9112.0   ...           9565.0   \n",
       "47           6.0     25815.0       2.0        8921.0   ...           8716.0   \n",
       "50           4.0     29804.0       1.0        8803.0   ...           9351.0   \n",
       "53           4.0     12791.0       4.0       10012.0   ...           8525.0   \n",
       "55           4.0      3608.0       5.0        8697.0   ...           9316.0   \n",
       "\n",
       "    g1_i1_time  high_group                    participant_id  quiz_one  \\\n",
       "34      4691.0           1  bavwt1kyppsqpl0rkuo3lv8hvsemoz11       1.0   \n",
       "47     42526.0           1  ugj5bagsh00kpjltkk49g0r1ksagk910       1.0   \n",
       "50     19342.0           1  73vbagummagw9qga2jhx4nx9k86o2jaz       1.0   \n",
       "53     38386.0           1  ne4b0fgkk9l0pylv46j880p926rzl8f0       1.0   \n",
       "55     17039.0           1  vv0tlvo8ygv58g6c2zmeo86toed5rzgk       0.0   \n",
       "\n",
       "   quiz_two  response_type  j0_other  j0_science  j0_diff  \n",
       "34      1.0              0       4.0         1.0     -3.0  \n",
       "47      1.0              0       0.0         3.0      3.0  \n",
       "50      1.0              0       3.5         2.0     -1.5  \n",
       "53      1.0              0       2.5         4.5      2.0  \n",
       "55      1.0              0       0.0         2.5      2.5  \n",
       "\n",
       "[5 rows x 22 columns]"
      ]
     },
     "execution_count": 19,
     "metadata": {},
     "output_type": "execute_result"
    }
   ],
   "source": [
    "PLOTTING_OPTIONS = {\n",
    "    'ylabel': 'Ratings',\n",
    "    'ticks': ['Curiosity'],\n",
    "    'legend': ['Other Headlines', 'Science Headlines'],\n",
    "}\n",
    "\n",
    "for name, data in zip(CONDITIONS, (quiz_responses, upvote_responses)):\n",
    "    other_means, other_errs = [], []\n",
    "    science_means, science_errs = [], []\n",
    "    \n",
    "    for j_label in JUDGMENT_LABELS:\n",
    "        other_data = data['{}_other'.format(j_label)]\n",
    "        science_data = data['{}_science'.format(j_label)]\n",
    "        other_means.append(other_data.mean())\n",
    "        science_means.append(science_data.mean())\n",
    "        other_errs.append(stats.sem(other_data))\n",
    "        science_errs.append(stats.sem(science_data))\n",
    "        \n",
    "    plotting.plot_double_bar(other_means, other_errs, science_means, science_errs,\n",
    "        **PLOTTING_OPTIONS, title='{} All Question Averages'.format(name))"
   ]
  },
  {
   "cell_type": "code",
   "execution_count": 22,
   "metadata": {
    "scrolled": false
   },
   "outputs": [
    {
     "name": "stdout",
     "output_type": "stream",
     "text": [
      "Quiz\n",
      "Curiosity: t = 0.172, p = 0.864 (0 greater)\n",
      "\n",
      "Up-votes\n",
      "Curiosity: t = 0.311, p = 0.758 (0 greater)\n",
      "\n"
     ]
    }
   ],
   "source": [
    "for name, data in zip(CONDITIONS, (quiz_responses, upvote_responses)):\n",
    "    print('{}'.format(name))\n",
    "    for question, j_label in zip(QUESTIONS, JUDGMENT_LABELS):\n",
    "        print('{}: {}'.format(question, describe.paired_t_test(\n",
    "            data['{}_other'.format(j_label)], data['{}_science'.format(j_label)])))\n",
    "    print()"
   ]
  },
  {
   "cell_type": "markdown",
   "metadata": {},
   "source": [
    "### Intergroup Difference T-Tests"
   ]
  },
  {
   "cell_type": "code",
   "execution_count": 25,
   "metadata": {},
   "outputs": [
    {
     "name": "stdout",
     "output_type": "stream",
     "text": [
      "Quiz & Post Upvotes\n",
      "Curiosity: t = 0.0975, p = 0.923 (0 greater)\n"
     ]
    }
   ],
   "source": [
    "print('Quiz & Post Upvotes')\n",
    "for question, j_label in zip(QUESTIONS, JUDGMENT_LABELS):\n",
    "    print('{}: {}'.format(question, describe.independent_t_test(\n",
    "        quiz_responses['{}_diff'.format(j_label)],\n",
    "        upvote_responses['{}_diff'.format(j_label)])))"
   ]
  },
  {
   "cell_type": "code",
   "execution_count": 26,
   "metadata": {
    "collapsed": true
   },
   "outputs": [],
   "source": [
    "for data in (quiz_responses, upvote_responses):\n",
    "    other_headers = ['{}_time'.format(q_label) for q_label in OTHER_LABELS]\n",
    "    science_headers = ['{}_time'.format(q_label) for q_label in SCIENCE_LABELS]\n",
    "        \n",
    "    other_data = data[other_headers].mean(axis=1)\n",
    "    science_data = data[science_headers].mean(axis=1)\n",
    "    data['time_diff'.format(j_label)] = science_data - other_data"
   ]
  },
  {
   "cell_type": "code",
   "execution_count": 30,
   "metadata": {},
   "outputs": [
    {
     "data": {
      "image/png": "[encoded data removed]",
      "text/plain": [
       "<matplotlib.figure.Figure at 0x117556160>"
      ]
     },
     "metadata": {
      "image/png": {
       "height": 263,
       "width": 398
      }
     },
     "output_type": "display_data"
    }
   ],
   "source": [
    "PLOTTING_OPTIONS = {\n",
    "    'ylabel': 'Time Difference (in seconds)',\n",
    "    'ticks': ['Quiz', 'Up-Votes'],\n",
    "    'title': 'Time Difference (Science - Other)',\n",
    "}\n",
    "\n",
    "plotting.plot_single_bar(\n",
    "    [quiz_responses.time_diff.mean(),\n",
    "     upvote_responses.time_diff.mean()],\n",
    "    [stats.sem(quiz_responses.time_diff),\n",
    "     stats.sem(upvote_responses.time_diff)],\n",
    "    **PLOTTING_OPTIONS\n",
    ")"
   ]
  },
  {
   "cell_type": "code",
   "execution_count": 27,
   "metadata": {},
   "outputs": [
    {
     "name": "stdout",
     "output_type": "stream",
     "text": [
      "Curiosity: t = 1.48, p = 0.145 (0 greater)\n"
     ]
    }
   ],
   "source": [
    "print('{}: {}'.format(question, describe.independent_t_test(\n",
    "        quiz_responses['time_diff'], upvote_responses['time_diff'])))"
   ]
  }
 ],
 "metadata": {
  "kernel_info": {
   "name": "python3"
  },
  "kernelspec": {
   "display_name": "Python 3",
   "language": "python",
   "name": "python3"
  },
  "language_info": {
   "codemirror_mode": {
    "name": "ipython",
    "version": 3
   },
   "file_extension": ".py",
   "mimetype": "text/x-python",
   "name": "python",
   "nbconvert_exporter": "python",
   "pygments_lexer": "ipython3",
   "version": "3.6.1"
  },
  "nteract": {
   "version": "0.5.5"
  }
 },
 "nbformat": 4,
 "nbformat_minor": 2
}
