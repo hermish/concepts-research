{
 "cells": [
  {
   "cell_type": "markdown",
   "metadata": {},
   "source": [
    "# Question Survey\n",
    "\n",
    "The first study, called `question-survey`, looked at the effect of social influence on curiousity, using upvotes as proxy for social interest. Below we analyze the responses to test the hypothesis that the same questions, when given higher upvotes, receive higher scores from participants with regards to curiousity.\n",
    "\n",
    "## Analysis"
   ]
  },
  {
   "cell_type": "code",
   "execution_count": 1,
   "metadata": {},
   "outputs": [],
   "source": [
    "%load_ext pycodestyle_magic"
   ]
  },
  {
   "cell_type": "code",
   "execution_count": 2,
   "metadata": {
    "collapsed": true,
    "scrolled": true
   },
   "outputs": [],
   "source": [
    "# Analytical Tools\n",
    "import numpy as np\n",
    "import pandas as pd\n",
    "import scipy\n",
    "import matplotlib.pyplot as plt\n",
    "import seaborn as sns\n",
    "from scipy import stats\n",
    "\n",
    "# General Utilities\n",
    "import math\n",
    "import json\n",
    "import pprint\n",
    "import itertools\n",
    "import importlib\n",
    "\n",
    "# Custom Utilities\n",
    "import utilities.processing as processing\n",
    "import utilities.plotting as plotting\n",
    "import utilities.describe as describe\n",
    "\n",
    "# Make printing much more convenient\n",
    "log = pprint.pprint\n",
    "\n",
    "%matplotlib inline\n",
    "%config InlineBackend.figure_format = 'retina'"
   ]
  },
  {
   "cell_type": "markdown",
   "metadata": {},
   "source": [
    "### Loading Data"
   ]
  },
  {
   "cell_type": "code",
   "execution_count": 3,
   "metadata": {
    "collapsed": true
   },
   "outputs": [],
   "source": [
    "FILE_NAMES = [\n",
    "    'raw-data/question-setup-question-survey.json',\n",
    "    'raw-data/question-survey-entries.json'\n",
    "]\n",
    "\n",
    "with open(FILE_NAMES[0]) as file:\n",
    "    literals = json.load(file)\n",
    "\n",
    "q_text = literals['question_text']\n",
    "j_text = literals['judgement_text']\n",
    "QUESTIONS = {ques: 'q' + str(num) for num, ques in enumerate(q_text)}\n",
    "JUDGEMENTS = {judge: 'j' + str(num) for num, judge in enumerate(j_text)}"
   ]
  },
  {
   "cell_type": "code",
   "execution_count": 4,
   "metadata": {},
   "outputs": [
    {
     "data": {
      "text/plain": [
       "100"
      ]
     },
     "execution_count": 4,
     "metadata": {},
     "output_type": "execute_result"
    }
   ],
   "source": [
    "with open(FILE_NAMES[1]) as file:\n",
    "    master_responses = [json.loads(line) for line in file if line]\n",
    "# Study changed after the first 30 were collected\n",
    "real_responses = master_responses[30:]\n",
    "len(real_responses)"
   ]
  },
  {
   "cell_type": "markdown",
   "metadata": {},
   "source": [
    "### Reading Responses into Data\n",
    "Creates a `DataFrame` based on the survey data."
   ]
  },
  {
   "cell_type": "code",
   "execution_count": 5,
   "metadata": {
    "collapsed": true
   },
   "outputs": [],
   "source": [
    "# Create dictionary to represent future DataFrame\n",
    "num_questions = len(QUESTIONS)\n",
    "num_judgements = len(JUDGEMENTS)\n",
    "col_labels = processing.get_col_labels(num_questions,\n",
    "                                       num_judgements,\n",
    "                                       choice=False)\n",
    "data = {label: [] for label in col_labels}"
   ]
  },
  {
   "cell_type": "code",
   "execution_count": 6,
   "metadata": {
    "collapsed": true
   },
   "outputs": [],
   "source": [
    "processing.fill_question_survey_data(data,\n",
    "                                     real_responses,\n",
    "                                     QUESTIONS,\n",
    "                                     JUDGEMENTS)"
   ]
  },
  {
   "cell_type": "code",
   "execution_count": 7,
   "metadata": {},
   "outputs": [
    {
     "name": "stdout",
     "output_type": "stream",
     "text": [
      "6200\n"
     ]
    },
    {
     "data": {
      "text/html": [
       "<div>\n",
       "<style>\n",
       "    .dataframe thead tr:only-child th {\n",
       "        text-align: right;\n",
       "    }\n",
       "\n",
       "    .dataframe thead th {\n",
       "        text-align: left;\n",
       "    }\n",
       "\n",
       "    .dataframe tbody tr th {\n",
       "        vertical-align: top;\n",
       "    }\n",
       "</style>\n",
       "<table border=\"1\" class=\"dataframe\">\n",
       "  <thead>\n",
       "    <tr style=\"text-align: right;\">\n",
       "      <th></th>\n",
       "      <th>condition</th>\n",
       "      <th>consent</th>\n",
       "      <th>q0j0</th>\n",
       "      <th>q0j1</th>\n",
       "      <th>q0j2</th>\n",
       "      <th>q0j3</th>\n",
       "      <th>q0j4</th>\n",
       "      <th>q0score</th>\n",
       "      <th>q1j0</th>\n",
       "      <th>q1j1</th>\n",
       "      <th>...</th>\n",
       "      <th>q8j2</th>\n",
       "      <th>q8j3</th>\n",
       "      <th>q8j4</th>\n",
       "      <th>q8score</th>\n",
       "      <th>q9j0</th>\n",
       "      <th>q9j1</th>\n",
       "      <th>q9j2</th>\n",
       "      <th>q9j3</th>\n",
       "      <th>q9j4</th>\n",
       "      <th>q9score</th>\n",
       "    </tr>\n",
       "  </thead>\n",
       "  <tbody>\n",
       "    <tr>\n",
       "      <th>0</th>\n",
       "      <td>A</td>\n",
       "      <td>1</td>\n",
       "      <td>3</td>\n",
       "      <td>3</td>\n",
       "      <td>2</td>\n",
       "      <td>4</td>\n",
       "      <td>4</td>\n",
       "      <td>3381</td>\n",
       "      <td>4</td>\n",
       "      <td>3</td>\n",
       "      <td>...</td>\n",
       "      <td>3</td>\n",
       "      <td>2</td>\n",
       "      <td>2</td>\n",
       "      <td>32</td>\n",
       "      <td>4</td>\n",
       "      <td>3</td>\n",
       "      <td>4</td>\n",
       "      <td>3</td>\n",
       "      <td>3</td>\n",
       "      <td>29</td>\n",
       "    </tr>\n",
       "    <tr>\n",
       "      <th>1</th>\n",
       "      <td>A</td>\n",
       "      <td>1</td>\n",
       "      <td>4</td>\n",
       "      <td>4</td>\n",
       "      <td>2</td>\n",
       "      <td>5</td>\n",
       "      <td>2</td>\n",
       "      <td>3362</td>\n",
       "      <td>4</td>\n",
       "      <td>4</td>\n",
       "      <td>...</td>\n",
       "      <td>4</td>\n",
       "      <td>4</td>\n",
       "      <td>2</td>\n",
       "      <td>32</td>\n",
       "      <td>5</td>\n",
       "      <td>0</td>\n",
       "      <td>5</td>\n",
       "      <td>4</td>\n",
       "      <td>2</td>\n",
       "      <td>32</td>\n",
       "    </tr>\n",
       "    <tr>\n",
       "      <th>2</th>\n",
       "      <td>A</td>\n",
       "      <td>1</td>\n",
       "      <td>1</td>\n",
       "      <td>4</td>\n",
       "      <td>4</td>\n",
       "      <td>3</td>\n",
       "      <td>4</td>\n",
       "      <td>3365</td>\n",
       "      <td>2</td>\n",
       "      <td>4</td>\n",
       "      <td>...</td>\n",
       "      <td>4</td>\n",
       "      <td>3</td>\n",
       "      <td>3</td>\n",
       "      <td>37</td>\n",
       "      <td>5</td>\n",
       "      <td>2</td>\n",
       "      <td>5</td>\n",
       "      <td>4</td>\n",
       "      <td>4</td>\n",
       "      <td>26</td>\n",
       "    </tr>\n",
       "    <tr>\n",
       "      <th>3</th>\n",
       "      <td>A</td>\n",
       "      <td>1</td>\n",
       "      <td>2</td>\n",
       "      <td>1</td>\n",
       "      <td>1</td>\n",
       "      <td>2</td>\n",
       "      <td>1</td>\n",
       "      <td>3370</td>\n",
       "      <td>2</td>\n",
       "      <td>2</td>\n",
       "      <td>...</td>\n",
       "      <td>3</td>\n",
       "      <td>2</td>\n",
       "      <td>3</td>\n",
       "      <td>53</td>\n",
       "      <td>3</td>\n",
       "      <td>2</td>\n",
       "      <td>1</td>\n",
       "      <td>2</td>\n",
       "      <td>2</td>\n",
       "      <td>36</td>\n",
       "    </tr>\n",
       "    <tr>\n",
       "      <th>4</th>\n",
       "      <td>A</td>\n",
       "      <td>1</td>\n",
       "      <td>1</td>\n",
       "      <td>0</td>\n",
       "      <td>5</td>\n",
       "      <td>2</td>\n",
       "      <td>5</td>\n",
       "      <td>3370</td>\n",
       "      <td>3</td>\n",
       "      <td>4</td>\n",
       "      <td>...</td>\n",
       "      <td>5</td>\n",
       "      <td>4</td>\n",
       "      <td>0</td>\n",
       "      <td>23</td>\n",
       "      <td>4</td>\n",
       "      <td>2</td>\n",
       "      <td>6</td>\n",
       "      <td>5</td>\n",
       "      <td>0</td>\n",
       "      <td>29</td>\n",
       "    </tr>\n",
       "  </tbody>\n",
       "</table>\n",
       "<p>5 rows × 62 columns</p>\n",
       "</div>"
      ],
      "text/plain": [
       "  condition  consent  q0j0  q0j1  q0j2  q0j3  q0j4  q0score  q1j0  q1j1  \\\n",
       "0         A        1     3     3     2     4     4     3381     4     3   \n",
       "1         A        1     4     4     2     5     2     3362     4     4   \n",
       "2         A        1     1     4     4     3     4     3365     2     4   \n",
       "3         A        1     2     1     1     2     1     3370     2     2   \n",
       "4         A        1     1     0     5     2     5     3370     3     4   \n",
       "\n",
       "    ...     q8j2  q8j3  q8j4  q8score  q9j0  q9j1  q9j2  q9j3  q9j4  q9score  \n",
       "0   ...        3     2     2       32     4     3     4     3     3       29  \n",
       "1   ...        4     4     2       32     5     0     5     4     2       32  \n",
       "2   ...        4     3     3       37     5     2     5     4     4       26  \n",
       "3   ...        3     2     3       53     3     2     1     2     2       36  \n",
       "4   ...        5     4     0       23     4     2     6     5     0       29  \n",
       "\n",
       "[5 rows x 62 columns]"
      ]
     },
     "execution_count": 7,
     "metadata": {},
     "output_type": "execute_result"
    }
   ],
   "source": [
    "data = pd.DataFrame(data)\n",
    "print(data.size)\n",
    "data.head()"
   ]
  },
  {
   "cell_type": "markdown",
   "metadata": {},
   "source": [
    "### Analysizing Data\n",
    "\n",
    "We first split the data into two groups, one corresponding to those which received high scores for group A and one for those who received higher scores for group B. The groups themselves are in the constant section for reference, where the first five entries corresponding to group A and the last five to group B."
   ]
  },
  {
   "cell_type": "code",
   "execution_count": 8,
   "metadata": {},
   "outputs": [
    {
     "name": "stdout",
     "output_type": "stream",
     "text": [
      "6200 100\n"
     ]
    }
   ],
   "source": [
    "# Remove participants without consent\n",
    "data = data[data.consent == 1]\n",
    "print(data.size, len(data))\n",
    "# Creates useful lists\n",
    "sorted_question_labels = sorted(QUESTIONS.values())\n",
    "judgements_labels = sorted(JUDGEMENTS.values())\n",
    "group_a_question_labels = sorted_question_labels[:5]\n",
    "group_b_question_labels = sorted_question_labels[5:]"
   ]
  },
  {
   "cell_type": "code",
   "execution_count": 9,
   "metadata": {},
   "outputs": [
    {
     "data": {
      "text/html": [
       "<div>\n",
       "<style>\n",
       "    .dataframe thead tr:only-child th {\n",
       "        text-align: right;\n",
       "    }\n",
       "\n",
       "    .dataframe thead th {\n",
       "        text-align: left;\n",
       "    }\n",
       "\n",
       "    .dataframe tbody tr th {\n",
       "        vertical-align: top;\n",
       "    }\n",
       "</style>\n",
       "<table border=\"1\" class=\"dataframe\">\n",
       "  <thead>\n",
       "    <tr style=\"text-align: right;\">\n",
       "      <th></th>\n",
       "      <th>condition</th>\n",
       "      <th>consent</th>\n",
       "      <th>q0j0</th>\n",
       "      <th>q0j1</th>\n",
       "      <th>q0j2</th>\n",
       "      <th>q0j3</th>\n",
       "      <th>q0j4</th>\n",
       "      <th>q0score</th>\n",
       "      <th>q1j0</th>\n",
       "      <th>q1j1</th>\n",
       "      <th>...</th>\n",
       "      <th>j0_a_avg</th>\n",
       "      <th>j0_b_avg</th>\n",
       "      <th>j1_a_avg</th>\n",
       "      <th>j1_b_avg</th>\n",
       "      <th>j2_a_avg</th>\n",
       "      <th>j2_b_avg</th>\n",
       "      <th>j3_a_avg</th>\n",
       "      <th>j3_b_avg</th>\n",
       "      <th>j4_a_avg</th>\n",
       "      <th>j4_b_avg</th>\n",
       "    </tr>\n",
       "  </thead>\n",
       "  <tbody>\n",
       "    <tr>\n",
       "      <th>0</th>\n",
       "      <td>A</td>\n",
       "      <td>1</td>\n",
       "      <td>3</td>\n",
       "      <td>3</td>\n",
       "      <td>2</td>\n",
       "      <td>4</td>\n",
       "      <td>4</td>\n",
       "      <td>3381</td>\n",
       "      <td>4</td>\n",
       "      <td>3</td>\n",
       "      <td>...</td>\n",
       "      <td>3.2</td>\n",
       "      <td>3.2</td>\n",
       "      <td>2.8</td>\n",
       "      <td>3.2</td>\n",
       "      <td>2.2</td>\n",
       "      <td>2.8</td>\n",
       "      <td>3.2</td>\n",
       "      <td>3.2</td>\n",
       "      <td>2.8</td>\n",
       "      <td>2.6</td>\n",
       "    </tr>\n",
       "    <tr>\n",
       "      <th>1</th>\n",
       "      <td>A</td>\n",
       "      <td>1</td>\n",
       "      <td>4</td>\n",
       "      <td>4</td>\n",
       "      <td>2</td>\n",
       "      <td>5</td>\n",
       "      <td>2</td>\n",
       "      <td>3362</td>\n",
       "      <td>4</td>\n",
       "      <td>4</td>\n",
       "      <td>...</td>\n",
       "      <td>2.4</td>\n",
       "      <td>2.2</td>\n",
       "      <td>2.0</td>\n",
       "      <td>0.8</td>\n",
       "      <td>2.0</td>\n",
       "      <td>3.6</td>\n",
       "      <td>4.8</td>\n",
       "      <td>4.0</td>\n",
       "      <td>1.8</td>\n",
       "      <td>1.0</td>\n",
       "    </tr>\n",
       "    <tr>\n",
       "      <th>2</th>\n",
       "      <td>A</td>\n",
       "      <td>1</td>\n",
       "      <td>1</td>\n",
       "      <td>4</td>\n",
       "      <td>4</td>\n",
       "      <td>3</td>\n",
       "      <td>4</td>\n",
       "      <td>3365</td>\n",
       "      <td>2</td>\n",
       "      <td>4</td>\n",
       "      <td>...</td>\n",
       "      <td>2.6</td>\n",
       "      <td>3.6</td>\n",
       "      <td>2.6</td>\n",
       "      <td>1.6</td>\n",
       "      <td>4.2</td>\n",
       "      <td>4.2</td>\n",
       "      <td>3.4</td>\n",
       "      <td>4.2</td>\n",
       "      <td>3.2</td>\n",
       "      <td>3.0</td>\n",
       "    </tr>\n",
       "    <tr>\n",
       "      <th>3</th>\n",
       "      <td>A</td>\n",
       "      <td>1</td>\n",
       "      <td>2</td>\n",
       "      <td>1</td>\n",
       "      <td>1</td>\n",
       "      <td>2</td>\n",
       "      <td>1</td>\n",
       "      <td>3370</td>\n",
       "      <td>2</td>\n",
       "      <td>2</td>\n",
       "      <td>...</td>\n",
       "      <td>1.4</td>\n",
       "      <td>2.4</td>\n",
       "      <td>1.0</td>\n",
       "      <td>2.0</td>\n",
       "      <td>1.8</td>\n",
       "      <td>2.0</td>\n",
       "      <td>2.2</td>\n",
       "      <td>2.2</td>\n",
       "      <td>1.6</td>\n",
       "      <td>2.0</td>\n",
       "    </tr>\n",
       "    <tr>\n",
       "      <th>4</th>\n",
       "      <td>A</td>\n",
       "      <td>1</td>\n",
       "      <td>1</td>\n",
       "      <td>0</td>\n",
       "      <td>5</td>\n",
       "      <td>2</td>\n",
       "      <td>5</td>\n",
       "      <td>3370</td>\n",
       "      <td>3</td>\n",
       "      <td>4</td>\n",
       "      <td>...</td>\n",
       "      <td>1.6</td>\n",
       "      <td>2.0</td>\n",
       "      <td>1.0</td>\n",
       "      <td>1.4</td>\n",
       "      <td>4.6</td>\n",
       "      <td>4.0</td>\n",
       "      <td>3.8</td>\n",
       "      <td>4.6</td>\n",
       "      <td>5.0</td>\n",
       "      <td>0.0</td>\n",
       "    </tr>\n",
       "  </tbody>\n",
       "</table>\n",
       "<p>5 rows × 72 columns</p>\n",
       "</div>"
      ],
      "text/plain": [
       "  condition  consent  q0j0  q0j1  q0j2  q0j3  q0j4  q0score  q1j0  q1j1  \\\n",
       "0         A        1     3     3     2     4     4     3381     4     3   \n",
       "1         A        1     4     4     2     5     2     3362     4     4   \n",
       "2         A        1     1     4     4     3     4     3365     2     4   \n",
       "3         A        1     2     1     1     2     1     3370     2     2   \n",
       "4         A        1     1     0     5     2     5     3370     3     4   \n",
       "\n",
       "     ...     j0_a_avg  j0_b_avg  j1_a_avg  j1_b_avg  j2_a_avg  j2_b_avg  \\\n",
       "0    ...          3.2       3.2       2.8       3.2       2.2       2.8   \n",
       "1    ...          2.4       2.2       2.0       0.8       2.0       3.6   \n",
       "2    ...          2.6       3.6       2.6       1.6       4.2       4.2   \n",
       "3    ...          1.4       2.4       1.0       2.0       1.8       2.0   \n",
       "4    ...          1.6       2.0       1.0       1.4       4.6       4.0   \n",
       "\n",
       "   j3_a_avg  j3_b_avg  j4_a_avg  j4_b_avg  \n",
       "0       3.2       3.2       2.8       2.6  \n",
       "1       4.8       4.0       1.8       1.0  \n",
       "2       3.4       4.2       3.2       3.0  \n",
       "3       2.2       2.2       1.6       2.0  \n",
       "4       3.8       4.6       5.0       0.0  \n",
       "\n",
       "[5 rows x 72 columns]"
      ]
     },
     "execution_count": 9,
     "metadata": {},
     "output_type": "execute_result"
    }
   ],
   "source": [
    "# Insert group a and b averages for each person\n",
    "for j_num in judgements_labels:\n",
    "    group_a_columns = [q_num + j_num for q_num in group_a_question_labels]\n",
    "    group_b_columns = [q_num + j_num for q_num in group_b_question_labels]\n",
    "    group_a_averages = data[group_a_columns].mean(axis=1)\n",
    "    group_b_averages = data[group_b_columns].mean(axis=1)\n",
    "    data['{}_a_avg'.format(j_num)] = group_a_averages\n",
    "    data['{}_b_avg'.format(j_num)] = group_b_averages\n",
    "data.head()"
   ]
  },
  {
   "cell_type": "code",
   "execution_count": 10,
   "metadata": {},
   "outputs": [
    {
     "data": {
      "text/plain": [
       "(54, 46)"
      ]
     },
     "execution_count": 10,
     "metadata": {},
     "output_type": "execute_result"
    }
   ],
   "source": [
    "# Seperate into dataframes for each condition!\n",
    "high_a = data[data.condition == 'A']\n",
    "high_b = data[data.condition == 'B']\n",
    "a_size, b_size = len(high_a), len(high_b)\n",
    "a_size, b_size"
   ]
  },
  {
   "cell_type": "markdown",
   "metadata": {},
   "source": [
    "### Intial Analysis\n",
    "To get a feel for the raw data, we look at the average rating over the five questions in each group, for each judgement. We now have four groups: (1) group a questions with high scores, (2) group b questions with low scores, (3) group b questions with high scores, and (4) group a questions with low scores. Notice each participants either contributes data for groups (1) and (2) or (3) and (4) depending on which condition they were placed in.\n",
    "\n",
    "Below we roughly compare the group a questions with high vs low scores and group b question with high vs low score. This introduces variance between participants absolute rating scales as a confound, since a different group of people rate the question with high scores versus with low scores."
   ]
  },
  {
   "cell_type": "code",
   "execution_count": 11,
   "metadata": {},
   "outputs": [
    {
     "data": {
      "image/png": "[encoded data removed]",
      "text/plain": [
       "<matplotlib.figure.Figure at 0x11c8d7b70>"
      ]
     },
     "metadata": {
      "image/png": {
       "height": 263,
       "width": 375
      }
     },
     "output_type": "display_data"
    },
    {
     "data": {
      "image/png": "[encoded data removed]",
      "text/plain": [
       "<matplotlib.figure.Figure at 0x11c9cf588>"
      ]
     },
     "metadata": {
      "image/png": {
       "height": 263,
       "width": 384
      }
     },
     "output_type": "display_data"
    }
   ],
   "source": [
    "# Group A Rawe Plots\n",
    "PLOTTING_OPTIONS = {\n",
    "    'y_label': 'Ratings',\n",
    "    'ticks': ['Usefulness', 'Confidence', 'Curiosity',\n",
    "              'Writing', 'Popularity'],\n",
    "    'legend': ['Low Scores', 'High Scores'],\n",
    "    'title': 'Group A Questions'\n",
    "}\n",
    "\n",
    "high_avg, high_err = [], []\n",
    "low_avg, low_err = [], []\n",
    "for j_num in judgements_labels:\n",
    "    all_high_points = high_a['{}_a_avg'.format(j_num)]\n",
    "    all_low_points = high_b['{}_a_avg'.format(j_num)]\n",
    "    high_avg.append(all_high_points.mean())\n",
    "    high_err.append(all_high_points.std() / math.sqrt(a_size))\n",
    "    low_avg.append(all_low_points.mean())\n",
    "    low_err.append(all_low_points.std() / math.sqrt(b_size))\n",
    "\n",
    "plotting.plot_double_bar(low_avg, low_err, high_avg, high_err,\n",
    "                         **PLOTTING_OPTIONS)\n",
    "\n",
    "# Group B Raw Plots\n",
    "PLOTTING_OPTIONS = {\n",
    "    'y_label': 'Ratings',\n",
    "    'ticks': ['Usefulness', 'Confidence', 'Curiosity',\n",
    "              'Writing', 'Popularity'],\n",
    "    'legend': ['Low Scores', 'High Scores'],\n",
    "    'title': 'Group B Questions'\n",
    "}\n",
    "\n",
    "high_avg, high_err = [], []\n",
    "low_avg, low_err = [], []\n",
    "for j_num in judgements_labels:\n",
    "    all_high_points = high_b['{}_b_avg'.format(j_num)]\n",
    "    all_low_points = high_a['{}_b_avg'.format(j_num)]\n",
    "    high_avg.append(all_high_points.mean())\n",
    "    high_err.append(all_high_points.std() / math.sqrt(b_size))\n",
    "    low_avg.append(all_low_points.mean())\n",
    "    low_err.append(all_low_points.std() / math.sqrt(a_size))\n",
    "\n",
    "plotting.plot_double_bar(low_avg, low_err, high_avg, high_err,\n",
    "                         **PLOTTING_OPTIONS)"
   ]
  },
  {
   "cell_type": "markdown",
   "metadata": {},
   "source": [
    "### Paired Samples Test\n",
    "To remove this confound, we switch to a paired samples t-test, comparing the difference in ratings each person gave to higher rated questions versus lower rated question. Since each particpant is randomly assigned to the high a condition versus the high b condition, any bias from which question were given higher scores should wash out."
   ]
  },
  {
   "cell_type": "code",
   "execution_count": 12,
   "metadata": {},
   "outputs": [
    {
     "name": "stdout",
     "output_type": "stream",
     "text": [
      "Usefulness: t = -2.06, p = 0.042 (1 greater)\n",
      "Confidence: t = -0.442, p = 0.659 (1 greater)\n",
      "Curiosity: t = -3.25, p = 0.00159 (1 greater)\n",
      "Writing: t = -2.7, p = 0.00813 (1 greater)\n",
      "Popularity: t = -9.25, p = 4.63e-15 (1 greater)\n"
     ]
    },
    {
     "data": {
      "image/png": "[encoded data removed]",
      "text/plain": [
       "<matplotlib.figure.Figure at 0x11fe50da0>"
      ]
     },
     "metadata": {
      "image/png": {
       "height": 263,
       "width": 384
      }
     },
     "output_type": "display_data"
    }
   ],
   "source": [
    "PLOTTING_OPTIONS = {\n",
    "    'y_label': 'Ratings',\n",
    "    'ticks': ['Usefulness', 'Confidence', 'Curiosity',\n",
    "              'Writing', 'Popularity'],\n",
    "    'legend': ['Low Scores', 'High Scores'],\n",
    "    'title': 'All Questions'\n",
    "}\n",
    "\n",
    "high_avg, high_err = [], []\n",
    "low_avg, low_err = [], []\n",
    "for index, j_num in enumerate(judgements_labels):\n",
    "    all_high_points = np.concatenate((high_a['{}_a_avg'.format(j_num)],\n",
    "                                      high_b['{}_b_avg'.format(j_num)]))\n",
    "    all_low_points = np.concatenate((high_a['{}_b_avg'.format(j_num)],\n",
    "                                     high_b['{}_a_avg'.format(j_num)]))\n",
    "    high_avg.append(all_high_points.mean())\n",
    "    high_err.append(all_high_points.std() / math.sqrt(a_size))\n",
    "    low_avg.append(all_low_points.mean())\n",
    "    low_err.append(all_low_points.std() / math.sqrt(b_size))\n",
    "\n",
    "    print(describe.paired_t_test(all_low_points,\n",
    "                                 all_high_points,\n",
    "                                 PLOTTING_OPTIONS['ticks'][index]))\n",
    "\n",
    "plotting.plot_double_bar(low_avg, low_err, high_avg, high_err,\n",
    "                         **PLOTTING_OPTIONS)"
   ]
  },
  {
   "cell_type": "code",
   "execution_count": null,
   "metadata": {
    "collapsed": true
   },
   "outputs": [],
   "source": []
  }
 ],
 "metadata": {
  "kernelspec": {
   "display_name": "Python 3",
   "language": "python",
   "name": "python3"
  },
  "language_info": {
   "codemirror_mode": {
    "name": "ipython",
    "version": 3
   },
   "file_extension": ".py",
   "mimetype": "text/x-python",
   "name": "python",
   "nbconvert_exporter": "python",
   "pygments_lexer": "ipython3",
   "version": "3.6.1"
  }
 },
 "nbformat": 4,
 "nbformat_minor": 2
}
